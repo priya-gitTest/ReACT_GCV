{
 "cells": [
  {
   "cell_type": "code",
   "execution_count": 23,
   "metadata": {},
   "outputs": [],
   "source": [
    "import json, os\n",
    "from langid.langid import LanguageIdentifier, model\n",
    "from collections import Counter\n",
    "import matplotlib.pyplot as plt\n",
    "import matplotlib\n",
    "import numpy as np\n",
    "from functions import *"
   ]
  },
  {
   "cell_type": "code",
   "execution_count": 103,
   "metadata": {},
   "outputs": [],
   "source": [
    "base_path = \"/media/ruben/Data Drive/react-data/protest/carlo-batch-selection\"\n",
    "\n",
    "pages_json = dict()\n",
    "pages_scraped = dict()\n",
    "\n",
    "\n",
    "for photo in [d for d in os.listdir(base_path) if os.path.isdir(os.path.join(base_path, d))]:\n",
    "    pages_json.update({photo:[]})\n",
    "    pages_scraped.update({photo:[]})\n",
    "    \n",
    "    photo_folder = os.path.join(base_path, photo)\n",
    "    iter_folders = [os.path.join(photo_folder,f) for f in os.listdir(photo_folder) if \"_\" in f and os.path.isdir(os.path.join(photo_folder,f)) and \"source\" not in f]\n",
    "    \n",
    "    for f in iter_folders:\n",
    "        if \"html\" in os.listdir(f):\n",
    "            with open(os.path.join(photo_folder,f,\"html\",\"results.txt\"),'r') as fp:\n",
    "                results = fp.readlines()\n",
    "            if len(results) == 0:\n",
    "                continue\n",
    "            results = [[x.split('|')[0],x.split('|')[1].replace('\\n','')] for x in results]\n",
    "            results = [x[1] for x in results if os.path.isfile(x[0] + '.html')] \n",
    "            pages_scraped[photo] += results\n",
    "            \n",
    "            \n",
    "    for f in iter_folders:\n",
    "        json_files = [os.path.join(f,x) for x in os.listdir(f) if \".json\" in x]\n",
    "        \n",
    "        for js in json_files:\n",
    "            with open(js,'r') as fp:\n",
    "                jsf = json.load(fp)\n",
    "            if 'pagesWithMatchingImages' in jsf['responses'][0]['webDetection'].keys():\n",
    "                page_urls = [i['url'] for i in jsf['responses'][0]['webDetection']['pagesWithMatchingImages']]\n",
    "                pages_json[photo] += page_urls\n",
    "            else:\n",
    "                continue\n",
    "    pages_json[photo] = list(set(pages_json[photo]))"
   ]
  },
  {
   "cell_type": "code",
   "execution_count": 104,
   "metadata": {
    "scrolled": false
   },
   "outputs": [
    {
     "name": "stdout",
     "output_type": "stream",
     "text": [
      "Photo: 11 || Json: 73 || Scraped: 73\n",
      "Photo: 12 || Json: 84 || Scraped: 84\n",
      "Photo: 13 || Json: 135 || Scraped: 131\n",
      "Photo: 14 || Json: 267 || Scraped: 266\n",
      "Photo: 16 || Json: 54 || Scraped: 53\n",
      "Photo: 17 || Json: 51 || Scraped: 51\n",
      "Photo: 18 || Json: 59 || Scraped: 59\n",
      "Photo: 19 || Json: 22 || Scraped: 22\n",
      "Photo: 2 || Json: 160 || Scraped: 159\n",
      "Photo: 21 || Json: 380 || Scraped: 378\n",
      "Photo: 22 || Json: 45 || Scraped: 44\n",
      "Photo: 24 || Json: 26 || Scraped: 26\n",
      "Photo: 25 || Json: 107 || Scraped: 107\n",
      "Photo: 27 || Json: 97 || Scraped: 97\n",
      "Photo: 28 || Json: 324 || Scraped: 323\n",
      "Photo: 3 || Json: 572 || Scraped: 571\n",
      "Photo: 4 || Json: 29 || Scraped: 29\n",
      "Photo: 59 || Json: 54 || Scraped: 52\n",
      "Photo: 60 || Json: 177 || Scraped: 177\n",
      "Photo: 63 || Json: 20 || Scraped: 20\n",
      "Photo: 7 || Json: 781 || Scraped: 776\n",
      "Photo: 8 || Json: 51 || Scraped: 51\n",
      "Photo: 9 || Json: 32 || Scraped: 32\n"
     ]
    }
   ],
   "source": [
    "for k,v in pages_json.items():\n",
    "    print(\"Photo: {} || Json: {} || Scraped: {}\".format(k,len(v),len(pages_scraped[k])))"
   ]
  }
 ],
 "metadata": {
  "kernelspec": {
   "display_name": "Python 3",
   "language": "python",
   "name": "python3"
  },
  "language_info": {
   "codemirror_mode": {
    "name": "ipython",
    "version": 3
   },
   "file_extension": ".py",
   "mimetype": "text/x-python",
   "name": "python",
   "nbconvert_exporter": "python",
   "pygments_lexer": "ipython3",
   "version": "3.7.4"
  }
 },
 "nbformat": 4,
 "nbformat_minor": 2
}
