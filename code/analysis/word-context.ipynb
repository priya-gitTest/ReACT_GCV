{
 "cells": [
  {
   "cell_type": "code",
   "execution_count": 34,
   "metadata": {},
   "outputs": [],
   "source": [
    "from functions import *\n",
    "from random import sample\n",
    "import json\n",
    "from collections import Counter\n",
    "import matplotlib.pyplot as plt\n",
    "import matplotlib\n",
    "from tqdm import tqdm\n",
    "import operator\n",
    "import seaborn as sns\n",
    "from gensim.models import Word2Vec\n",
    "from gensim.models import KeyedVectors\n",
    "import re,string\n",
    "from nltk.tokenize import sent_tokenize\n",
    "import spacy\n",
    "import networkx as nx\n",
    "from nltk.corpus import stopwords\n",
    "from spacy import displacy\n",
    "\n",
    "spacy_d = {\"it\":\"it_core_news_sm\",\n",
    "           \"es\":\"es_core_news_sm\",\n",
    "           \"en\":\"en_core_web_sm\"}\n",
    "\n",
    "nlp = spacy.load(spacy_d['en'])"
   ]
  },
  {
   "cell_type": "code",
   "execution_count": 35,
   "metadata": {},
   "outputs": [],
   "source": [
    "base_path = \"/media/ruben/Data Drive/react-data/protest/{}\".format(\"carlo-batch-selection\")\n",
    "#base_path = \"D:/react-data/protest/{}\".format(\"carlo-batch-selection\")"
   ]
  },
  {
   "cell_type": "code",
   "execution_count": 36,
   "metadata": {},
   "outputs": [],
   "source": [
    "data = pd.read_csv(open('/media/ruben/FEF44259F44213F5/Users/Ruben/Documents/GitHub/ReACT_GCV/data/images_tables_article_carlo/data-full.csv'),engine='c')\n",
    "model = KeyedVectors.load_word2vec_format('/media/ruben/Data Drive/react-data/model.bin',binary=True)"
   ]
  },
  {
   "cell_type": "code",
   "execution_count": 40,
   "metadata": {},
   "outputs": [
    {
     "name": "stderr",
     "output_type": "stream",
     "text": [
      "/home/ruben/anaconda3/lib/python3.7/site-packages/ipykernel_launcher.py:1: DeprecationWarning: Call to deprecated `wv` (Attribute will be removed in 4.0.0, use self instead).\n",
      "  \"\"\"Entry point for launching an IPython kernel.\n"
     ]
    },
    {
     "data": {
      "text/plain": [
       "['attivisti',\n",
       " 'facinorosi',\n",
       " 'pro-morsi',\n",
       " 'pro-mur',\n",
       " 'militanti',\n",
       " 'estremisti',\n",
       " 'contromanifestanti',\n",
       " 'pacifisti']"
      ]
     },
     "execution_count": 40,
     "metadata": {},
     "output_type": "execute_result"
    }
   ],
   "source": [
    "[x[0] for x in model.wv.most_similar(['manifestanti','dimostranti','contestatori'],topn=8)]"
   ]
  },
  {
   "cell_type": "code",
   "execution_count": 41,
   "metadata": {},
   "outputs": [],
   "source": [
    "#violence_vocab = list(set([re.sub('[\\W_]+', '', k).lower() for k,v in dict(model.wv.most_similar('violenza',topn=500)).items() if v > 0.65]))\n",
    "violence_vocab = ['violenza','violenze','brutalità']\n",
    "violence_vocab = ['manifestanti','dimostranti','contestatori','attivisti','facinorosi','militanti']"
   ]
  },
  {
   "cell_type": "code",
   "execution_count": 42,
   "metadata": {},
   "outputs": [],
   "source": [
    "data['sentences'] = [\" \".join(str(x).split('||')) for x in list(data['sentences'])]"
   ]
  },
  {
   "cell_type": "code",
   "execution_count": 43,
   "metadata": {
    "scrolled": false
   },
   "outputs": [],
   "source": [
    "ss=[]\n",
    "\n",
    "for c,i in enumerate(data['sentences']):\n",
    "    if any(w in i for w in violence_vocab) and data['language'][c] == \"it\":\n",
    "        sentences = sent_tokenize(i)\n",
    "        sentences = [s for s in sentences if any(n in s.split(' ') for n in violence_vocab)]\n",
    "        \n",
    "        for sentence in sentences:\n",
    "            doc = nlp(sentence)\n",
    "            #print(doc)\n",
    "            docs = [[str(x.text),str(x.dep_),str(x.pos_),[str(child) for child in x.children]] for x in doc]\n",
    "            ss.append(docs)\n",
    "            continue\n",
    "            for xx in docs:\n",
    "                print(xx)\n",
    "            displacy.render(doc,style='dep',jupyter=True,options={'distance':65})\n",
    "            print('')\n",
    "            print('-------------------------')\n",
    "#            \n",
    "#             violence_deps = [dep for dep in docs if dep[0] in violence_vocab]\n",
    "            \n",
    "#             for vdep in violence_deps:\n",
    "#                 if vdep[1] == 'nsubj' :\n",
    "#                     roots = [dep[0] for dep in docs if vdep[0] in dep[3]]\n",
    "#                     print(\"{} is a subject of {}\".format(vdep[0],roots[0]))"
   ]
  },
  {
   "cell_type": "code",
   "execution_count": 44,
   "metadata": {},
   "outputs": [
    {
     "data": {
      "text/plain": [
       "987"
      ]
     },
     "execution_count": 44,
     "metadata": {},
     "output_type": "execute_result"
    }
   ],
   "source": [
    "len(ss)"
   ]
  },
  {
   "cell_type": "code",
   "execution_count": null,
   "metadata": {},
   "outputs": [],
   "source": []
  }
 ],
 "metadata": {
  "kernelspec": {
   "display_name": "Python 3",
   "language": "python",
   "name": "python3"
  },
  "language_info": {
   "codemirror_mode": {
    "name": "ipython",
    "version": 3
   },
   "file_extension": ".py",
   "mimetype": "text/x-python",
   "name": "python",
   "nbconvert_exporter": "python",
   "pygments_lexer": "ipython3",
   "version": "3.7.4"
  }
 },
 "nbformat": 4,
 "nbformat_minor": 2
}
