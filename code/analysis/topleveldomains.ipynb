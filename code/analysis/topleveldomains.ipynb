{
 "cells": [
  {
   "cell_type": "code",
   "execution_count": 1,
   "metadata": {},
   "outputs": [],
   "source": [
    "from functions import *\n",
    "from random import sample\n",
    "from htmldate import find_date\n",
    "from concurrent.futures import ThreadPoolExecutor\n",
    "from bs4 import BeautifulSoup\n",
    "import json\n",
    "from langid.langid import LanguageIdentifier, model\n",
    "from collections import Counter\n",
    "import matplotlib.pyplot as plt\n",
    "import matplotlib\n",
    "from purl import URL\n",
    "import re"
   ]
  },
  {
   "cell_type": "code",
   "execution_count": 2,
   "metadata": {},
   "outputs": [],
   "source": [
    "base_path = \"/media/ruben/Data Drive/react-data/protest/carlo-batch-selection\"\n",
    "\n",
    "\n",
    "# Get Publication Dates\n",
    "\n",
    "dates_ref = dict()\n",
    "\n",
    "for photo in [d for d in os.listdir(base_path) if os.path.isdir(os.path.join(base_path, d))]:\n",
    "    photo_folder = os.path.join(base_path, photo)\n",
    "    with open(os.path.join(photo_folder,\"dates.txt\"),'r') as f:\n",
    "        x = f.readlines()\n",
    "    dates_ref.update({d.split('|')[0]:d.split('|')[-1].replace('\\n','') for d in x if d.split('|')[-1].replace('\\n','') != \"na\" and \"ERROR\" not in d.split('|')[-1].replace('\\n','')})\n",
    "\n",
    "# Get URL-ID from entity files\n",
    "ids_ = dict()\n",
    "\n",
    "for photo in [d for d in os.listdir(base_path) if os.path.isdir(os.path.join(base_path, d))]:\n",
    "    photo_folder = os.path.join(base_path, photo)\n",
    "    \n",
    "    folders = [fol for fol in os.listdir(photo_folder) if os.path.isdir(os.path.join(photo_folder,fol)) and \"source\" not in fol and \"context\" not in fol]\n",
    "    \n",
    "    for f in folders:\n",
    "        fn = os.path.join(photo_folder, f, \"txt\",\"parsed_text.json\")\n",
    "\n",
    "        with open(fn) as fp:\n",
    "            file = json.load(fp)\n",
    "        \n",
    "        for id_ in file.keys():\n",
    "            \n",
    "            identif = id_.split(\"html_\")[0].split('html/')[-1][:-1]\n",
    "            url = id_.split(\"html_\")[1]\n",
    "            ids_.update({identif:url})"
   ]
  },
  {
   "cell_type": "code",
   "execution_count": 3,
   "metadata": {},
   "outputs": [],
   "source": [
    "tlds = []\n",
    "\n",
    "for id_,date in dates_ref.items():\n",
    "    year = date[0:4]\n",
    "    tld = URL.from_string(id_).domain()\n",
    "    tlds.append([tld,year,1])"
   ]
  },
  {
   "cell_type": "code",
   "execution_count": 11,
   "metadata": {},
   "outputs": [],
   "source": [
    "pd.DataFrame(Counter([t[0] for t in tlds]).most_common(50),columns=['tld','n']).to_csv('/media/ruben/FEF44259F44213F5/Users/Ruben/Documents/GitHub/ReACT_GCV/data/images_tables_article_2/top-level-domains.csv',index=False)"
   ]
  },
  {
   "cell_type": "code",
   "execution_count": 5,
   "metadata": {
    "collapsed": true
   },
   "outputs": [
    {
     "data": {
      "text/html": [
       "<div>\n",
       "<style scoped>\n",
       "    .dataframe tbody tr th:only-of-type {\n",
       "        vertical-align: middle;\n",
       "    }\n",
       "\n",
       "    .dataframe tbody tr th {\n",
       "        vertical-align: top;\n",
       "    }\n",
       "\n",
       "    .dataframe thead th {\n",
       "        text-align: right;\n",
       "    }\n",
       "</style>\n",
       "<table border=\"1\" class=\"dataframe\">\n",
       "  <thead>\n",
       "    <tr style=\"text-align: right;\">\n",
       "      <th></th>\n",
       "      <th>tld</th>\n",
       "      <th>n</th>\n",
       "    </tr>\n",
       "  </thead>\n",
       "  <tbody>\n",
       "    <tr>\n",
       "      <th>0</th>\n",
       "      <td>twitter.com</td>\n",
       "      <td>83</td>\n",
       "    </tr>\n",
       "    <tr>\n",
       "      <th>1</th>\n",
       "      <td>www.youtube.com</td>\n",
       "      <td>43</td>\n",
       "    </tr>\n",
       "    <tr>\n",
       "      <th>2</th>\n",
       "      <td>www.pinterest.com</td>\n",
       "      <td>28</td>\n",
       "    </tr>\n",
       "    <tr>\n",
       "      <th>3</th>\n",
       "      <td>www.facebook.com</td>\n",
       "      <td>28</td>\n",
       "    </tr>\n",
       "    <tr>\n",
       "      <th>4</th>\n",
       "      <td>www.militant-blog.org</td>\n",
       "      <td>24</td>\n",
       "    </tr>\n",
       "    <tr>\n",
       "      <th>...</th>\n",
       "      <td>...</td>\n",
       "      <td>...</td>\n",
       "    </tr>\n",
       "    <tr>\n",
       "      <th>145</th>\n",
       "      <td>luxwatch.ua</td>\n",
       "      <td>4</td>\n",
       "    </tr>\n",
       "    <tr>\n",
       "      <th>146</th>\n",
       "      <td>www.chrono24.tw</td>\n",
       "      <td>4</td>\n",
       "    </tr>\n",
       "    <tr>\n",
       "      <th>147</th>\n",
       "      <td>www.chrono24.de</td>\n",
       "      <td>4</td>\n",
       "    </tr>\n",
       "    <tr>\n",
       "      <th>148</th>\n",
       "      <td>www.petitegeneve.com</td>\n",
       "      <td>4</td>\n",
       "    </tr>\n",
       "    <tr>\n",
       "      <th>149</th>\n",
       "      <td>www.tourneau.com</td>\n",
       "      <td>4</td>\n",
       "    </tr>\n",
       "  </tbody>\n",
       "</table>\n",
       "<p>150 rows × 2 columns</p>\n",
       "</div>"
      ],
      "text/plain": [
       "                       tld   n\n",
       "0              twitter.com  83\n",
       "1          www.youtube.com  43\n",
       "2        www.pinterest.com  28\n",
       "3         www.facebook.com  28\n",
       "4    www.militant-blog.org  24\n",
       "..                     ...  ..\n",
       "145            luxwatch.ua   4\n",
       "146        www.chrono24.tw   4\n",
       "147        www.chrono24.de   4\n",
       "148   www.petitegeneve.com   4\n",
       "149       www.tourneau.com   4\n",
       "\n",
       "[150 rows x 2 columns]"
      ]
     },
     "execution_count": 5,
     "metadata": {},
     "output_type": "execute_result"
    }
   ],
   "source": [
    "pd.DataFrame(Counter([t[0] for t in tlds]).most_common(150),columns=['tld','n'])"
   ]
  },
  {
   "cell_type": "code",
   "execution_count": 83,
   "metadata": {},
   "outputs": [
    {
     "name": "stderr",
     "output_type": "stream",
     "text": [
      "/home/ruben/anaconda3/lib/python3.7/site-packages/ipykernel_launcher.py:17: SettingWithCopyWarning: \n",
      "A value is trying to be set on a copy of a slice from a DataFrame\n",
      "\n",
      "See the caveats in the documentation: https://pandas.pydata.org/pandas-docs/stable/user_guide/indexing.html#returning-a-view-versus-a-copy\n",
      "/home/ruben/anaconda3/lib/python3.7/site-packages/ipykernel_launcher.py:12: SettingWithCopyWarning: \n",
      "A value is trying to be set on a copy of a slice from a DataFrame\n",
      "\n",
      "See the caveats in the documentation: https://pandas.pydata.org/pandas-docs/stable/user_guide/indexing.html#returning-a-view-versus-a-copy\n",
      "  if sys.path[0] == '':\n",
      "/home/ruben/anaconda3/lib/python3.7/site-packages/ipykernel_launcher.py:9: SettingWithCopyWarning: \n",
      "A value is trying to be set on a copy of a slice from a DataFrame\n",
      "\n",
      "See the caveats in the documentation: https://pandas.pydata.org/pandas-docs/stable/user_guide/indexing.html#returning-a-view-versus-a-copy\n",
      "  if __name__ == '__main__':\n",
      "/home/ruben/anaconda3/lib/python3.7/site-packages/ipykernel_launcher.py:15: SettingWithCopyWarning: \n",
      "A value is trying to be set on a copy of a slice from a DataFrame\n",
      "\n",
      "See the caveats in the documentation: https://pandas.pydata.org/pandas-docs/stable/user_guide/indexing.html#returning-a-view-versus-a-copy\n",
      "  from ipykernel import kernelapp as app\n"
     ]
    }
   ],
   "source": [
    "# Diachronic Relative Frequency Blogs\n",
    "\n",
    "dfu = pd.DataFrame(tlds,columns=['tld','y','c']).groupby(['tld','y']).sum().reset_index()\n",
    "dfu['cat'] = \"\"\n",
    "\n",
    "for c,i in enumerate(dfu['tld']):\n",
    "        \n",
    "    if any(n in i for n in ['facebook','pinterest','instagram','twitter','myspace','foursquare','hyves','youtube','dailymotion']):\n",
    "        dfu['cat'][c] = \"social\"\n",
    "        \n",
    "    elif any(n in i for n in ['blog','wordpress']):\n",
    "        dfu['cat'][c] = \"blog\"\n",
    "        \n",
    "    elif any(n in i for n in \"news liberation iltabloid businessinsider aftonbladet aftenposten bbc guardian nytimes gazetta corriere repubblica isole24ore ilrestodelcarlino ilmessaggero nazione avvenire ilgiorno ilgiornale ilmattino italiaoggi ilfattoquotidiano libero laverita liberomilanonegozi iltempo\".split(' ')):\n",
    "        dfu['cat'][c] = \"news\"\n",
    "    else:\n",
    "        dfu['cat'][c] = \"other\""
   ]
  },
  {
   "cell_type": "code",
   "execution_count": 84,
   "metadata": {},
   "outputs": [],
   "source": [
    "dfr = []\n",
    "\n",
    "for i in list(set(dfu['y'])):\n",
    "    total = len(dfu[dfu['y'] == i])\n",
    "    blog = len(dfu[(dfu['y'] == i) & (dfu['cat'] == \"blog\")]) / total\n",
    "    social = len(dfu[(dfu['y'] == i) & (dfu['cat'] == \"social\")]) / total\n",
    "    news = len(dfu[(dfu['y'] == i) & (dfu['cat'] == \"news\")]) / total\n",
    "    other = len(dfu[(dfu['y'] == i) & (dfu['cat'] == \"other\")]) / total\n",
    "    dfr.append([i,total,blog,social,news,other])"
   ]
  },
  {
   "cell_type": "code",
   "execution_count": 85,
   "metadata": {},
   "outputs": [],
   "source": [
    "dfr = pd.DataFrame(dfr,columns = ['year','total','blog','social','news','other']).sort_values('year',ascending=True).reset_index(drop=True)"
   ]
  },
  {
   "cell_type": "code",
   "execution_count": 89,
   "metadata": {},
   "outputs": [
    {
     "data": {
      "text/plain": [
       "<matplotlib.axes._subplots.AxesSubplot at 0x7fd2a5090d50>"
      ]
     },
     "execution_count": 89,
     "metadata": {},
     "output_type": "execute_result"
    },
    {
     "data": {
      "image/png": "[encoded data removed]",
      "text/plain": [
       "<Figure size 720x504 with 1 Axes>"
      ]
     },
     "metadata": {
      "needs_background": "light"
     },
     "output_type": "display_data"
    }
   ],
   "source": [
    "dfr.plot.bar(x='year',y=['blog','social','news'],stacked=True,figsize=(10,7))"
   ]
  },
  {
   "cell_type": "code",
   "execution_count": 90,
   "metadata": {},
   "outputs": [
    {
     "data": {
      "text/html": [
       "<div>\n",
       "<style scoped>\n",
       "    .dataframe tbody tr th:only-of-type {\n",
       "        vertical-align: middle;\n",
       "    }\n",
       "\n",
       "    .dataframe tbody tr th {\n",
       "        vertical-align: top;\n",
       "    }\n",
       "\n",
       "    .dataframe thead th {\n",
       "        text-align: right;\n",
       "    }\n",
       "</style>\n",
       "<table border=\"1\" class=\"dataframe\">\n",
       "  <thead>\n",
       "    <tr style=\"text-align: right;\">\n",
       "      <th></th>\n",
       "      <th>tld</th>\n",
       "      <th>y</th>\n",
       "      <th>c</th>\n",
       "      <th>cat</th>\n",
       "    </tr>\n",
       "  </thead>\n",
       "  <tbody>\n",
       "    <tr>\n",
       "      <th>60</th>\n",
       "      <td>athens.indymedia.org</td>\n",
       "      <td>2003</td>\n",
       "      <td>2</td>\n",
       "      <td>other</td>\n",
       "    </tr>\n",
       "    <tr>\n",
       "      <th>285</th>\n",
       "      <td>genius.com</td>\n",
       "      <td>2003</td>\n",
       "      <td>3</td>\n",
       "      <td>other</td>\n",
       "    </tr>\n",
       "    <tr>\n",
       "      <th>495</th>\n",
       "      <td>open.spotify.com</td>\n",
       "      <td>2003</td>\n",
       "      <td>3</td>\n",
       "      <td>other</td>\n",
       "    </tr>\n",
       "    <tr>\n",
       "      <th>733</th>\n",
       "      <td>www.amazon.com</td>\n",
       "      <td>2003</td>\n",
       "      <td>1</td>\n",
       "      <td>other</td>\n",
       "    </tr>\n",
       "    <tr>\n",
       "      <th>853</th>\n",
       "      <td>www.declarepeace.org.uk</td>\n",
       "      <td>2003</td>\n",
       "      <td>1</td>\n",
       "      <td>other</td>\n",
       "    </tr>\n",
       "    <tr>\n",
       "      <th>1083</th>\n",
       "      <td>www.lestintorecheamleto.net</td>\n",
       "      <td>2003</td>\n",
       "      <td>1</td>\n",
       "      <td>other</td>\n",
       "    </tr>\n",
       "    <tr>\n",
       "      <th>1166</th>\n",
       "      <td>www.nrk.no</td>\n",
       "      <td>2003</td>\n",
       "      <td>1</td>\n",
       "      <td>other</td>\n",
       "    </tr>\n",
       "  </tbody>\n",
       "</table>\n",
       "</div>"
      ],
      "text/plain": [
       "                              tld     y  c    cat\n",
       "60           athens.indymedia.org  2003  2  other\n",
       "285                    genius.com  2003  3  other\n",
       "495              open.spotify.com  2003  3  other\n",
       "733                www.amazon.com  2003  1  other\n",
       "853       www.declarepeace.org.uk  2003  1  other\n",
       "1083  www.lestintorecheamleto.net  2003  1  other\n",
       "1166                   www.nrk.no  2003  1  other"
      ]
     },
     "execution_count": 90,
     "metadata": {},
     "output_type": "execute_result"
    }
   ],
   "source": [
    "dfu[dfu['y'] == \"2003\"]"
   ]
  },
  {
   "cell_type": "code",
   "execution_count": 88,
   "metadata": {},
   "outputs": [
    {
     "data": {
      "text/plain": [
       "[['guneslipazartesiler-blog.tumblr.com', '2011', 1],\n",
       " ['www.tumblr.com', '2017', 1],\n",
       " ['www.flickr.com', '2020', 1],\n",
       " ['www.tumblr.com', '2015', 1],\n",
       " ['www.tumblr.com', '2015', 1],\n",
       " ['routine-routine.tumblr.com', '2019', 1],\n",
       " ['sp1thas.tumblr.com', '2018', 1],\n",
       " ['nuovistilidinsonnia.tumblr.com', '2017', 1],\n",
       " ['sandimgetriebe.tumblr.com', '2017', 1],\n",
       " ['www.flickriver.com', '2007', 1],\n",
       " ['www.flickriver.com', '2010', 1],\n",
       " ['www.tumblr.com', '2019', 1],\n",
       " ['www.flickr.com', '2020', 1],\n",
       " ['www.flickr.com', '2020', 1],\n",
       " ['www.flickriver.com', '2007', 1],\n",
       " ['www.flickriver.com', '2007', 1],\n",
       " ['hellyeahanarchistposters.tumblr.com', '2019', 1],\n",
       " ['www.flickriver.com', '2007', 1],\n",
       " ['www.flickr.com', '2020', 1],\n",
       " ['italian-malmostoso.tumblr.com', '2020', 1],\n",
       " ['imgur.com', '2017', 1],\n",
       " ['supercazzolaprematurata.tumblr.com', '2020', 1]]"
      ]
     },
     "execution_count": 88,
     "metadata": {},
     "output_type": "execute_result"
    }
   ],
   "source": [
    "[t for t in tlds if any(n in t[0] for n in ['500px','imgur','flickr','tumblr'])]"
   ]
  },
  {
   "cell_type": "code",
   "execution_count": null,
   "metadata": {},
   "outputs": [],
   "source": []
  }
 ],
 "metadata": {
  "kernelspec": {
   "display_name": "Python 3",
   "language": "python",
   "name": "python3"
  },
  "language_info": {
   "codemirror_mode": {
    "name": "ipython",
    "version": 3
   },
   "file_extension": ".py",
   "mimetype": "text/x-python",
   "name": "python",
   "nbconvert_exporter": "python",
   "pygments_lexer": "ipython3",
   "version": "3.7.4"
  }
 },
 "nbformat": 4,
 "nbformat_minor": 2
}
