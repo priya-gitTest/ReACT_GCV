{
 "cells": [
  {
   "cell_type": "code",
   "execution_count": 1,
   "metadata": {},
   "outputs": [
    {
     "name": "stderr",
     "output_type": "stream",
     "text": [
      "/home/ruben/anaconda3/lib/python3.7/site-packages/statsmodels/tools/_testing.py:19: FutureWarning: pandas.util.testing is deprecated. Use the functions in the public API at pandas.testing instead.\n",
      "  import pandas.util.testing as tm\n"
     ]
    }
   ],
   "source": [
    "from functions import *\n",
    "from random import sample\n",
    "import json\n",
    "from collections import Counter\n",
    "import matplotlib.pyplot as plt\n",
    "import matplotlib\n",
    "from tqdm import tqdm\n",
    "import operator\n",
    "import seaborn as sns"
   ]
  },
  {
   "cell_type": "code",
   "execution_count": 2,
   "metadata": {},
   "outputs": [],
   "source": [
    "base_path = \"/media/ruben/Data Drive/react-data/protest/{}\".format(\"carlo-batch-selection\")\n",
    "#base_path = \"D:/react-data/protest/{}\".format(\"carlo-batch-selection\")"
   ]
  },
  {
   "cell_type": "code",
   "execution_count": 3,
   "metadata": {},
   "outputs": [],
   "source": [
    "data = pd.read_csv(open('/media/ruben/FEF44259F44213F5/Users/Ruben/Documents/GitHub/ReACT_GCV/data/images_tables_article_carlo/data-full.csv'),engine='c')"
   ]
  },
  {
   "cell_type": "code",
   "execution_count": 4,
   "metadata": {},
   "outputs": [
    {
     "name": "stderr",
     "output_type": "stream",
     "text": [
      "/home/ruben/anaconda3/lib/python3.7/site-packages/ipykernel_launcher.py:6: SettingWithCopyWarning: \n",
      "A value is trying to be set on a copy of a slice from a DataFrame\n",
      "\n",
      "See the caveats in the documentation: https://pandas.pydata.org/pandas-docs/stable/user_guide/indexing.html#returning-a-view-versus-a-copy\n",
      "  \n",
      "/home/ruben/anaconda3/lib/python3.7/site-packages/ipykernel_launcher.py:10: SettingWithCopyWarning: \n",
      "A value is trying to be set on a copy of a slice from a DataFrame\n",
      "\n",
      "See the caveats in the documentation: https://pandas.pydata.org/pandas-docs/stable/user_guide/indexing.html#returning-a-view-versus-a-copy\n",
      "  # Remove the CWD from sys.path while we load stuff.\n"
     ]
    }
   ],
   "source": [
    "data['year'] = \"\"\n",
    "\n",
    "for c,i in enumerate(data['date']):\n",
    "    i = str(i)\n",
    "    if i == 'na':\n",
    "        data['year'][c] = \"na\"\n",
    "    elif \"ERR\" in i:\n",
    "        data['year'][c] = \"na\"\n",
    "    else:\n",
    "        data['year'][c] = i[0:4]"
   ]
  },
  {
   "cell_type": "code",
   "execution_count": 38,
   "metadata": {},
   "outputs": [],
   "source": [
    "d = []\n",
    "\n",
    "for y in [year for year in list(set(data['year'])) if len(year) == 4 and int(year) > 2000]:\n",
    "    n_webpages = len(data[data['year'] == y]['url'])\n",
    "    n_webpages_unique = len(list(set(data[data['year'] == y]['url'])))\n",
    "    av_img_page = n_webpages / n_webpages_unique\n",
    "    \n",
    "    av_img_on_multiple = data[data['year'] == y]\n",
    "    av_img_on_multiple = av_img_on_multiple[av_img_on_multiple['url'].map(av_img_on_multiple['url'].value_counts()) > 1]\n",
    "    av_img_on_multiple = list(dict(Counter(av_img_on_multiple['url'])).values())\n",
    "    av_img_on_multiple = sum(av_img_on_multiple) / len(av_img_on_multiple)\n",
    "    d.append([y,av_img_page,n_webpages,n_webpages_unique,av_img_on_multiple])\n",
    "d = pd.DataFrame(d,columns=['y','av_img_page','n_webpages','n_webpages_unique','av_img_on_multiple']).sort_values('y')"
   ]
  },
  {
   "cell_type": "code",
   "execution_count": 43,
   "metadata": {},
   "outputs": [],
   "source": [
    "d.to_csv('/media/ruben/FEF44259F44213F5/Users/Ruben/Documents/GitHub/ReACT_GCV/data/images_tables_article_carlo/pages-multiple-images.csv',index=False)"
   ]
  },
  {
   "cell_type": "code",
   "execution_count": null,
   "metadata": {},
   "outputs": [],
   "source": []
  }
 ],
 "metadata": {
  "kernelspec": {
   "display_name": "Python 3",
   "language": "python",
   "name": "python3"
  },
  "language_info": {
   "codemirror_mode": {
    "name": "ipython",
    "version": 3
   },
   "file_extension": ".py",
   "mimetype": "text/x-python",
   "name": "python",
   "nbconvert_exporter": "python",
   "pygments_lexer": "ipython3",
   "version": "3.7.4"
  }
 },
 "nbformat": 4,
 "nbformat_minor": 2
}
