{
 "cells": [
  {
   "cell_type": "code",
   "execution_count": 1,
   "metadata": {},
   "outputs": [
    {
     "name": "stderr",
     "output_type": "stream",
     "text": [
      "/home/ruben/anaconda3/lib/python3.7/site-packages/statsmodels/tools/_testing.py:19: FutureWarning: pandas.util.testing is deprecated. Use the functions in the public API at pandas.testing instead.\n",
      "  import pandas.util.testing as tm\n"
     ]
    }
   ],
   "source": [
    "from random import sample\n",
    "import json\n",
    "from collections import Counter\n",
    "import matplotlib.pyplot as plt\n",
    "import matplotlib\n",
    "from tqdm import tqdm\n",
    "import operator\n",
    "import seaborn as sns\n",
    "import pandas as pd"
   ]
  },
  {
   "cell_type": "code",
   "execution_count": 2,
   "metadata": {},
   "outputs": [],
   "source": [
    "dataset = pd.read_csv('/media/ruben/FEF44259F44213F5/Users/Ruben/Documents/GitHub/ReACT_GCV/data/images_tables_article_carlo/data-full-dd-full.csv')"
   ]
  },
  {
   "cell_type": "code",
   "execution_count": 5,
   "metadata": {},
   "outputs": [
    {
     "name": "stdout",
     "output_type": "stream",
     "text": [
      "na http://giovannimaiello.blogspot.com/2011/07/10-anni-fa-lomicidio-carlo-giuliani-e.html\n",
      "----\n",
      "2011--07 http://giovannimaiello.blogspot.com/2011/07/\n",
      "----\n",
      "2020-04-24 https://madrixromacittaperta.noblogs.org/\n",
      "----\n",
      "2014-05-23 http://donatellaquattrone.altervista.org/category/genova-2001-2/\n",
      "----\n",
      "2017-07-19 http://www.lindiependente.it/genova-le-lacrime-di-luglio-dieci-anni-dopo/\n",
      "----\n",
      "2016-07-20 https://medium.com/@seideegiapulp/23-07-2011-genova-le-lacrime-di-luglio-dieci-anni-dopo-e79240d42f7f\n",
      "----\n",
      "2006-07-20 http://notimaz.blog.kataweb.it/2006/07/20/\n",
      "----\n",
      "na http://notimaz.blog.kataweb.it/2006/07/page/5/\n",
      "----\n",
      "2012-01-18 http://notimaz.blog.kataweb.it/tag/questione-morale/page/13/\n",
      "----\n",
      "2012-07-21 https://blog.libero.it/GenovaLuglio2001/view.php?id=GenovaLuglio2001&pag=4&gg=0&mm=0\n",
      "----\n",
      "2007-05-05 https://solleviamoci.wordpress.com/2007/05/05/\n",
      "----\n",
      "2016-07-30 http://pochestorie.corriere.it/2016/07/30/g8-genova-domande-senza-risposta-giorni-tortura/\n",
      "----\n",
      "2016-07-30 http://pochestorie.corriere.it/2016/07/30/g8-genova-domande-senza-risposta-giorni-tortura/feed/\n",
      "----\n",
      "2015-04-07 https://www.internazionale.it/notizie/nick-davies-2/2015/04/07/genova-g8-inchiesta\n",
      "----\n",
      "2019-07-26 https://www.forosperu.net/temas/2001recordando-represion-a-antiglobalizacion-en-genova.1355202/\n",
      "----\n",
      "2018-07-24 https://quotidianoalessandriaastionline.wordpress.com/2018/07/24/genova-genova-2001-la-democrazia-offesa-e-ferita-la-costituzione-calpestata-e-sospesa-nei-giorni-del-g8/\n",
      "----\n",
      "2019-07-20 https://www.infolibertaire.net/20-juillet-2001-carlo-giuliani-est-tue-par-la-police-au-contre-sommet-du-g8-de-genes/\n",
      "----\n",
      "2018-03-28 http://www.vittorio-vandelli.com/genoa-g8-summit-police-torture/\n",
      "----\n",
      "2017-02-03 http://www.osservatoriorepressione.info/18271-2/\n",
      "----\n",
      "2017-07-20 https://www.liberation.fr/planete/2017/07/20/g8-a-genes-des-manifestants-ont-ete-tortures-admet-le-chef-de-la-police-italienne_1585042\n",
      "----\n",
      "2007--12 http://osservatoriorepressione.blogspot.com/2007/12/\n",
      "----\n",
      "na http://osservatoriorepressione.blogspot.com/2007/?m=0\n",
      "----\n",
      "2007-12-16 http://www.osservatoriorepressione.info/g8-genova-una-ferita-ancora-aperta/\n",
      "----\n",
      "2001-01-01 http://spazioinwind.libero.it/stefania_renzo/gli_omicidi_di_stato.htm\n",
      "----\n",
      "2008-03-18 http://www.altrestorie.org/print.php?news.1115\n",
      "----\n",
      "2018-07-06 http://www.altrestorie.org/news.php?extend.1115\n",
      "----\n",
      "2017-07-21 https://ricercatorisenzapadroni.noblogs.org/post/2017/07/21/gabrielli-sul-g8-di-genova-ammissione-di-responsabilita-piena-di-omissioni/\n",
      "----\n",
      "2018-01-30 https://ricercatorisenzapadroni.noblogs.org/page/3/\n",
      "----\n",
      "2016-07-15 http://precari8.rssing.com/chan-6803395/all_p63.html\n",
      "----\n",
      "2020-01-01 http://habla410.rssing.com/chan-60630450/all_p336.html\n",
      "----\n",
      "2020-04-24 http://www.antimafiaduemila.com/home/di-la-tua/238-senti/66542-diaz-sedici-anni-fa-quando-in-italia-la-democrazia-fu-sospesa.html\n",
      "----\n",
      "2008-11-15 https://www.celestissima.org/vergogna/\n",
      "----\n",
      "2007-06-13 http://nuke.alkemia.com/Controinformazione/IgiornidelG8diGenova/tabid/484/Default.aspx\n",
      "----\n",
      "na https://petalidiloto.com/2018/04/g8-genova-il-vero-motivo-della-morte-di-carlo-giuliani.html\n",
      "----\n",
      "2018-09-04 https://www.versopolis.com/times/reportage/666/if-you-haven-t-heard-why-the-f-do-you-talk\n",
      "----\n",
      "2015-01-01 http://www.rivistapaginauno.it/g8-giuliani.php\n",
      "----\n",
      "2012-06-14 https://www.heise.de/tp/features/G8-Gipfel-in-Genua-Letzter-Akt-mit-hohen-Haftstrafen-3394564.html\n",
      "----\n",
      "2017-07-19 https://tg24.sky.it/cronaca/2017/07/19/g8-genova-scuola-diaz-reintegro-poliziotti.html\n",
      "----\n",
      "2017-07-19 https://video.sky.it/news/cronaca/g8-genova-scaduta-interdizione-poliziotti-verso-reintegro/v356293.vid\n",
      "----\n",
      "2016-10-15 http://docplayer.it/39095711-Riordino-e-contratto-le-nostre-priorita-convegno-nasce-la-costituente-dei-sindacati-autonomi-confederazione-sindacale-autonoma-di-polizia.html\n",
      "----\n",
      "2016-07-11 https://www.ilfattoquotidiano.it/in-edicola/articoli/2016/07/11/i-4-giorni-dellitalia-senza-democrazia/2895658/\n",
      "----\n",
      "2001-01-01 http://nuovacitta.tripod.com/artago01/g8.htm\n",
      "----\n",
      "2000-07-21 https://akj.rewi.hu-berlin.de/zeitung/01-2/genua.html\n",
      "----\n"
     ]
    }
   ],
   "source": [
    "kw1 = \"molotov\"\n",
    "# kw2 = \"ingiustificat\"\n",
    "\n",
    "ss = []\n",
    "\n",
    "for c,i in enumerate(dataset['sentences']):\n",
    "    if kw1 in str(i) and \"bolzan\" in str(i):\n",
    "        print(dataset['date'][c],dataset['url'][c])\n",
    "#         print(i)\n",
    "        print('----')\n",
    "        "
   ]
  },
  {
   "cell_type": "code",
   "execution_count": null,
   "metadata": {},
   "outputs": [],
   "source": [
    "for c,i in enumerate(dataset['sentences']):\n",
    "    if kw1 in str(i) and kw2 in str(i):\n",
    "        print(dataset['date'][c],dataset['photo'][c])"
   ]
  },
  {
   "cell_type": "code",
   "execution_count": null,
   "metadata": {},
   "outputs": [],
   "source": []
  }
 ],
 "metadata": {
  "kernelspec": {
   "display_name": "Python 3",
   "language": "python",
   "name": "python3"
  },
  "language_info": {
   "codemirror_mode": {
    "name": "ipython",
    "version": 3
   },
   "file_extension": ".py",
   "mimetype": "text/x-python",
   "name": "python",
   "nbconvert_exporter": "python",
   "pygments_lexer": "ipython3",
   "version": "3.7.4"
  }
 },
 "nbformat": 4,
 "nbformat_minor": 2
}
