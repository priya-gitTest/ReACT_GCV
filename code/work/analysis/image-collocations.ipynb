{
 "cells": [
  {
   "cell_type": "code",
   "execution_count": 1,
   "metadata": {},
   "outputs": [],
   "source": [
    "from functions import *\n",
    "from random import sample\n",
    "import json\n",
    "from collections import Counter\n",
    "import matplotlib.pyplot as plt\n",
    "import matplotlib\n",
    "import matplotlib.ticker as ticker\n",
    "import matplotlib.cm as cm\n",
    "import matplotlib as mpl\n",
    "import itertools\n"
   ]
  },
  {
   "cell_type": "code",
   "execution_count": 2,
   "metadata": {},
   "outputs": [],
   "source": [
    "#base_path = \"/media/ruben/Data Drive/react-data/protest/selection2\"\n",
    "base_path = \"D:/react-data/protest/selection2\"\n",
    "\n",
    "\n",
    "# Get URL-ID from entity files\n",
    "ids_ = dict()\n",
    "\n",
    "for photo in [d for d in os.listdir(base_path) if os.path.isdir(os.path.join(base_path, d))]:\n",
    "    photo_folder = os.path.join(base_path, photo)\n",
    "    photo_source = os.listdir(os.path.join(photo_folder,photo+'_'+\"source\"))[0]\n",
    "    photo = photo_source #os.path.join(photo_folder,photo+'_'+\"source\",photo_source)\n",
    "    if photo not in ids_.keys():\n",
    "        ids_.update({photo:list()})\n",
    "    \n",
    "    folders = [fol for fol in os.listdir(photo_folder) if os.path.isdir(os.path.join(photo_folder,fol)) and \"source\" not in fol and \"context\" not in fol]\n",
    "    \n",
    "    for f in folders:\n",
    "        fn = os.path.join(photo_folder, f, \"txt\",\"parsed_text.json\")\n",
    "\n",
    "        with open(fn) as fp:\n",
    "            file = json.load(fp)\n",
    "        \n",
    "        for id_ in file.keys():\n",
    "            \n",
    "            identif = id_.split(\"html_\")[0].split('html/')[-1][:-1]\n",
    "            url = id_.split(\"html_\")[1]\n",
    "            ids_[photo].append(url)"
   ]
  },
  {
   "cell_type": "code",
   "execution_count": 3,
   "metadata": {},
   "outputs": [],
   "source": [
    "st = []\n",
    "\n",
    "for photo,urls in ids_.items():\n",
    "    \n",
    "    for other_photo,other_urls in ids_.items():\n",
    "        \n",
    "        if photo == other_photo:\n",
    "            continue\n",
    "        else:\n",
    "            overlap = [u for u in urls if u in other_urls]\n",
    "            if len(overlap) > 1:\n",
    "                st.append([photo, other_photo,len(list(set(overlap)))])\n"
   ]
  },
  {
   "cell_type": "code",
   "execution_count": 4,
   "metadata": {},
   "outputs": [],
   "source": [
    "t = [[i[0].split('.')[0],i[1].split('.')[0],i[2]] for i in st]\n",
    "ttuples = [(i[0].split('.')[0],i[1].split('.')[0]) for i in st]"
   ]
  },
  {
   "cell_type": "code",
   "execution_count": 5,
   "metadata": {},
   "outputs": [],
   "source": [
    "seen = set()\n",
    "unique = []\n",
    "for x in ttuples:\n",
    "    srtd = tuple(sorted(x))\n",
    "    if srtd not in seen:\n",
    "        unique.append(x)\n",
    "        seen.add(srtd)\n"
   ]
  },
  {
   "cell_type": "code",
   "execution_count": 6,
   "metadata": {
    "scrolled": true
   },
   "outputs": [],
   "source": [
    "t2 = []\n",
    "\n",
    "for tup in seen:\n",
    "    source= tup[0]\n",
    "    target = tup[1]\n",
    "    weight = [x[2] for x in t if x[0] == source and x[1] == target][0]\n",
    "    t2.append([source,target,weight])"
   ]
  },
  {
   "cell_type": "code",
   "execution_count": 7,
   "metadata": {},
   "outputs": [],
   "source": [
    "t2 = pd.DataFrame(t2,columns = ['source','target','weight'])\n",
    "t2['weight'] = t2['weight'].astype(str)\n",
    "t2.to_csv('overlap-network-edges.csv',index=False)"
   ]
  },
  {
   "cell_type": "code",
   "execution_count": 8,
   "metadata": {},
   "outputs": [],
   "source": [
    "nodes = list(set([i[0] for i in st] + [i[1] for i in st]))\n",
    "nodes = [[i.split('.')[0],i] for i in nodes]"
   ]
  },
  {
   "cell_type": "code",
   "execution_count": 9,
   "metadata": {},
   "outputs": [],
   "source": [
    "n = pd.DataFrame(nodes,columns = ['id','image'])\n",
    "n.to_csv('overlap-network-nodes.csv',index=False)"
   ]
  },
  {
   "cell_type": "code",
   "execution_count": 35,
   "metadata": {},
   "outputs": [],
   "source": [
    "t = t.pivot(index='source',columns='target',values='weight').fillna(0)"
   ]
  },
  {
   "cell_type": "code",
   "execution_count": 38,
   "metadata": {},
   "outputs": [],
   "source": [
    "t.to_csv('image-collocations.csv',index=False)"
   ]
  },
  {
   "cell_type": "code",
   "execution_count": 15,
   "metadata": {},
   "outputs": [
    {
     "data": {
      "text/plain": [
       "<Figure size 432x288 with 0 Axes>"
      ]
     },
     "metadata": {},
     "output_type": "display_data"
    },
    {
     "data": {
      "image/png": "[encoded data removed]",
      "text/plain": [
       "<Figure size 2160x720 with 1 Axes>"
      ]
     },
     "metadata": {
      "needs_background": "light"
     },
     "output_type": "display_data"
    }
   ],
   "source": [
    "resdf2p = t.pivot(index='source',columns='target',values='weight')\n",
    "\n",
    "fig = plt.figure()\n",
    "fig, ax = plt.subplots(1,1, figsize=(30,10))\n",
    "heatplot = ax.imshow(resdf2p, cmap='GnBu')\n",
    "ax.set_xticklabels(resdf2p.columns)\n",
    "ax.set_yticklabels(resdf2p.index)\n",
    "\n",
    "tick_spacing = 1.02\n",
    "ax.xaxis.set_major_locator(ticker.MultipleLocator(tick_spacing))\n",
    "ax.yaxis.set_major_locator(ticker.MultipleLocator(tick_spacing))\n",
    "plt.ylabel('Years of Publication')\n",
    "plt.xlabel('Referenced Years')\n",
    "\n",
    "\n",
    "plt.show()"
   ]
  },
  {
   "cell_type": "code",
   "execution_count": null,
   "metadata": {},
   "outputs": [],
   "source": []
  }
 ],
 "metadata": {
  "kernelspec": {
   "display_name": "Python 3",
   "language": "python",
   "name": "python3"
  },
  "language_info": {
   "codemirror_mode": {
    "name": "ipython",
    "version": 3
   },
   "file_extension": ".py",
   "mimetype": "text/x-python",
   "name": "python",
   "nbconvert_exporter": "python",
   "pygments_lexer": "ipython3",
   "version": "3.6.5"
  }
 },
 "nbformat": 4,
 "nbformat_minor": 2
}
