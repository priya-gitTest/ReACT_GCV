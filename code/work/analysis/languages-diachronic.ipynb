{
 "cells": [
  {
   "cell_type": "code",
   "execution_count": 1,
   "metadata": {},
   "outputs": [],
   "source": [
    "from functions import *\n",
    "from random import sample\n",
    "from htmldate import find_date\n",
    "from concurrent.futures import ThreadPoolExecutor\n",
    "from bs4 import BeautifulSoup\n",
    "import json\n",
    "from langid.langid import LanguageIdentifier, model\n",
    "from collections import Counter\n",
    "import matplotlib.pyplot as plt\n",
    "import matplotlib\n",
    "import matplotlib.ticker as ticker\n",
    "import matplotlib.cm as cm\n",
    "import matplotlib as mpl\n",
    "\n",
    "%matplotlib inline"
   ]
  },
  {
   "cell_type": "code",
   "execution_count": 2,
   "metadata": {},
   "outputs": [],
   "source": [
    "base_path = \"/media/ruben/Data Drive/react-data/protest/carlo-batch-selection\"\n",
    "#base_path = \"D:/react-data/protest/carlo-batch\""
   ]
  },
  {
   "cell_type": "code",
   "execution_count": 4,
   "metadata": {},
   "outputs": [],
   "source": [
    "\n",
    "dates_ref = dict()\n",
    "\n",
    "for photo in [d for d in os.listdir(base_path) if os.path.isdir(os.path.join(base_path, d))]:\n",
    "    photo_folder = os.path.join(base_path, photo)\n",
    "    with open(os.path.join(photo_folder,\"dates.txt\"),'r') as f:\n",
    "        x = f.readlines()\n",
    "    dates_ref.update({d.split('|')[0]:d.split('|')[-1].replace('\\n','') for d in x if d.split('|')[-1].replace('\\n','') != \"na\" and \"ERROR\" not in d.split('|')[-1].replace('\\n','')})\n",
    "\n",
    "ids_ = dict()\n",
    "\n",
    "for photo in [d for d in os.listdir(base_path) if os.path.isdir(os.path.join(base_path, d))]:\n",
    "    photo_folder = os.path.join(base_path, photo)\n",
    "    \n",
    "    folders = [fol for fol in os.listdir(photo_folder) if os.path.isdir(os.path.join(photo_folder,fol)) and \"source\" not in fol and \"context\" not in fol]\n",
    "    \n",
    "    for f in folders:\n",
    "        fn = os.path.join(photo_folder, f, \"txt\",\"parsed_text.json\")\n",
    "\n",
    "        with open(fn) as fp:\n",
    "            file = json.load(fp)\n",
    "        \n",
    "        for id_ in file.keys():\n",
    "            \n",
    "            identif = id_.split(\"html_\")[0].split('html/')[-1][:-1]\n",
    "            url = id_.split(\"html_\")[1]\n",
    "            ids_.update({url:identif})"
   ]
  },
  {
   "cell_type": "code",
   "execution_count": 5,
   "metadata": {},
   "outputs": [],
   "source": [
    "# Open translation file\n",
    "refdf = pd.read_csv(\"/media/ruben/FEF44259F44213F5/Users/Ruben/Documents/GitHub/ReACT_GCV/data/images_tables_article_carlo/descriptive-full.csv\")\n",
    "refdf_title = dict(zip(refdf['image'],refdf['pretty_title']))\n",
    "#refdf_country = dict(zip(refdf['pretty_title'],refdf['country']))"
   ]
  },
  {
   "cell_type": "code",
   "execution_count": 25,
   "metadata": {},
   "outputs": [],
   "source": [
    "d_ = []\n",
    "for photo in [d for d in os.listdir(base_path) if os.path.isdir(os.path.join(base_path, d))]:\n",
    "    photo_folder = os.path.join(base_path, photo)\n",
    "    \n",
    "    with open(os.path.join(photo_folder,'languages-'+photo+\".json\"),'r') as f:\n",
    "        lang = json.load(f)\n",
    "    \n",
    "    languages = []\n",
    "    \n",
    "    for iterkey,items1 in lang.items():\n",
    "        \n",
    "        for id_, lan_items in items1.items():\n",
    "            \n",
    "            if id_ in dates_ref.keys():\n",
    "                date = dates_ref[id_]\n",
    "                language = lan_items[0]\n",
    "                \n",
    "                d_.append([refdf_title[int(photo)],language,date[0:4],1])\n",
    "            "
   ]
  },
  {
   "cell_type": "code",
   "execution_count": 95,
   "metadata": {},
   "outputs": [],
   "source": [
    "d = pd.DataFrame(d_,columns=['photo','lan','date','count'])\n",
    "d = d[['lan','date','count']]\n",
    "d = d.groupby(['lan','date']).sum().reset_index()\n",
    "df = d.pivot(index='date',columns='lan',values='count').fillna(0).reset_index()"
   ]
  },
  {
   "cell_type": "code",
   "execution_count": 96,
   "metadata": {},
   "outputs": [],
   "source": [
    "lan_counts = [[c,int(df[c].sum())] for c in list(df.columns)[1:]]\n",
    "lan_sel = [[l,c] for l,c in lan_counts if c > 100]\n",
    "other_lan = [l[0] for l in lan_counts if l[0] not in [x[0] for x in lan_sel]]"
   ]
  },
  {
   "cell_type": "code",
   "execution_count": 97,
   "metadata": {},
   "outputs": [],
   "source": [
    "#df['country'] = [refdf_country[c] for c in df.index]\n",
    "#dfs = df.groupby('country').sum()#.reset_index()\n",
    "dfs = df\n",
    "dfs['other'] = dfs[other_lan].sum(axis=1)\n",
    "dfs = dfs[['date']+ [i[0] for i in lan_sel] + ['other']]"
   ]
  },
  {
   "cell_type": "code",
   "execution_count": 88,
   "metadata": {
    "collapsed": true
   },
   "outputs": [
    {
     "data": {
      "text/plain": [
       "<matplotlib.axes._subplots.AxesSubplot at 0x7f0b6b4a42d0>"
      ]
     },
     "execution_count": 88,
     "metadata": {},
     "output_type": "execute_result"
    },
    {
     "data": {
      "image/png": "[encoded data removed]",
      "text/plain": [
       "<Figure size 1800x576 with 1 Axes>"
      ]
     },
     "metadata": {
      "needs_background": "light"
     },
     "output_type": "display_data"
    }
   ],
   "source": [
    "dfs.plot.bar(x='date',y=list(dfs.columns)[1:],stacked=True,figsize=(25,8))"
   ]
  },
  {
   "cell_type": "code",
   "execution_count": 98,
   "metadata": {},
   "outputs": [],
   "source": [
    "dfsr = dfs.T.reset_index()\n",
    "dfsr.columns = dfsr.iloc[0,:]\n",
    "dfsr = dfsr.iloc[1:,:]"
   ]
  },
  {
   "cell_type": "code",
   "execution_count": 99,
   "metadata": {},
   "outputs": [
    {
     "data": {
      "text/html": [
       "<div>\n",
       "<style scoped>\n",
       "    .dataframe tbody tr th:only-of-type {\n",
       "        vertical-align: middle;\n",
       "    }\n",
       "\n",
       "    .dataframe tbody tr th {\n",
       "        vertical-align: top;\n",
       "    }\n",
       "\n",
       "    .dataframe thead th {\n",
       "        text-align: right;\n",
       "    }\n",
       "</style>\n",
       "<table border=\"1\" class=\"dataframe\">\n",
       "  <thead>\n",
       "    <tr style=\"text-align: right;\">\n",
       "      <th></th>\n",
       "      <th>date</th>\n",
       "      <th>1999</th>\n",
       "      <th>2000</th>\n",
       "      <th>2001</th>\n",
       "      <th>2002</th>\n",
       "      <th>2003</th>\n",
       "      <th>2004</th>\n",
       "      <th>2005</th>\n",
       "      <th>2006</th>\n",
       "      <th>2007</th>\n",
       "      <th>...</th>\n",
       "      <th>2011</th>\n",
       "      <th>2012</th>\n",
       "      <th>2013</th>\n",
       "      <th>2014</th>\n",
       "      <th>2015</th>\n",
       "      <th>2016</th>\n",
       "      <th>2017</th>\n",
       "      <th>2018</th>\n",
       "      <th>2019</th>\n",
       "      <th>2020</th>\n",
       "    </tr>\n",
       "  </thead>\n",
       "  <tbody>\n",
       "    <tr>\n",
       "      <th>1</th>\n",
       "      <td>el</td>\n",
       "      <td>0</td>\n",
       "      <td>0</td>\n",
       "      <td>0</td>\n",
       "      <td>2</td>\n",
       "      <td>2</td>\n",
       "      <td>4</td>\n",
       "      <td>0</td>\n",
       "      <td>6</td>\n",
       "      <td>3</td>\n",
       "      <td>...</td>\n",
       "      <td>11</td>\n",
       "      <td>14</td>\n",
       "      <td>8</td>\n",
       "      <td>3</td>\n",
       "      <td>5</td>\n",
       "      <td>18</td>\n",
       "      <td>4</td>\n",
       "      <td>7</td>\n",
       "      <td>6</td>\n",
       "      <td>8</td>\n",
       "    </tr>\n",
       "    <tr>\n",
       "      <th>2</th>\n",
       "      <td>en</td>\n",
       "      <td>0</td>\n",
       "      <td>2</td>\n",
       "      <td>27</td>\n",
       "      <td>4</td>\n",
       "      <td>3</td>\n",
       "      <td>3</td>\n",
       "      <td>14</td>\n",
       "      <td>1</td>\n",
       "      <td>11</td>\n",
       "      <td>...</td>\n",
       "      <td>16</td>\n",
       "      <td>22</td>\n",
       "      <td>35</td>\n",
       "      <td>8</td>\n",
       "      <td>39</td>\n",
       "      <td>16</td>\n",
       "      <td>33</td>\n",
       "      <td>26</td>\n",
       "      <td>74</td>\n",
       "      <td>123</td>\n",
       "    </tr>\n",
       "    <tr>\n",
       "      <th>3</th>\n",
       "      <td>es</td>\n",
       "      <td>1</td>\n",
       "      <td>0</td>\n",
       "      <td>28</td>\n",
       "      <td>1</td>\n",
       "      <td>0</td>\n",
       "      <td>0</td>\n",
       "      <td>0</td>\n",
       "      <td>4</td>\n",
       "      <td>1</td>\n",
       "      <td>...</td>\n",
       "      <td>39</td>\n",
       "      <td>25</td>\n",
       "      <td>23</td>\n",
       "      <td>7</td>\n",
       "      <td>21</td>\n",
       "      <td>6</td>\n",
       "      <td>17</td>\n",
       "      <td>6</td>\n",
       "      <td>13</td>\n",
       "      <td>23</td>\n",
       "    </tr>\n",
       "    <tr>\n",
       "      <th>4</th>\n",
       "      <td>fr</td>\n",
       "      <td>0</td>\n",
       "      <td>1</td>\n",
       "      <td>7</td>\n",
       "      <td>0</td>\n",
       "      <td>0</td>\n",
       "      <td>0</td>\n",
       "      <td>0</td>\n",
       "      <td>1</td>\n",
       "      <td>0</td>\n",
       "      <td>...</td>\n",
       "      <td>4</td>\n",
       "      <td>3</td>\n",
       "      <td>2</td>\n",
       "      <td>4</td>\n",
       "      <td>3</td>\n",
       "      <td>9</td>\n",
       "      <td>10</td>\n",
       "      <td>10</td>\n",
       "      <td>43</td>\n",
       "      <td>12</td>\n",
       "    </tr>\n",
       "    <tr>\n",
       "      <th>5</th>\n",
       "      <td>it</td>\n",
       "      <td>0</td>\n",
       "      <td>1</td>\n",
       "      <td>51</td>\n",
       "      <td>6</td>\n",
       "      <td>1</td>\n",
       "      <td>11</td>\n",
       "      <td>1</td>\n",
       "      <td>39</td>\n",
       "      <td>29</td>\n",
       "      <td>...</td>\n",
       "      <td>115</td>\n",
       "      <td>48</td>\n",
       "      <td>55</td>\n",
       "      <td>50</td>\n",
       "      <td>94</td>\n",
       "      <td>110</td>\n",
       "      <td>165</td>\n",
       "      <td>84</td>\n",
       "      <td>111</td>\n",
       "      <td>192</td>\n",
       "    </tr>\n",
       "    <tr>\n",
       "      <th>6</th>\n",
       "      <td>other</td>\n",
       "      <td>0</td>\n",
       "      <td>11</td>\n",
       "      <td>62</td>\n",
       "      <td>1</td>\n",
       "      <td>7</td>\n",
       "      <td>7</td>\n",
       "      <td>0</td>\n",
       "      <td>11</td>\n",
       "      <td>11</td>\n",
       "      <td>...</td>\n",
       "      <td>51</td>\n",
       "      <td>28</td>\n",
       "      <td>39</td>\n",
       "      <td>29</td>\n",
       "      <td>48</td>\n",
       "      <td>48</td>\n",
       "      <td>60</td>\n",
       "      <td>46</td>\n",
       "      <td>90</td>\n",
       "      <td>210</td>\n",
       "    </tr>\n",
       "  </tbody>\n",
       "</table>\n",
       "<p>6 rows × 23 columns</p>\n",
       "</div>"
      ],
      "text/plain": [
       "0   date 1999 2000 2001 2002 2003 2004 2005 2006 2007  ... 2011 2012 2013  \\\n",
       "1     el    0    0    0    2    2    4    0    6    3  ...   11   14    8   \n",
       "2     en    0    2   27    4    3    3   14    1   11  ...   16   22   35   \n",
       "3     es    1    0   28    1    0    0    0    4    1  ...   39   25   23   \n",
       "4     fr    0    1    7    0    0    0    0    1    0  ...    4    3    2   \n",
       "5     it    0    1   51    6    1   11    1   39   29  ...  115   48   55   \n",
       "6  other    0   11   62    1    7    7    0   11   11  ...   51   28   39   \n",
       "\n",
       "0 2014 2015 2016 2017 2018 2019 2020  \n",
       "1    3    5   18    4    7    6    8  \n",
       "2    8   39   16   33   26   74  123  \n",
       "3    7   21    6   17    6   13   23  \n",
       "4    4    3    9   10   10   43   12  \n",
       "5   50   94  110  165   84  111  192  \n",
       "6   29   48   48   60   46   90  210  \n",
       "\n",
       "[6 rows x 23 columns]"
      ]
     },
     "execution_count": 99,
     "metadata": {},
     "output_type": "execute_result"
    }
   ],
   "source": [
    "dfsr"
   ]
  },
  {
   "cell_type": "code",
   "execution_count": 140,
   "metadata": {},
   "outputs": [],
   "source": [
    "dfsr2 = pd.DataFrame()\n",
    "dfsr2['date'] = dfsr['date']"
   ]
  },
  {
   "cell_type": "code",
   "execution_count": 141,
   "metadata": {},
   "outputs": [],
   "source": [
    "for i in list(dfsr.columns)[1:]:\n",
    "    co = pd.DataFrame([x / dfsr[i].sum() * 100 for x in dfsr[i]])\n",
    "    dfsr2[i] = co\n",
    "    \n",
    "dfsr2 = dfsr2.fillna(0)"
   ]
  },
  {
   "cell_type": "code",
   "execution_count": 148,
   "metadata": {},
   "outputs": [],
   "source": [
    "dfsr2 = dfsr2.T.reset_index()\n",
    "dfsr2.columns = dfsr2.iloc[0,:]\n",
    "dfsr2 = dfsr2.iloc[1:,:]"
   ]
  },
  {
   "cell_type": "code",
   "execution_count": 152,
   "metadata": {},
   "outputs": [
    {
     "data": {
      "text/plain": [
       "<matplotlib.axes._subplots.AxesSubplot at 0x7f0b691fc210>"
      ]
     },
     "execution_count": 152,
     "metadata": {},
     "output_type": "execute_result"
    },
    {
     "data": {
      "image/png": "[encoded data removed]",
      "text/plain": [
       "<Figure size 1440x720 with 1 Axes>"
      ]
     },
     "metadata": {
      "needs_background": "light"
     },
     "output_type": "display_data"
    }
   ],
   "source": [
    "dfsr2.plot.bar(x='date',y=list(dfsr2.columns)[1:],stacked=True,figsize=(20,10))"
   ]
  },
  {
   "cell_type": "code",
   "execution_count": null,
   "metadata": {},
   "outputs": [],
   "source": []
  }
 ],
 "metadata": {
  "kernelspec": {
   "display_name": "Python 3",
   "language": "python",
   "name": "python3"
  },
  "language_info": {
   "codemirror_mode": {
    "name": "ipython",
    "version": 3
   },
   "file_extension": ".py",
   "mimetype": "text/x-python",
   "name": "python",
   "nbconvert_exporter": "python",
   "pygments_lexer": "ipython3",
   "version": "3.7.4"
  }
 },
 "nbformat": 4,
 "nbformat_minor": 2
}
