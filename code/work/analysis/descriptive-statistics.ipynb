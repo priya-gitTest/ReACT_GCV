{
 "cells": [
  {
   "cell_type": "code",
   "execution_count": 1,
   "metadata": {},
   "outputs": [],
   "source": [
    "from functions import *\n",
    "from random import sample\n",
    "from htmldate import find_date\n",
    "from concurrent.futures import ThreadPoolExecutor\n",
    "from bs4 import BeautifulSoup\n",
    "import json\n",
    "from langid.langid import LanguageIdentifier, model\n",
    "from collections import Counter\n",
    "import matplotlib.pyplot as plt\n",
    "import matplotlib"
   ]
  },
  {
   "cell_type": "code",
   "execution_count": 6,
   "metadata": {
    "collapsed": true
   },
   "outputs": [
    {
     "name": "stdout",
     "output_type": "stream",
     "text": [
      "1 ['1_1', '1_2']\n",
      "10 ['10_1', '10_2']\n",
      "12 ['12_1', '12_2', '12_3', '12_4', '12_5']\n",
      "13 ['13_1', '13_2', '13_3']\n",
      "14 ['14_1']\n",
      "15 ['15_1', '15_2']\n",
      "2 ['2_1', '2_2']\n",
      "24 ['24_1', '24_2']\n",
      "29 ['29_1', '29_2', '29_3', '29_4']\n",
      "30 ['30_1', '30_2']\n",
      "5 ['5_1', '5_2']\n",
      "7 ['7_1', '7_2']\n",
      "8 ['8_1', '8_2', '8_3', '8_4']\n",
      "9 ['9_1', '9_2', '9_3']\n",
      "Athens ['Athens_1', 'Athens_2']\n",
      "Barcelona ['Barcelona_1', 'Barcelona_2']\n",
      "Berlin ['Berlin_1', 'Berlin_2']\n",
      "Copenhagen ['Copenhagen_1', 'Copenhagen_2']\n",
      "HalifaxNS ['HalifaxNS_1', 'HalifaxNS_2']\n",
      "London ['London_1', 'London_2']\n",
      "London4 ['London4_1', 'London4_2']\n",
      "Rafah ['Rafah_1', 'Rafah_2', 'Rafah_3', 'Rafah_4', 'Rafah_5']\n",
      "Rome2 ['Rome2_1', 'Rome2_2', 'Rome2_3', 'Rome2_4', 'Rome2_5']\n",
      "Rome3 ['Rome3_1', 'Rome3_2']\n",
      "SanFranciscoCA ['SanFranciscoCA_1', 'SanFranciscoCA_2']\n",
      "SouthAfrica ['SouthAfrica_1', 'SouthAfrica_2']\n"
     ]
    }
   ],
   "source": [
    "# Number of Webpages\n",
    "base_path = \"/media/ruben/Data Drive/react-data/protest/selection2\"\n",
    "\n",
    "dt = dict()\n",
    "for photo in [d for d in os.listdir(base_path) if os.path.isdir(os.path.join(base_path, d))]:\n",
    "    photo_folder = os.path.join(base_path, photo)\n",
    "    dt.update({photo:0})\n",
    "\n",
    "    folders = [fol for fol in os.listdir(photo_folder) if os.path.isdir(os.path.join(photo_folder,fol)) and \"source\" not in fol and \"context\" not in fol]\n",
    "    print(photo, folders)\n",
    "    \n",
    "    for fol in folders:\n",
    "            htmls = [f for f in os.listdir(os.path.join(photo_folder,fol,\"html\")) if \".html\" in f]\n",
    "            dt[photo] += len(htmls)\n",
    "\n",
    "d = pd.DataFrame(dt.items(),columns = ['image','n_webpages'])\n",
    "d = d.sort_values('image',ascending=False)"
   ]
  },
  {
   "cell_type": "code",
   "execution_count": 7,
   "metadata": {},
   "outputs": [],
   "source": [
    "# Number of Scrape-Images\n",
    "dt = dict()\n",
    "for photo in [d for d in os.listdir(base_path) if os.path.isdir(os.path.join(base_path, d))]:\n",
    "    photo_folder = os.path.join(base_path, photo)\n",
    "    dt.update({photo:0})\n",
    "\n",
    "    folders = [fol for fol in os.listdir(photo_folder) if os.path.isdir(os.path.join(photo_folder,fol)) and \"source\" not in fol and \"context\" not in fol]\n",
    "\n",
    "    for fol in folders[:-1]:\n",
    "        htmls = len([f for f in os.listdir(os.path.join(photo_folder,fol,\"img\")) if \".txt\" not in f])\n",
    "        if htmls == 0:\n",
    "            dt[photo] += 1\n",
    "        else:\n",
    "            dt[photo] += htmls\n",
    "            \n",
    "d2 = pd.DataFrame(dt.items(),columns = ['image','n_scrape-images'])\n",
    "d2 = d2.sort_values('image',ascending=False)\n",
    "d['n_scrape-images'] = d2['n_scrape-images'] + 1\n",
    "d['scrape-ratio'] = 1 - round(d['n_scrape-images'] / d['n_webpages'],2)\n",
    "d = d.sort_values('image',ascending=False) "
   ]
  },
  {
   "cell_type": "code",
   "execution_count": 8,
   "metadata": {},
   "outputs": [],
   "source": [
    "# Number of Text-Scraped Pages\n",
    "dt = dict()\n",
    "for photo in [d for d in os.listdir(base_path) if os.path.isdir(os.path.join(base_path, d))]:\n",
    "        photo_folder = os.path.join(base_path, photo)\n",
    "        dt.update({photo:0})\n",
    "        \n",
    "        folders = [fol for fol in os.listdir(photo_folder) if os.path.isdir(os.path.join(photo_folder,fol)) and \"source\" not in fol and \"context\" not in fol]\n",
    "        \n",
    "        for fol in folders:\n",
    "            text_jsons = [f for f in os.listdir(os.path.join(photo_folder,fol,\"txt\")) if \".json\" in f]\n",
    "            \n",
    "            for js in text_jsons:\n",
    "                fn = os.path.join(photo_folder,fol,\"txt\",js)\n",
    "                with open(fn,'r') as fp:\n",
    "                    js = json.load(fp)\n",
    "                    list_sentences = [v for k,v in js.items()]\n",
    "                    list_sentences = [len(item) for sublist in list_sentences for item in sublist]\n",
    "                    dt[photo] += sum(list_sentences)\n",
    "                    \n",
    "d3 = pd.DataFrame(dt.items(),columns = ['image','n_scraped-text-characters'])\n",
    "d3 = d3.sort_values('image',ascending=False)\n",
    "d['n_scraped-text-characters'] = d3['n_scraped-text-characters']\n",
    "d['char-page-ratio'] = round(d['n_scraped-text-characters'] / d['n_webpages'],2)"
   ]
  },
  {
   "cell_type": "code",
   "execution_count": 9,
   "metadata": {},
   "outputs": [],
   "source": [
    "# Number of Context-Images\n",
    "\n",
    "dt = dict()\n",
    "for photo in [d for d in os.listdir(base_path) if os.path.isdir(os.path.join(base_path, d))]:\n",
    "        photo_folder = os.path.join(base_path, photo)\n",
    "        dt.update({photo:0})\n",
    "        \n",
    "        cimgs = [f for f in os.listdir(os.path.join(photo_folder,\"context_images\")) if \".txt\" not in f]\n",
    "        dt[photo] += len(cimgs)\n",
    "        \n",
    "d4 = pd.DataFrame(dt.items(),columns = ['image','n_context-images'])\n",
    "d4 = d4.sort_values('image',ascending=False)\n",
    "d['n_context-images'] = d4['n_context-images']"
   ]
  },
  {
   "cell_type": "code",
   "execution_count": 10,
   "metadata": {},
   "outputs": [],
   "source": [
    "# Number of Dates\n",
    "\n",
    "dt = dict()\n",
    "for photo in [d for d in os.listdir(base_path) if os.path.isdir(os.path.join(base_path, d))]:\n",
    "        photo_folder = os.path.join(base_path, photo)\n",
    "        dt.update({photo:0})\n",
    "        \n",
    "        with open(os.path.join(base_path,photo,\"dates.txt\"), 'r') as f:\n",
    "            dates = f.readlines()\n",
    "            dates = [d for d in dates if d.split('|')[1].replace('\\n','') != \"na\" and \"ERROR\" not in d.split('|')[1]]\n",
    "            dt[photo] += len(dates)\n",
    "d5 = pd.DataFrame(dt.items(),columns = ['image','n_dates'])\n",
    "d5 = d5.sort_values('image',ascending=False)\n",
    "d['n_dates'] = d5['n_dates']"
   ]
  },
  {
   "cell_type": "code",
   "execution_count": 11,
   "metadata": {},
   "outputs": [],
   "source": [
    "# Export\n",
    "\n",
    "d.to_csv('descriptive-full.csv',index=False)"
   ]
  },
  {
   "cell_type": "code",
   "execution_count": 174,
   "metadata": {},
   "outputs": [],
   "source": [
    "# Languages\n",
    "\n",
    "dt = pd.DataFrame()\n",
    "\n",
    "for photo in [d for d in os.listdir(base_path) if os.path.isdir(os.path.join(base_path, d))]:\n",
    "    photo_folder = os.path.join(base_path, photo)\n",
    "    \n",
    "    with open(os.path.join(photo_folder,'languages-'+photo+\".json\"),'r') as f:\n",
    "        lang = json.load(f)\n",
    "        lang = lang['1']\n",
    "        lang = dict(Counter([v[0] for k,v in lang.items()]))\n",
    "        lang = pd.DataFrame(list(lang.items()))\n",
    "        lang['photo'] = photo\n",
    "    dt = dt.append(lang)\n",
    "dt.columns = ['lang','count','photo']\n",
    "d6 = dt.pivot(index=\"photo\",columns=\"lang\",values=\"count\").reset_index().fillna(0)"
   ]
  },
  {
   "cell_type": "code",
   "execution_count": null,
   "metadata": {},
   "outputs": [],
   "source": []
  }
 ],
 "metadata": {
  "kernelspec": {
   "display_name": "Python 3",
   "language": "python",
   "name": "python3"
  },
  "language_info": {
   "codemirror_mode": {
    "name": "ipython",
    "version": 3
   },
   "file_extension": ".py",
   "mimetype": "text/x-python",
   "name": "python",
   "nbconvert_exporter": "python",
   "pygments_lexer": "ipython3",
   "version": "3.7.4"
  }
 },
 "nbformat": 4,
 "nbformat_minor": 2
}
