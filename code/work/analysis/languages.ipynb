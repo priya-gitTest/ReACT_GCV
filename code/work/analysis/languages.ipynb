{
 "cells": [
  {
   "cell_type": "code",
   "execution_count": 1,
   "metadata": {},
   "outputs": [],
   "source": [
    "from functions import *\n",
    "from random import sample\n",
    "from htmldate import find_date\n",
    "from concurrent.futures import ThreadPoolExecutor\n",
    "from bs4 import BeautifulSoup\n",
    "import json\n",
    "from langid.langid import LanguageIdentifier, model\n",
    "from collections import Counter\n",
    "import matplotlib.pyplot as plt\n",
    "import matplotlib\n",
    "import matplotlib.ticker as ticker\n",
    "import matplotlib.cm as cm\n",
    "import matplotlib as mpl\n",
    "\n",
    "%matplotlib inline"
   ]
  },
  {
   "cell_type": "code",
   "execution_count": 2,
   "metadata": {},
   "outputs": [],
   "source": [
    "base_path = \"/media/ruben/Data Drive/react-data/npg\"\n",
    "#base_path = \"D:/react-data/protest/carlo-batch\""
   ]
  },
  {
   "cell_type": "code",
   "execution_count": 3,
   "metadata": {},
   "outputs": [],
   "source": [
    "# Get Publication Dates\n",
    "\n",
    "# dates_ref = dict()\n",
    "\n",
    "# for photo in [d for d in os.listdir(base_path) if os.path.isdir(os.path.join(base_path, d))]:\n",
    "#     photo_folder = os.path.join(base_path, photo)\n",
    "#     with open(os.path.join(photo_folder,\"dates.txt\"),'r') as f:\n",
    "#         x = f.readlines()\n",
    "#     dates_ref.update({d.split('|')[0]:d.split('|')[-1].replace('\\n','') for d in x if d.split('|')[-1].replace('\\n','') != \"na\" and \"ERROR\" not in d.split('|')[-1].replace('\\n','')})\n",
    "\n",
    "# Get URL-ID from entity files\n",
    "ids_ = dict()\n",
    "\n",
    "for photo in [d for d in os.listdir(base_path) if os.path.isdir(os.path.join(base_path, d))]:\n",
    "    photo_folder = os.path.join(base_path, photo)\n",
    "    \n",
    "    folders = [fol for fol in os.listdir(photo_folder) if os.path.isdir(os.path.join(photo_folder,fol)) and \"source\" not in fol and \"context\" not in fol]\n",
    "    \n",
    "    for f in folders:\n",
    "        fn = os.path.join(photo_folder, f, \"txt\",\"parsed_text.json\")\n",
    "\n",
    "        with open(fn) as fp:\n",
    "            file = json.load(fp)\n",
    "        \n",
    "        for id_ in file.keys():\n",
    "            \n",
    "            identif = id_.split(\"html_\")[0].split('html/')[-1][:-1]\n",
    "            url = id_.split(\"html_\")[1]\n",
    "            ids_.update({url:identif})"
   ]
  },
  {
   "cell_type": "code",
   "execution_count": 5,
   "metadata": {},
   "outputs": [],
   "source": [
    "# Open translation file\n",
    "refdf = pd.read_csv(\"/media/ruben/FEF44259F44213F5/Users/Ruben/Documents/GitHub/ReACT_GCV/data/images_tables_article_carlo/descriptive-full.csv\")\n",
    "refdf_title = dict(zip(refdf['image'],refdf['pretty_title']))\n",
    "#refdf_country = dict(zip(refdf['pretty_title'],refdf['country']))"
   ]
  },
  {
   "cell_type": "code",
   "execution_count": 4,
   "metadata": {},
   "outputs": [],
   "source": [
    "d_ = dict()\n",
    "for photo in [d for d in os.listdir(base_path) if os.path.isdir(os.path.join(base_path, d))]:\n",
    "    photo_folder = os.path.join(base_path, photo)\n",
    "    \n",
    "    with open(os.path.join(photo_folder,'languages-'+photo+\".json\"),'r') as f:\n",
    "        lang = json.load(f)\n",
    "    \n",
    "    languages = []\n",
    "    \n",
    "    for iterkey,items1 in lang.items():\n",
    "        languages += [v[0] for k,v in items1.items()]\n",
    "    \n",
    "    languages = dict(Counter(languages))\n",
    "    #pretty_title = refdf_title[photo]\n",
    "    d_.update({photo:languages})"
   ]
  },
  {
   "cell_type": "code",
   "execution_count": 5,
   "metadata": {},
   "outputs": [],
   "source": [
    "d_ = [[[photo,lan,score]for lan,score in items1.items()] for photo,items1 in d_.items()]\n",
    "d_ = [item for sublist in d_ for item in sublist]\n",
    "df = pd.DataFrame(d_,columns=['photo','lan','count'])\n",
    "df = df.pivot(index='photo',columns='lan',values='count').fillna(0)\n",
    "#df.to_csv('/media/ruben/FEF44259F44213F5/Users/Ruben/Documents/GitHub/ReACT_GCV/data/images_tables_article/languages-per-photo.csv')"
   ]
  },
  {
   "cell_type": "code",
   "execution_count": 6,
   "metadata": {},
   "outputs": [],
   "source": [
    "lan_counts = [[c,int(df[c].sum())] for c in list(df.columns)[1:]]\n",
    "lan_sel = [[l,c] for l,c in lan_counts if c > 20]\n",
    "other_lan = [l[0] for l in lan_counts if l[0] not in [x[0] for x in lan_sel]]"
   ]
  },
  {
   "cell_type": "code",
   "execution_count": 7,
   "metadata": {},
   "outputs": [],
   "source": [
    "#df['country'] = [refdf_country[c] for c in df.index]\n",
    "#dfs = df.groupby('country').sum()#.reset_index()\n",
    "dfs = df\n",
    "dfs['other'] = dfs[other_lan].sum(axis=1)\n",
    "dfs = dfs[[i[0] for i in lan_sel] + ['other']]"
   ]
  },
  {
   "cell_type": "code",
   "execution_count": 8,
   "metadata": {},
   "outputs": [],
   "source": [
    "dfsn = []\n",
    "\n",
    "for i in dfs.index:\n",
    "    t = list(dfs.loc[i])\n",
    "    tsum = sum(t)\n",
    "    t = [int(round(x / tsum * 100)) for x in t]\n",
    "    t = [i] + t\n",
    "    dfsn.append(t)\n",
    "dfsn = pd.DataFrame(dfsn)\n",
    "dfsn.index = dfsn.iloc[:,0]\n",
    "dfsn = dfsn.iloc[:,1:]\n",
    "dfsn.columns = dfs.columns\n",
    "dfsn = dfsn.T"
   ]
  },
  {
   "cell_type": "code",
   "execution_count": 11,
   "metadata": {},
   "outputs": [],
   "source": [
    "from matplotlib import colors\n",
    "def b_g(s, cmap='GnBu', low=0, high=0):\n",
    "    # Pass the columns from Dataframe A \n",
    "    a = dfsn.loc[:,s.name].copy()\n",
    "    rng = a.max() - a.min()\n",
    "    norm = colors.Normalize(a.min() - (rng * low),\n",
    "                        a.max() + (rng * high))\n",
    "    normed = norm(a.values)\n",
    "    c = [colors.rgb2hex(x) for x in plt.cm.get_cmap(cmap)(normed)]\n",
    "    return ['background-color: %s' % color for color in c]\n",
    "dfsn2 = dfsn.style.apply(b_g,cmap='summer').to_excel(\"/media/ruben/FEF44259F44213F5/Users/Ruben/Documents/GitHub/ReACT_GCV/data/images_tables_article_carlo/languages-country-colored-c.xlsx\", engine=\"openpyxl\")"
   ]
  },
  {
   "cell_type": "code",
   "execution_count": 14,
   "metadata": {},
   "outputs": [
    {
     "data": {
      "text/plain": [
       "[('en', 15919),\n",
       " ('es', 3176),\n",
       " ('it', 2076),\n",
       " ('zh', 1768),\n",
       " ('pt', 1707),\n",
       " ('de', 1202),\n",
       " ('fr', 1136),\n",
       " ('nl', 987),\n",
       " ('an', 737),\n",
       " ('cy', 588),\n",
       " ('id', 504),\n",
       " ('pl', 500),\n",
       " ('da', 486),\n",
       " ('sq', 485),\n",
       " ('tr', 456),\n",
       " ('vi', 455),\n",
       " ('hr', 449),\n",
       " ('ru', 415),\n",
       " ('ko', 355),\n",
       " ('ar', 331),\n",
       " ('no', 289),\n",
       " ('ca', 231),\n",
       " ('br', 225),\n",
       " ('sl', 218),\n",
       " ('el', 207)]"
      ]
     },
     "execution_count": 14,
     "metadata": {},
     "output_type": "execute_result"
    }
   ],
   "source": [
    "Counter(dict(lan_counts)).most_common(25)"
   ]
  },
  {
   "cell_type": "code",
   "execution_count": null,
   "metadata": {},
   "outputs": [],
   "source": []
  },
  {
   "cell_type": "code",
   "execution_count": 13,
   "metadata": {},
   "outputs": [
    {
     "data": {
      "text/plain": [
       "NoneType"
      ]
     },
     "execution_count": 13,
     "metadata": {},
     "output_type": "execute_result"
    }
   ],
   "source": [
    "type(dfsn2)"
   ]
  },
  {
   "cell_type": "code",
   "execution_count": null,
   "metadata": {},
   "outputs": [],
   "source": []
  }
 ],
 "metadata": {
  "kernelspec": {
   "display_name": "Python 3",
   "language": "python",
   "name": "python3"
  },
  "language_info": {
   "codemirror_mode": {
    "name": "ipython",
    "version": 3
   },
   "file_extension": ".py",
   "mimetype": "text/x-python",
   "name": "python",
   "nbconvert_exporter": "python",
   "pygments_lexer": "ipython3",
   "version": "3.7.4"
  }
 },
 "nbformat": 4,
 "nbformat_minor": 2
}
