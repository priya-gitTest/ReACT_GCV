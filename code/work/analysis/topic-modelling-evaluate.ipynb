{
 "cells": [
  {
   "cell_type": "code",
   "execution_count": 1,
   "metadata": {},
   "outputs": [],
   "source": [
    "from functions import *\n",
    "import json\n",
    "from langid.langid import LanguageIdentifier, model\n",
    "from collections import Counter\n",
    "import operator\n",
    "import random\n",
    "import os\n",
    "import langid\n",
    "import seaborn as sns\n",
    "import matplotlib.colors as mcolors\n",
    "#https://towardsdatascience.com/visualizing-topic-models-with-scatterpies-and-t-sne-f21f228f7b02\n",
    "#https://www.machinelearningplus.com/nlp/topic-modeling-gensim-python/\n",
    "#https://www.machinelearningplus.com/nlp/topic-modeling-visualization-how-to-present-results-lda-models/#6.-What-is-the-Dominant-topic-and-its-percentage-contribution-in-each-document"
   ]
  },
  {
   "cell_type": "code",
   "execution_count": 13,
   "metadata": {},
   "outputs": [],
   "source": [
    "import re\n",
    "import numpy as np\n",
    "import pandas as pd\n",
    "from pprint import pprint\n",
    "\n",
    "# Gensim\n",
    "import gensim\n",
    "import gensim.corpora as corpora\n",
    "from gensim.utils import simple_preprocess\n",
    "from gensim.models import CoherenceModel\n",
    "\n",
    "# spacy for lemmatization\n",
    "import spacy\n",
    "\n",
    "# Plotting tools\n",
    "#import pyLDAvis\n",
    "#import pyLDAvis.gensim  # don't skip this\n",
    "import matplotlib.pyplot as plt\n",
    "import matplotlib.cm as cm\n",
    "%matplotlib inline\n",
    "\n",
    "# NLTK Stop words\n",
    "from nltk.corpus import stopwords\n",
    "stop_words = stopwords.words('english') + stopwords.words('french')"
   ]
  },
  {
   "cell_type": "code",
   "execution_count": 14,
   "metadata": {},
   "outputs": [],
   "source": [
    "#base_path = \"/media/ruben/Data Drive/react-data/protest/{}\".format(\"carlo\")\n",
    "base_path = \"D:/react-data/protest/{}\".format(\"selection2\")"
   ]
  },
  {
   "cell_type": "code",
   "execution_count": 15,
   "metadata": {},
   "outputs": [],
   "source": [
    "# Functions\n",
    "def sent_to_words(sentences):\n",
    "        for sentence in sentences:\n",
    "            yield(gensim.utils.simple_preprocess(str(sentence), deacc=True))  # deacc=True removes punctuations\n",
    "\n",
    "def remove_stopwords(texts):\n",
    "    return [[word for word in simple_preprocess(str(doc)) if word not in stop_words] for doc in texts]\n",
    "\n",
    "def TopicTerms(topic):\n",
    "    tm = dict(lda_model.show_topics(formatted=False,num_words=10))\n",
    "    ttt = [i[0] for i in tm[topic]]\n",
    "    return \" | \".join(ttt)"
   ]
  },
  {
   "cell_type": "code",
   "execution_count": 16,
   "metadata": {},
   "outputs": [],
   "source": [
    "# Import Data\n",
    "\n",
    "dt = dict()\n",
    "id2photo = dict()\n",
    "\n",
    "for photo in [d for d in os.listdir(base_path) if os.path.isdir(os.path.join(base_path, d))]:\n",
    "    photo_folder = os.path.join(base_path, photo)\n",
    "    num_iterations = [fol for fol in os.listdir(photo_folder) if os.path.isdir(os.path.join(photo_folder,fol)) and \"source\" not in fol and \"context\" not in fol]\n",
    "    num_iterations = len(num_iterations)\n",
    "\n",
    "    start_iter = 1\n",
    "    range_iter = [str(i) for i in list(range(1,num_iterations + 1))]\n",
    "\n",
    "    folder_base = os.path.join(base_path,photo,photo)\n",
    "    \n",
    "    if photo not in id2photo.keys():\n",
    "        id2photo.update({photo:list()})\n",
    "    \n",
    "    for iteration in range_iter:\n",
    "        fn = os.path.join(folder_base + \"_\" +str(iteration),\"txt\", \"parsed_text.json\")\n",
    "        \n",
    "        with open(fn) as fp:\n",
    "            pages = json.load(fp)\n",
    "            \n",
    "        for identifier,sentences in pages.items():\n",
    "\n",
    "            id2photo[photo].append(identifier)\n",
    "            sentences = [s.replace(\"\\n\",\"\").lower() for s in sentences]\n",
    "            sentences = [re.sub(' +', ' ', s) for s in sentences]\n",
    "            \n",
    "            language = langid.classify(\" \".join(sentences))[0]\n",
    "            if language not in dt.keys():\n",
    "                dt.update({language:dict()})\n",
    "            \n",
    "            dt[language].update({identifier:\" \".join(sentences)})"
   ]
  },
  {
   "cell_type": "code",
   "execution_count": 19,
   "metadata": {},
   "outputs": [],
   "source": [
    "def Coherence(num_topics):\n",
    "    sentences_ids = [[k,v] for k,v in dt['en'].items()]\n",
    "    sentences = [i[1] for i in sentences_ids]\n",
    "    sentences = list(sent_to_words(sentences))\n",
    "    \n",
    "    sentences = remove_stopwords(sentences)\n",
    "    id2word = corpora.Dictionary(sentences)\n",
    "    corpus = [id2word.doc2bow(text) for text in sentences]\n",
    "    lda_model = gensim.models.ldamodel.LdaModel(corpus=corpus,\n",
    "                                               id2word=id2word,\n",
    "                                               num_topics=num_topics, \n",
    "                                               random_state=100,\n",
    "                                               update_every=1,\n",
    "                                               chunksize=50,\n",
    "                                               passes=10,\n",
    "                                               alpha='auto',\n",
    "                                               per_word_topics=True) #minimum_probability=0.0\n",
    "    # Compute Perplexity\n",
    "    print('\\nPerplexity: ', lda_model.log_perplexity(corpus))  # a measure of how good the model is. lower the better.\n",
    "    perp = lda_model.log_perplexity(corpus)\n",
    "    # Compute Coherence Score\n",
    "    coherence_model_lda = CoherenceModel(model=lda_model, texts=sentences, dictionary=id2word, coherence='c_v')\n",
    "    coh = coherence_model_lda.get_coherence()\n",
    "    print('\\nCoherence Score: ', coh)\n",
    "    return [perp,coh]"
   ]
  },
  {
   "cell_type": "code",
   "execution_count": 21,
   "metadata": {},
   "outputs": [
    {
     "name": "stdout",
     "output_type": "stream",
     "text": [
      "\n",
      "Perplexity:  -8.640459906826967\n",
      "\n",
      "Coherence Score:  0.4693401156172364\n",
      "\n",
      "Perplexity:  -8.600929167548133\n",
      "\n",
      "Coherence Score:  0.4452442826691174\n",
      "\n",
      "Perplexity:  -8.579109908394148\n",
      "\n",
      "Coherence Score:  0.4268836794738028\n",
      "\n",
      "Perplexity:  -8.584628587966929\n",
      "\n",
      "Coherence Score:  0.3815249853234279\n",
      "\n",
      "Perplexity:  -8.53972758393893\n",
      "\n",
      "Coherence Score:  0.49834176339030495\n",
      "\n",
      "Perplexity:  -8.55614595186874\n",
      "\n",
      "Coherence Score:  0.5305474187840149\n",
      "\n",
      "Perplexity:  -8.556326939224281\n",
      "\n",
      "Coherence Score:  0.47679782322850744\n",
      "\n",
      "Perplexity:  -8.54605829647355\n",
      "\n",
      "Coherence Score:  0.46253402854450715\n",
      "\n",
      "Perplexity:  -8.547995041370287\n",
      "\n",
      "Coherence Score:  0.5090746538366271\n"
     ]
    }
   ],
   "source": [
    "d = dict()\n",
    "for i in range(3,12):\n",
    "    d.update({i:Coherence(i)})"
   ]
  },
  {
   "cell_type": "code",
   "execution_count": 22,
   "metadata": {},
   "outputs": [
    {
     "data": {
      "text/html": [
       "<div>\n",
       "<style scoped>\n",
       "    .dataframe tbody tr th:only-of-type {\n",
       "        vertical-align: middle;\n",
       "    }\n",
       "\n",
       "    .dataframe tbody tr th {\n",
       "        vertical-align: top;\n",
       "    }\n",
       "\n",
       "    .dataframe thead th {\n",
       "        text-align: right;\n",
       "    }\n",
       "</style>\n",
       "<table border=\"1\" class=\"dataframe\">\n",
       "  <thead>\n",
       "    <tr style=\"text-align: right;\">\n",
       "      <th></th>\n",
       "      <th>0</th>\n",
       "      <th>1</th>\n",
       "    </tr>\n",
       "  </thead>\n",
       "  <tbody>\n",
       "    <tr>\n",
       "      <th>0</th>\n",
       "      <td>3</td>\n",
       "      <td>None</td>\n",
       "    </tr>\n",
       "    <tr>\n",
       "      <th>1</th>\n",
       "      <td>4</td>\n",
       "      <td>None</td>\n",
       "    </tr>\n",
       "    <tr>\n",
       "      <th>2</th>\n",
       "      <td>5</td>\n",
       "      <td>None</td>\n",
       "    </tr>\n",
       "    <tr>\n",
       "      <th>3</th>\n",
       "      <td>6</td>\n",
       "      <td>None</td>\n",
       "    </tr>\n",
       "    <tr>\n",
       "      <th>4</th>\n",
       "      <td>7</td>\n",
       "      <td>None</td>\n",
       "    </tr>\n",
       "    <tr>\n",
       "      <th>5</th>\n",
       "      <td>8</td>\n",
       "      <td>None</td>\n",
       "    </tr>\n",
       "    <tr>\n",
       "      <th>6</th>\n",
       "      <td>9</td>\n",
       "      <td>None</td>\n",
       "    </tr>\n",
       "    <tr>\n",
       "      <th>7</th>\n",
       "      <td>10</td>\n",
       "      <td>None</td>\n",
       "    </tr>\n",
       "    <tr>\n",
       "      <th>8</th>\n",
       "      <td>11</td>\n",
       "      <td>None</td>\n",
       "    </tr>\n",
       "  </tbody>\n",
       "</table>\n",
       "</div>"
      ],
      "text/plain": [
       "    0     1\n",
       "0   3  None\n",
       "1   4  None\n",
       "2   5  None\n",
       "3   6  None\n",
       "4   7  None\n",
       "5   8  None\n",
       "6   9  None\n",
       "7  10  None\n",
       "8  11  None"
      ]
     },
     "execution_count": 22,
     "metadata": {},
     "output_type": "execute_result"
    }
   ],
   "source": [
    "pd.DataFrame(list(d.items()))"
   ]
  },
  {
   "cell_type": "code",
   "execution_count": 23,
   "metadata": {},
   "outputs": [
    {
     "data": {
      "text/plain": [
       "{3: None,\n",
       " 4: None,\n",
       " 5: None,\n",
       " 6: None,\n",
       " 7: None,\n",
       " 8: None,\n",
       " 9: None,\n",
       " 10: None,\n",
       " 11: None}"
      ]
     },
     "execution_count": 23,
     "metadata": {},
     "output_type": "execute_result"
    }
   ],
   "source": [
    "d"
   ]
  },
  {
   "cell_type": "code",
   "execution_count": null,
   "metadata": {},
   "outputs": [],
   "source": []
  }
 ],
 "metadata": {
  "kernelspec": {
   "display_name": "Python 3",
   "language": "python",
   "name": "python3"
  },
  "language_info": {
   "codemirror_mode": {
    "name": "ipython",
    "version": 3
   },
   "file_extension": ".py",
   "mimetype": "text/x-python",
   "name": "python",
   "nbconvert_exporter": "python",
   "pygments_lexer": "ipython3",
   "version": "3.7.4"
  }
 },
 "nbformat": 4,
 "nbformat_minor": 2
}
