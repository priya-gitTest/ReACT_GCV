{
 "cells": [
  {
   "cell_type": "code",
   "execution_count": 25,
   "metadata": {},
   "outputs": [],
   "source": [
    "#https://medium.com/@morga046/multi-class-text-classification-with-doc2vec-and-t-sne-a-full-tutorial-55eb24fc40d3\n",
    "\n",
    "from functions import *\n",
    "from random import sample\n",
    "from htmldate import find_date\n",
    "from concurrent.futures import ThreadPoolExecutor\n",
    "from bs4 import BeautifulSoup\n",
    "import json\n",
    "from langid.langid import LanguageIdentifier, model\n",
    "from collections import Counter\n",
    "import matplotlib.pyplot as plt\n",
    "import matplotlib\n",
    "from tqdm import tqdm\n",
    "import operator\n",
    "import seaborn as sns\n",
    "import matplotlib.pyplot as plt\n",
    "from adjustText import adjust_text\n",
    "from gensim.models import Word2Vec\n",
    "from gensim.models import KeyedVectors\n",
    "import random\n",
    "from sklearn.manifold import TSNE\n",
    "from sklearn.cluster import KMeans\n",
    "from sklearn.preprocessing import StandardScaler\n",
    "from sklearn.decomposition import PCA\n",
    "from gensim.models.doc2vec import Doc2Vec, TaggedDocument\n",
    "import ast"
   ]
  },
  {
   "cell_type": "code",
   "execution_count": 47,
   "metadata": {},
   "outputs": [],
   "source": [
    "def PreProc(text):\n",
    "    text = text[1:-1].replace('\\xa0', ' ')\n",
    "    text = \" \".join(text.split('\\r\\n'))\n",
    "    return text"
   ]
  },
  {
   "cell_type": "code",
   "execution_count": 66,
   "metadata": {},
   "outputs": [],
   "source": [
    "base_path = \"/media/ruben/Data Drive/react-data/protest/selection\"\n",
    "\n",
    "df = pd.DataFrame()\n",
    "\n",
    "\n",
    "for photo in [d for d in os.listdir(base_path) if os.path.isdir(os.path.join(base_path, d))]:\n",
    "    photo_folder = os.path.join(base_path, photo)\n",
    "    \n",
    "    num_iterations = len([fol for fol in os.listdir(photo_folder) if os.path.isdir(os.path.join(photo_folder,fol)) and \"source\" not in fol])\n",
    "    start_iter = 1\n",
    "    range_iter = [str(i) for i in list(range(1,num_iterations))]\n",
    "    folder_base = os.path.join(base_path,photo,photo)\n",
    "    \n",
    "    d_ = dict()\n",
    "    for it in range_iter:\n",
    "        txt_folder = folder_base+\"_\"+it+\"/txt\"\n",
    "        \n",
    "        with open(os.path.join(txt_folder, \"parsed_text.json\")) as f:\n",
    "            c = json.load(f)\n",
    "            d_.update(c)"
   ]
  },
  {
   "cell_type": "code",
   "execution_count": null,
   "metadata": {},
   "outputs": [],
   "source": [
    "tagged_tr = [TaggedDocument(words=word_tokenize(_d.lower()),\n",
    "tags=[str(i)]) for i, _d in enumerate(train.text)]#Tag test set\n",
    "tagged_test = [TaggedDocument(words=word_tokenize(_d.lower()),\n",
    "tags=[str(i)]) for i, _d in enumerate(test.text)]"
   ]
  }
 ],
 "metadata": {
  "kernelspec": {
   "display_name": "Python 3",
   "language": "python",
   "name": "python3"
  },
  "language_info": {
   "codemirror_mode": {
    "name": "ipython",
    "version": 3
   },
   "file_extension": ".py",
   "mimetype": "text/x-python",
   "name": "python",
   "nbconvert_exporter": "python",
   "pygments_lexer": "ipython3",
   "version": "3.7.4"
  }
 },
 "nbformat": 4,
 "nbformat_minor": 2
}
