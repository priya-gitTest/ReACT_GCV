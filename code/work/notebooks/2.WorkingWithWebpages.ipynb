{
 "cells": [
  {
   "cell_type": "code",
   "execution_count": 1,
   "metadata": {},
   "outputs": [
    {
     "data": {
      "text/html": [
       "\n",
       "<link href=\"https://fonts.googleapis.com/css2?family=Open+Sans&display=swap\" rel=\"stylesheet\">\n",
       "\n",
       "<style>\n",
       "\n",
       "div.text_cell_render h1 {\n",
       "    font-size: 1.5em;\n",
       "    line-height:1.4em;\n",
       "    text-align:center;\n",
       "    }\n",
       "\n",
       "div.text_cell_render { \n",
       "    font-family: 'Open Sans';\n",
       "    font-size:1.1em;\n",
       "    line-height:1.5em;\n",
       "    padding-left:3em;\n",
       "    padding-right:3em;\n",
       "    }\n",
       "</style>\n"
      ],
      "text/plain": [
       "<IPython.core.display.HTML object>"
      ]
     },
     "execution_count": 1,
     "metadata": {},
     "output_type": "execute_result"
    }
   ],
   "source": [
    "from IPython.core.display import HTML\n",
    "HTML(\"\"\"\n",
    "<link href=\"https://fonts.googleapis.com/css2?family=Open+Sans&display=swap\" rel=\"stylesheet\">\n",
    "\n",
    "<style>\n",
    "\n",
    "div.text_cell_render h1 {\n",
    "    font-size: 1.5em;\n",
    "    line-height:1.4em;\n",
    "    text-align:center;\n",
    "    }\n",
    "\n",
    "div.text_cell_render { \n",
    "    font-family: 'Open Sans';\n",
    "    font-size:1.1em;\n",
    "    line-height:1.5em;\n",
    "    padding-left:3em;\n",
    "    padding-right:3em;\n",
    "    }\n",
    "</style>\n",
    "\"\"\")"
   ]
  },
  {
   "cell_type": "markdown",
   "metadata": {},
   "source": [
    "# Working with Web Data\n",
    "\n",
    "In the previous notebook we identified webpages that host a specific image. The URLs that refer to these webpages are found in .json files. In this notebook, we use the URLs to download the actual pages, extract their textual content and prepare the textual data for analysis. Also, we extract general features of the webpages (the metadata) for analysis. To get an idea of the .json files, we start by opening them and inspecting the list of URLs. \n",
    "\n",
    "First, we define some basic variables. Then we gather the list of .json files and open the first one."
   ]
  },
  {
   "cell_type": "code",
   "execution_count": 8,
   "metadata": {},
   "outputs": [],
   "source": [
    "import os,json\n",
    "\n",
    "base_path = \"D:/react-data/npg\"\n",
    "photo = \"npg\"\n",
    "photo_folder = os.path.join(base_path, photo)\n",
    "\n",
    "# Check how many iterations we have by using the os.listdir function. We don't want the \"source\" folder because it doesn't contain jsons\n",
    "num_iterations = len([fol for fol in os.listdir(photo_folder) if os.path.isdir(os.path.join(photo_folder,fol)) and \"source\" not in fol])\n",
    "start_iter = 1\n",
    "range_iter = [str(i) for i in list(range(1,num_iterations+1))]\n",
    "\n",
    "list_jsons = []\n",
    "\n",
    "# We now \"loop\" through the folders associated with the iterations and gather the .jsons in these folders\n",
    "for iteration in range_iter:\n",
    "    iteration_folder = os.path.join(photo_folder, photo + \"_\" + str(iteration))\n",
    "    list_json_in_iteration_folder = [os.path.join(iteration_folder,js) for js in os.listdir(iteration_folder) if \".json\" in js]\n",
    "    list_jsons += list_json_in_iteration_folder"
   ]
  },
  {
   "cell_type": "markdown",
   "metadata": {},
   "source": [
    "Now we can open the .json files by loading them with the json module that comes automatically with your Python installation. You can inspect or \"walk\" the data by selecting keys with names (```json_data['responses']```) or elements in lists (```json_data['responses'][0:10]```). To find the URLs, navigate to the ```pagesWithMatchingImages``` list."
   ]
  },
  {
   "cell_type": "code",
   "execution_count": 17,
   "metadata": {},
   "outputs": [
    {
     "data": {
      "text/plain": [
       "[{'pageTitle': '&#39;The Girl in the Picture&#39; from Vietnam visits Philly this week for two ...',\n",
       "  'partialMatchingImages': [{'url': 'https://www.inquirer.com/resizer/iytjLFruXq6zbI7pVdDfZrXTDNU=/1400x932/smart/arc-anglerfish-arc2-prod-pmn.s3.amazonaws.com/public/X3VW2BH4ZBFBBMOJCHTLJL52B4.jpg'}],\n",
       "  'url': 'https://www.inquirer.com/arts/girl-in-vietnam-picture-kim-phuc-hannibal-locumbe-20191205.html'},\n",
       " {'pageTitle': 'The &#39;Napalm Girl&#39; To Share Story Of Hope During Free Event ...',\n",
       "  'partialMatchingImages': [{'url': 'https://wpr-public.s3.amazonaws.com/wprorg/styles/facebook/s3/field/image/ap_431676074992.jpg?itok=3jjMa-gm'}],\n",
       "  'url': 'https://www.wpr.org/napalm-girl-share-story-hope-during-free-event-saturday'}]"
      ]
     },
     "execution_count": 17,
     "metadata": {},
     "output_type": "execute_result"
    }
   ],
   "source": [
    "with open(list_jsons[0],'r') as fr:\n",
    "    json_data = json.load(fr)\n",
    "\n",
    "# Show the first elements in the list:\n",
    "json_data['responses'][0]['webDetection']['pagesWithMatchingImages'][0:2]"
   ]
  },
  {
   "cell_type": "code",
   "execution_count": 19,
   "metadata": {},
   "outputs": [
    {
     "data": {
      "text/plain": [
       "['https://www.inquirer.com/arts/girl-in-vietnam-picture-kim-phuc-hannibal-locumbe-20191205.html',\n",
       " 'https://www.wpr.org/napalm-girl-share-story-hope-during-free-event-saturday',\n",
       " 'https://www.theguardian.com/world/video/2015/oct/26/girl-photo-vietnam-war-kim-phuc-laser-treatment-napalm-burns-video',\n",
       " 'https://time.com/5527944/napalm-girl-dresden-peace-price-james-nachtwey/',\n",
       " 'https://time.com/4485344/napalm-girl-war-photo-facebook/']"
      ]
     },
     "execution_count": 19,
     "metadata": {},
     "output_type": "execute_result"
    }
   ],
   "source": [
    "# Show the first Page URLs in the list:\n",
    "[j['url'] for j in json_data['responses'][0]['webDetection']['pagesWithMatchingImages'][0:5]]"
   ]
  },
  {
   "cell_type": "code",
   "execution_count": null,
   "metadata": {},
   "outputs": [],
   "source": []
  }
 ],
 "metadata": {
  "kernelspec": {
   "display_name": "Python 3",
   "language": "python",
   "name": "python3"
  },
  "language_info": {
   "codemirror_mode": {
    "name": "ipython",
    "version": 3
   },
   "file_extension": ".py",
   "mimetype": "text/x-python",
   "name": "python",
   "nbconvert_exporter": "python",
   "pygments_lexer": "ipython3",
   "version": "3.6.5"
  }
 },
 "nbformat": 4,
 "nbformat_minor": 2
}
