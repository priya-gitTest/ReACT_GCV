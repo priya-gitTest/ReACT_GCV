{
 "cells": [
  {
   "cell_type": "code",
   "execution_count": 15,
   "metadata": {},
   "outputs": [],
   "source": [
    "from gensim.models import FastText\n",
    "import os,sys\n",
    "from urllib.parse import urlparse\n",
    "from getImagesFunctions import *\n",
    "from getDataFunctions import *\n",
    "from gensim.models import Word2Vec\n",
    "import gensim\n",
    "import random\n",
    "import langid\n",
    "import re\n",
    "import ast\n",
    "import concurrent\n",
    "import htmldate\n",
    "import time\n",
    "import uuid"
   ]
  },
  {
   "cell_type": "code",
   "execution_count": 13,
   "metadata": {},
   "outputs": [],
   "source": [
    "base_path = os.getcwd()\n",
    "name_folder = \"image_npg_\""
   ]
  },
  {
   "cell_type": "code",
   "execution_count": 14,
   "metadata": {},
   "outputs": [
    {
     "name": "stdout",
     "output_type": "stream",
     "text": [
      "1 256\n",
      "2 26333\n",
      "3 74345\n",
      "4 77331\n",
      "5 86160\n"
     ]
    }
   ],
   "source": [
    "with open('C:/Users/Ruben/Documents/GitHub/ReACT_GCV/code/work/scrape_environment/npg_source/page-urls.txt') as f:\n",
    "    urls= json.load(f)\n",
    "    urls = dict(urls)\n",
    "    \n",
    "for k,v in urls.items():\n",
    "    print(k,len(v))"
   ]
  },
  {
   "cell_type": "code",
   "execution_count": 10,
   "metadata": {},
   "outputs": [],
   "source": [
    "MAX_THREADS = 30\n",
    "\n",
    "def download_url(url):\n",
    "    title = str(uuid.uuid4()) + '.txt'\n",
    "    d = find_date(url)\n",
    "    print(d,title)\n",
    "    with open(title, \"w\") as fh:\n",
    "        f.write(\"{}|{}\".format(url,d))\n",
    "        \n",
    "    time.sleep(0.25)\n",
    "    \n",
    "def download_all(list_urls):\n",
    "    threads = min(MAX_THREADS, len(list_urls))\n",
    "    \n",
    "    with concurrent.futures.ThreadPoolExecutor(max_workers=threads) as executor:\n",
    "        executor.map(download_url, list_urls)\n",
    "\n",
    "def main(list_urls):\n",
    "    t0 = time.time()\n",
    "    download_all(list_urls)\n",
    "    t1 = time.time()\n",
    "    print(f\"{t1-t0} seconds to download {len(list_urls)} dates.\")"
   ]
  },
  {
   "cell_type": "code",
   "execution_count": null,
   "metadata": {},
   "outputs": [],
   "source": [
    "test_path = os.path.join(base_path, \"test\")\n",
    "if not os.path.exists(test_path):\n",
    "    os.makedirs(test_path)\n",
    "os.chdir(test_path)\n",
    "main(urls['1'])"
   ]
  },
  {
   "cell_type": "code",
   "execution_count": 11,
   "metadata": {},
   "outputs": [
    {
     "name": "stdout",
     "output_type": "stream",
     "text": [
      "2019-12-05 httpswwwinquirercomartsgirlinvietnampicturekimphuchanniballocumbehtml.txt\n"
     ]
    },
    {
     "ename": "TypeError",
     "evalue": "a bytes-like object is required, not 'str'",
     "output_type": "error",
     "traceback": [
      "\u001b[1;31m---------------------------------------------------------------------------\u001b[0m",
      "\u001b[1;31mTypeError\u001b[0m                                 Traceback (most recent call last)",
      "\u001b[1;32m<ipython-input-11-e77779824911>\u001b[0m in \u001b[0;36m<module>\u001b[1;34m()\u001b[0m\n\u001b[1;32m----> 1\u001b[1;33m \u001b[0mdownload_url\u001b[0m\u001b[1;33m(\u001b[0m\u001b[0murls\u001b[0m\u001b[1;33m[\u001b[0m\u001b[1;34m'1'\u001b[0m\u001b[1;33m]\u001b[0m\u001b[1;33m[\u001b[0m\u001b[1;36m0\u001b[0m\u001b[1;33m]\u001b[0m\u001b[1;33m)\u001b[0m\u001b[1;33m\u001b[0m\u001b[0m\n\u001b[0m",
      "\u001b[1;32m<ipython-input-10-0d16bdbdaac0>\u001b[0m in \u001b[0;36mdownload_url\u001b[1;34m(url)\u001b[0m\n\u001b[0;32m      7\u001b[0m     \u001b[0mprint\u001b[0m\u001b[1;33m(\u001b[0m\u001b[0md\u001b[0m\u001b[1;33m,\u001b[0m\u001b[0mtitle\u001b[0m\u001b[1;33m)\u001b[0m\u001b[1;33m\u001b[0m\u001b[0m\n\u001b[0;32m      8\u001b[0m     \u001b[1;32mwith\u001b[0m \u001b[0mopen\u001b[0m\u001b[1;33m(\u001b[0m\u001b[0mtitle\u001b[0m\u001b[1;33m,\u001b[0m \u001b[1;34m\"wb\"\u001b[0m\u001b[1;33m)\u001b[0m \u001b[1;32mas\u001b[0m \u001b[0mfh\u001b[0m\u001b[1;33m:\u001b[0m\u001b[1;33m\u001b[0m\u001b[0m\n\u001b[1;32m----> 9\u001b[1;33m         \u001b[0mfh\u001b[0m\u001b[1;33m.\u001b[0m\u001b[0mwrite\u001b[0m\u001b[1;33m(\u001b[0m\u001b[0md\u001b[0m\u001b[1;33m)\u001b[0m\u001b[1;33m\u001b[0m\u001b[0m\n\u001b[0m\u001b[0;32m     10\u001b[0m \u001b[1;33m\u001b[0m\u001b[0m\n\u001b[0;32m     11\u001b[0m     \u001b[0mtime\u001b[0m\u001b[1;33m.\u001b[0m\u001b[0msleep\u001b[0m\u001b[1;33m(\u001b[0m\u001b[1;36m0.25\u001b[0m\u001b[1;33m)\u001b[0m\u001b[1;33m\u001b[0m\u001b[0m\n",
      "\u001b[1;31mTypeError\u001b[0m: a bytes-like object is required, not 'str'"
     ]
    }
   ],
   "source": [
    "download_url(urls['1'][0])"
   ]
  },
  {
   "cell_type": "code",
   "execution_count": 109,
   "metadata": {},
   "outputs": [],
   "source": [
    "urlsp = [[x for x in urlparse(i) if i][2:] for i in urls]\n",
    "urlsp = [[x for x in i if x] for i in urlsp]\n",
    "urlsp = [\" \".join(x) for x in urlsp]"
   ]
  },
  {
   "cell_type": "code",
   "execution_count": 111,
   "metadata": {
    "scrolled": false
   },
   "outputs": [],
   "source": [
    "def SearchURLMatch(url):\n",
    "    poss_years = [str(i) for i in range(1990,2021)]\n",
    "    poss_months_char = {\"jan\":'01', \"feb\":'02', \"mar\":'03', \"apr\":'04', \"may\":'05', \"jun\":'06', \"jul\":'07', \"aug\":'08',\"sep\":'09', \"oct\":'10', \"nov\":'11', \"dec\":'12'}\n",
    "    poss_months_int = \"01 02 03 04 05 06 07 08 09 10 11 12\"\n",
    "    poss_days_int = [str(i) for i in range(1,32)]\n",
    "    poss_days_int = [\"0\"+i for i in poss_days_int if len(i) == 1] + [i for i in poss_days_int if len(i) > 1]\n",
    "    \n",
    "    u = url.split('/')\n",
    "    doubts = \"no\"\n",
    "    year = \"na\"\n",
    "    month = 'na'\n",
    "    day = 'na'\n",
    "    \n",
    "    if any(y in u for y in poss_years):\n",
    "        index_year = u.index([y for y in u if y in poss_years][0])\n",
    "        \n",
    "        # IF MONTH IS A STRING: \"JAN\" OR \"OCT\"\n",
    "        if u[index_year+1] in poss_months_char.keys():\n",
    "            year = u[index_year]\n",
    "            month = poss_months_char[u[index_year+1]]\n",
    "            if u[index_year+2] in poss_days_int:\n",
    "                day = u[index_year+2]\n",
    "                status = \"found something\"\n",
    "            if u[index_year+2] not in poss_days_int:\n",
    "                day = \"na\"\n",
    "            \n",
    "            \n",
    "        # IF PATTERN IS YEAR-MONTH-DAY\n",
    "        try:\n",
    "            if u[index_year+1] in poss_months_int and u[index_year+2] in poss_days_int:\n",
    "                year = u[index_year]\n",
    "                month = u[index_year+1]\n",
    "                day = u[index_year+2]\n",
    "                status = \"found something\"\n",
    "                if u[index_year+2] in poss_months_int and u[index_year+1] in poss_days_int and u[index_year+1] != u[index_year+2]:\n",
    "                    doubts = \"yes\"\n",
    "        except IndexError:\n",
    "            doubts = \"yes\"\n",
    "\n",
    "        \n",
    "        # IF PATTERN IS YEAR-DAY-MONTH\n",
    "        try:\n",
    "            if u[index_year+1] in poss_days_int and u[index_year+2] in poss_months_int:\n",
    "                year = u[index_year]\n",
    "                month = u[index_year+2]\n",
    "                day = u[index_year+1]\n",
    "                status = \"found something\"\n",
    "                if u[index_year+1] in poss_months_int and u[index_year+2] in poss_days_int and u[index_year+2] != u[index_year+1]:\n",
    "                        doubts = \"yes\"\n",
    "        except IndexError:\n",
    "                doubts = \"yes\"\n",
    "        \n",
    "        # IF PATTERN IS MONTH-DAY-YEAR\n",
    "        try:\n",
    "            if u[index_year-1] in poss_days_int and u[index_year-2] in poss_months_int:\n",
    "                year = u[index_year]\n",
    "                month = u[index_year-2]\n",
    "                day = u[index_year-1]\n",
    "                status = \"found something\"\n",
    "                if u[index_year-1] in poss_months_int and u[index_year-2] in poss_days_int and u[index_year-1] != u[index_year-2]:\n",
    "                    doubts = \"yes\"\n",
    "        except IndexError:\n",
    "                doubts = \"yes\"\n",
    "        \n",
    "        # IF PATTERN IS DAY-MONTH-YEAR\n",
    "        try:\n",
    "            if u[index_year-2] in poss_days_int and u[index_year-1] in poss_months_int:\n",
    "                year = u[index_year]\n",
    "                month = u[index_year-1]\n",
    "                day = u[index_year-2]\n",
    "                status = \"found something\"\n",
    "                if u[index_year-2] in poss_months_int and u[index_year-1] in poss_days_int and u[index_year-2] != u[index_year-1]:\n",
    "                    doubts = \"yes\"\n",
    "        except IndexError:\n",
    "                doubts = \"yes\"\n",
    "       \n",
    "        status = \"found something\"\n",
    "        \n",
    "        if doubts == \"no\" and status == \"found something\" and year != \"na\" and month != \"na\" and day != \"na\":\n",
    "            return [year,month,day]\n",
    "        \n",
    "        elif doubts == \"yes\":\n",
    "            return [\"na\"]\n",
    "    else:\n",
    "        status = \"found nothing\"\n"
   ]
  },
  {
   "cell_type": "code",
   "execution_count": 112,
   "metadata": {
    "scrolled": false
   },
   "outputs": [],
   "source": [
    "total = 0\n",
    "result = 0\n",
    "\n",
    "d_ = dict()\n",
    "\n",
    "for u in urlsp:\n",
    "    \n",
    "    res = SearchURL(u)\n",
    "    \n",
    "    if res and res != ['na']:\n",
    "        #print(u)\n",
    "        #print(res)\n",
    "        #print('--------------------')\n",
    "        d_.update({u:res})\n",
    "        result += 1\n",
    "        total += 1\n",
    "    else:\n",
    "        total += 1\n",
    "        \n",
    "        "
   ]
  },
  {
   "cell_type": "code",
   "execution_count": 114,
   "metadata": {},
   "outputs": [
    {
     "data": {
      "text/plain": [
       "77331"
      ]
     },
     "execution_count": 114,
     "metadata": {},
     "output_type": "execute_result"
    }
   ],
   "source": [
    "total"
   ]
  },
  {
   "cell_type": "code",
   "execution_count": null,
   "metadata": {},
   "outputs": [],
   "source": []
  }
 ],
 "metadata": {
  "kernelspec": {
   "display_name": "Python 3",
   "language": "python",
   "name": "python3"
  },
  "language_info": {
   "codemirror_mode": {
    "name": "ipython",
    "version": 3
   },
   "file_extension": ".py",
   "mimetype": "text/x-python",
   "name": "python",
   "nbconvert_exporter": "python",
   "pygments_lexer": "ipython3",
   "version": "3.6.5"
  }
 },
 "nbformat": 4,
 "nbformat_minor": 2
}
