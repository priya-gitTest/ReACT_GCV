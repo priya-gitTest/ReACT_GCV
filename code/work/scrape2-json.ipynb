{
 "cells": [
  {
   "cell_type": "code",
   "execution_count": 1,
   "metadata": {},
   "outputs": [],
   "source": [
    "from bs4 import BeautifulSoup\n",
    "import datetime\n",
    "import pandas as pd\n",
    "import requests\n",
    "import string\n",
    "import re as regexz\n",
    "import random\n",
    "import os.path\n",
    "from tqdm import tqdm\n",
    "import json\n",
    "import urllib.request, urllib.error, urllib.parse\n",
    "from urllib.error import HTTPError\n",
    "from htmldate import find_date\n",
    "import glob\n",
    "import urllib.request\n",
    "from collections import Counter\n",
    "import random"
   ]
  },
  {
   "cell_type": "code",
   "execution_count": 3,
   "metadata": {},
   "outputs": [],
   "source": [
    "url_path = 'C://Users//Ruben//Documents//GitHub//ReACT_GCV//code//work/environment2/image_ks_2//'\n",
    "os.chdir(url_path)"
   ]
  },
  {
   "cell_type": "code",
   "execution_count": 9,
   "metadata": {},
   "outputs": [
    {
     "data": {
      "text/plain": [
       "dict_keys(['error'])"
      ]
     },
     "execution_count": 9,
     "metadata": {},
     "output_type": "execute_result"
    }
   ],
   "source": [
    "d = loadJson('102-_20200210-1355.json')\n",
    "dict(d)['responses'][0].keys()"
   ]
  },
  {
   "cell_type": "code",
   "execution_count": 5,
   "metadata": {},
   "outputs": [],
   "source": [
    "def loadJson(filename):\n",
    "    with open(filename) as json_file:\n",
    "        data = json.load(json_file)\n",
    "        return data\n",
    "    \n",
    "def getPages(json_object):\n",
    "    list_url = [l['url'] for l in json_object['responses'][0]['webDetection']['pagesWithMatchingImages']]\n",
    "    return list_url\n",
    "\n",
    "def getImageURL(json_object):\n",
    "    list_url = []\n",
    "    \n",
    "    for c,i in enumerate(json_object['responses'][0]['webDetection']['pagesWithMatchingImages']):\n",
    "        if 'partialMatchingImages' in i.keys():\n",
    "            \n",
    "            for c2,x in enumerate(i['partialMatchingImages']):\n",
    "                for u in list(dict(x).values()):\n",
    "                    list_url.append(u)\n",
    "\n",
    "        elif 'fullMatchingImages' in i.keys():\n",
    "            \n",
    "            for c2,x in enumerate(i['fullMatchingImages']):\n",
    "                for u in list(dict(x).values()):\n",
    "                    list_url.append(u)\n",
    "    return list_url\n",
    "\n",
    "def scrapeAllImages(list_urls):\n",
    "    \n",
    "    errors = []\n",
    "    \n",
    "    for c,url in tqdm(enumerate(list_urls)):\n",
    "    \n",
    "        filename = regexz.sub('[^A-Za-z0-9]+', '', url).lower()\n",
    "        \n",
    "        if \"png\" in url:\n",
    "            fn = str(c) + '-' + \".png\"\n",
    "        elif \"jpg\" in url:\n",
    "            fn = str(c) + '-' + \".jpg\"\n",
    "        elif \"Jpeg\" in url:\n",
    "            fn = str(c) + '-' + \".jpg\"\n",
    "        elif \"jpeg\" in url:\n",
    "            fn = str(c) + '-' + \".jpg\"\n",
    "        elif \"JPG\" in url:\n",
    "            fn = str(c) + '-' + \".jpg\"\n",
    "        else:\n",
    "            print(url + \" no image file?\")\n",
    "            errors += \"url-\" + \"no_image_file?\"\n",
    "                \n",
    "        try:\n",
    "            urllib.request.urlretrieve(url, fn)\n",
    "        except (HTTPError, TimeoutError) as e:\n",
    "            errors += \"Error\"\n",
    "            continue\n",
    "    print(errors)\n",
    "            \n",
    "def getDate(list_urls):\n",
    "    url_d = dict()\n",
    "    for i in url_list:\n",
    "        print(i)\n",
    "        d = find_date(i)\n",
    "        url_d.update({i:d})\n",
    "    return url_d"
   ]
  },
  {
   "cell_type": "code",
   "execution_count": 43,
   "metadata": {},
   "outputs": [],
   "source": [
    "url_path = 'C://Users//Ruben//Documents//GitHub//ReACT_GCV//code//work/memespector-outputs/annotations/'\n",
    "os.chdir(url_path)\n",
    "\n",
    "total_url = []\n",
    "\n",
    "for i in glob.glob('*.json'):\n",
    "    d = loadJson(i)\n",
    "    temp_url = getImageURL(d)\n",
    "    total_url = total_url + temp_url\n",
    "\n",
    "total_pages = []\n",
    "\n",
    "for i in glob.glob('*.json'):\n",
    "    d = loadJson(i)\n",
    "    temp_pages = getPages(d)\n",
    "    total_pages = total_pages + temp_pages"
   ]
  },
  {
   "cell_type": "code",
   "execution_count": 44,
   "metadata": {},
   "outputs": [
    {
     "name": "stderr",
     "output_type": "stream",
     "text": [
      "\n",
      "\n",
      "0it [00:00, ?it/s]\n",
      "\n",
      "1it [00:00,  5.91it/s]\n",
      "\n",
      "2it [00:00,  4.60it/s]\n",
      "\n",
      "5it [00:00,  6.13it/s]\n",
      "\n",
      "7it [00:00,  6.81it/s]\n",
      "\n",
      "10it [00:01,  5.95it/s]\n",
      "\n",
      "12it [00:01,  7.51it/s]\n",
      "\n",
      "15it [00:01,  8.04it/s]\n",
      "\n",
      "17it [00:02,  8.25it/s]\n",
      "\n",
      "19it [00:02,  8.41it/s]\n",
      "\n",
      "21it [00:02, 10.10it/s]\n",
      "\n",
      "23it [00:02, 11.40it/s]\n",
      "\n",
      "25it [00:07,  1.27it/s]\n",
      "\n",
      "28it [00:07,  1.77it/s]\n",
      "\n",
      "30it [00:07,  2.38it/s]\n",
      "\n",
      "32it [00:07,  3.15it/s]\n",
      "\n",
      "34it [00:07,  4.18it/s]\n",
      "\n",
      "37it [00:08,  5.50it/s]\n",
      "\n",
      "39it [00:08,  6.88it/s]\n",
      "\n",
      "41it [00:08,  8.55it/s]\n",
      "\n",
      "43it [00:08,  9.09it/s]\n",
      "\n",
      "45it [00:08, 10.07it/s]\n",
      "\n",
      "48it [00:08, 12.35it/s]\n",
      "\n",
      "51it [00:08, 14.40it/s]\n",
      "\n",
      "55it [00:09, 17.26it/s]\n",
      "\n",
      "58it [00:09, 16.00it/s]\n",
      "\n",
      "62it [00:09, 18.92it/s]\n",
      "\n",
      "65it [00:10, 10.30it/s]"
     ]
    },
    {
     "name": "stdout",
     "output_type": "stream",
     "text": [
      "https://images.squarespace-cdn.com/content/v1/54b35484e4b0306271374b4b/1437689737952-0IXV9GQPZS0MCUN2WKNJ/ke17ZwdGBToddI8pDm48kIuGWvsoWu6KpqsId-r7pApZw-zPPgdn4jUwVcJE1ZvWQUxwkmyExglNqGp0IvTJZUJFbgE-7XRK3dMEBRBhUpwIQ--1OKwRP_hsppth7LjkO5h25P3R0rR_KdLSlp0IvTwL1smV6hN1nyL7DgI1J90/Iconic+image+of+resilience+in+the+face+of+adversity no image file?\n"
     ]
    },
    {
     "name": "stderr",
     "output_type": "stream",
     "text": [
      "\n",
      "\n",
      "67it [00:10, 10.89it/s]\n",
      "\n",
      "69it [00:10,  6.51it/s]\n",
      "\n",
      "72it [00:10,  8.17it/s]\n",
      "\n",
      "74it [00:11,  9.90it/s]\n",
      "\n",
      "78it [00:11, 12.16it/s]\n",
      "\n",
      "81it [00:11, 14.54it/s]\n",
      "\n",
      "84it [00:11, 16.20it/s]\n",
      "\n",
      "87it [00:11, 14.74it/s]\n",
      "\n",
      "89it [00:13,  3.19it/s]\n",
      "\n",
      "91it [00:14,  2.91it/s]\n",
      "\n",
      "94it [00:15,  2.91it/s]\n",
      "\n",
      "96it [00:15,  3.84it/s]\n",
      "\n",
      "98it [00:16,  3.15it/s]\n",
      "\n",
      "100it [00:18,  1.87it/s]\n",
      "\n",
      "102it [00:21,  1.24it/s]\n",
      "\n",
      "105it [00:21,  1.71it/s]\n",
      "\n",
      "107it [00:21,  2.33it/s]\n",
      "\n",
      "109it [00:22,  2.17it/s]\n",
      "\n",
      "111it [00:23,  2.09it/s]\n",
      "\n",
      "112it [00:23,  2.72it/s]\n",
      "\n",
      "114it [00:24,  3.52it/s]\n",
      "\n",
      "116it [00:24,  4.45it/s]\n",
      "\n",
      "119it [00:24,  5.92it/s]\n",
      "\n",
      "121it [00:24,  6.47it/s]\n",
      "\n",
      "123it [00:24,  7.62it/s]\n",
      "\n",
      "125it [00:24,  7.60it/s]\n",
      "\n",
      "128it [00:25,  9.50it/s]\n",
      "\n",
      "130it [00:25,  9.14it/s]\n",
      "\n",
      "132it [00:25, 10.43it/s]\n",
      "\n",
      "134it [00:25, 10.90it/s]\n",
      "\n",
      "137it [00:25, 12.59it/s]"
     ]
    },
    {
     "name": "stdout",
     "output_type": "stream",
     "text": [
      "https://www.svtstatic.se/image/wide/800/22995822/1563253013?quality=70 no image file?\n"
     ]
    },
    {
     "name": "stderr",
     "output_type": "stream",
     "text": [
      "\n",
      "\n",
      "139it [00:25, 12.88it/s]\n",
      "\n",
      "141it [00:26, 13.62it/s]\n",
      "\n",
      "143it [00:26,  5.69it/s]"
     ]
    },
    {
     "name": "stdout",
     "output_type": "stream",
     "text": [
      "https://cdn2-img.pressreader.com/pressdisplay/docserver/getimage.aspx?regionKey=hIY%2B9cxQ%2BC9RSyhqXZzfAQ%3D%3D no image file?\n"
     ]
    },
    {
     "name": "stderr",
     "output_type": "stream",
     "text": [
      "\n",
      "\n",
      "146it [00:27,  7.31it/s]\n",
      "\n",
      "149it [00:27,  9.40it/s]\n",
      "\n",
      "151it [00:27,  8.92it/s]\n",
      "\n",
      "155it [00:27, 11.44it/s]\n",
      "\n",
      "159it [00:27, 14.01it/s]\n",
      "\n",
      "162it [00:27, 14.61it/s]\n",
      "\n",
      "165it [00:27, 16.96it/s]\n",
      "\n",
      "168it [00:28,  9.37it/s]\n",
      "\n",
      "170it [00:29,  6.96it/s]\n",
      "\n",
      "172it [00:29,  5.12it/s]\n",
      "\n",
      "174it [00:32,  2.02it/s]\n",
      "\n",
      "176it [00:32,  2.72it/s]\n",
      "\n",
      "177it [00:32,  2.75it/s]\n",
      "\n",
      "178it [00:32,  2.70it/s]\n",
      "\n",
      "179it [00:33,  2.64it/s]\n",
      "\n",
      "180it [00:33,  3.30it/s]\n",
      "\n",
      "182it [00:33,  4.11it/s]\n",
      "\n",
      "184it [00:33,  5.18it/s]\n",
      "\n",
      "185it [00:34,  3.63it/s]\n",
      "\n",
      "186it [00:34,  3.12it/s]\n",
      "\n",
      "187it [00:35,  3.07it/s]\n",
      "\n",
      "188it [00:35,  3.64it/s]\n",
      "\n",
      "189it [00:35,  4.00it/s]\n",
      "\n",
      "190it [00:35,  3.85it/s]\n",
      "\n",
      "193it [00:35,  5.17it/s]\n",
      "\n",
      "196it [00:36,  6.27it/s]\n",
      "\n",
      "198it [00:36,  7.16it/s]\n",
      "\n",
      "200it [00:36,  8.67it/s]\n",
      "\n",
      "202it [00:36, 10.37it/s]\n",
      "\n",
      "204it [00:36,  8.60it/s]\n",
      "\n",
      "206it [00:37,  5.65it/s]\n",
      "\n",
      "207it [00:37,  3.93it/s]\n",
      "\n",
      "208it [00:38,  2.51it/s]\n",
      "\n",
      "210it [00:38,  3.35it/s]\n",
      "\n",
      "211it [00:41,  1.13s/it]\n",
      "\n",
      "214it [00:41,  1.24it/s]\n",
      "\n",
      "216it [00:42,  1.71it/s]\n",
      "\n",
      "218it [00:42,  2.31it/s]\n",
      "\n",
      "221it [00:44,  2.07it/s]\n",
      "\n",
      "224it [00:44,  2.87it/s]\n",
      "\n",
      "227it [00:44,  3.84it/s]\n",
      "\n",
      "230it [00:44,  5.14it/s]\n",
      "\n",
      "233it [00:44,  6.22it/s]\n",
      "\n",
      "236it [00:44,  8.10it/s]\n",
      "\n",
      "238it [00:44,  9.08it/s]\n",
      "\n",
      "240it [00:46,  2.62it/s]\n",
      "\n",
      "243it [00:47,  3.55it/s]\n",
      "\n",
      "245it [00:47,  4.56it/s]\n",
      "\n",
      "248it [00:47,  5.74it/s]\n",
      "\n",
      "251it [00:47,  7.41it/s]\n",
      "\n",
      "254it [00:47,  9.46it/s]\n",
      "\n",
      "257it [00:47, 11.45it/s]\n",
      "\n",
      "260it [00:47, 13.99it/s]\n",
      "\n",
      "263it [00:48,  9.28it/s]"
     ]
    },
    {
     "name": "stdout",
     "output_type": "stream",
     "text": [
      "https://lookaside.fbsbx.com/lookaside/crawler/media/?media_id=1397288890533653 no image file?\n"
     ]
    },
    {
     "name": "stderr",
     "output_type": "stream",
     "text": [
      "\n",
      "\n",
      "265it [00:49,  6.46it/s]\n",
      "\n",
      "267it [00:49,  8.11it/s]\n",
      "\n",
      "269it [00:49,  8.67it/s]\n",
      "\n",
      "272it [00:49, 10.89it/s]\n",
      "\n",
      "276it [00:49, 13.35it/s]\n",
      "\n",
      "279it [00:50,  7.81it/s]\n",
      "\n",
      "281it [00:50,  9.46it/s]\n",
      "\n",
      "283it [00:51,  5.71it/s]\n",
      "\n",
      "286it [00:51,  7.26it/s]\n",
      "\n",
      "288it [00:53,  2.16it/s]\n",
      "\n",
      "291it [00:53,  2.90it/s]\n",
      "\n",
      "293it [00:54,  3.87it/s]\n",
      "\n",
      "297it [00:54,  5.23it/s]\n",
      "\n",
      "301it [00:54,  6.94it/s]"
     ]
    },
    {
     "name": "stdout",
     "output_type": "stream",
     "text": [
      "https://lookaside.fbsbx.com/lookaside/crawler/media/?media_id=1397288890533653 no image file?\n"
     ]
    },
    {
     "name": "stderr",
     "output_type": "stream",
     "text": [
      "\n",
      "\n",
      "304it [00:54,  7.20it/s]\n",
      "\n",
      "307it [00:54,  8.99it/s]\n",
      "\n",
      "310it [00:55,  8.13it/s]"
     ]
    },
    {
     "name": "stdout",
     "output_type": "stream",
     "text": [
      "https://d.newsweek.com/en/full/1268812/fe-beyond-fear-08.webp?w=600&q=75&f=54e5d0e2d9a9c319b936215771f3e83e no image file?\n"
     ]
    },
    {
     "name": "stderr",
     "output_type": "stream",
     "text": [
      "\n",
      "\n",
      "313it [00:55, 10.26it/s]\n",
      "\n",
      "315it [01:05,  1.58s/it]\n",
      "\n",
      "317it [01:05,  1.13s/it]\n",
      "\n",
      "320it [01:05,  1.24it/s]\n",
      "\n",
      "322it [01:05,  1.72it/s]\n",
      "\n",
      "325it [01:06,  2.37it/s]"
     ]
    },
    {
     "name": "stdout",
     "output_type": "stream",
     "text": [
      "https://lookaside.fbsbx.com/lookaside/crawler/media/?media_id=1397288890533653 no image file?\n"
     ]
    },
    {
     "name": "stderr",
     "output_type": "stream",
     "text": [
      "\n",
      "\n",
      "327it [01:06,  2.95it/s]"
     ]
    },
    {
     "name": "stdout",
     "output_type": "stream",
     "text": [
      "https://lookaside.fbsbx.com/lookaside/crawler/media/?media_id=1397288890533653 no image file?\n"
     ]
    },
    {
     "name": "stderr",
     "output_type": "stream",
     "text": [
      "\n",
      "\n",
      "329it [01:06,  3.45it/s]\n",
      "\n",
      "333it [01:07,  3.97it/s]\n",
      "\n",
      "336it [01:07,  5.30it/s]\n",
      "\n",
      "338it [01:07,  5.92it/s]"
     ]
    },
    {
     "name": "stdout",
     "output_type": "stream",
     "text": [
      "https://quizizz.com/media/resource/gs/quizizz-media/quizzes/30345686-6ac7-4387-8d38-f7ef2e27c812 no image file?\n"
     ]
    },
    {
     "name": "stderr",
     "output_type": "stream",
     "text": [
      "\n",
      "\n",
      "341it [01:07,  7.56it/s]\n",
      "\n",
      "343it [01:08,  6.09it/s]"
     ]
    },
    {
     "name": "stdout",
     "output_type": "stream",
     "text": [
      "https://quizizz.com/media/resource/gs/quizizz-media/quizzes/a59ce7c3-163d-4bed-9113-df7358bbbf18 no image file?\n"
     ]
    },
    {
     "name": "stderr",
     "output_type": "stream",
     "text": [
      "\n",
      "\n",
      "346it [01:08,  7.69it/s]\n",
      "\n",
      "348it [01:08,  8.22it/s]"
     ]
    },
    {
     "name": "stdout",
     "output_type": "stream",
     "text": [
      "https://quizizz.com/media/resource/gs/quizizz-media/quizzes/738d8bd8-f479-4fee-89a5-943e75ae514a no image file?\n"
     ]
    },
    {
     "name": "stderr",
     "output_type": "stream",
     "text": [
      "\n",
      "\n",
      "350it [01:08,  9.93it/s]\n",
      "\n",
      "353it [01:08, 12.33it/s]"
     ]
    },
    {
     "name": "stdout",
     "output_type": "stream",
     "text": [
      "https://media.quizizz.com/resource/gs/quizizz-media/quizzes/L2FwcGhvc3RpbmdfcHJvZC9ibG9icy9BRW5CMlVyaWxIeURRVEg5RWJydkhLMklkQmVkalZUMjBNbm9hd0dFUWNLR21LRm16VTdKRUxTazgxcXVxT0VDYW9ra2E3UzdwNWw1dlY3SWRxbnZWb0c1bE0wYUd3XzYzdy5YUkRMdjRHUDhOcmJVSm9z no image file?\n"
     ]
    },
    {
     "name": "stderr",
     "output_type": "stream",
     "text": [
      "\n",
      "\n",
      "355it [01:09,  8.31it/s]\n",
      "\n",
      "357it [01:09,  6.44it/s]\n",
      "\n",
      "359it [01:09,  7.45it/s]\n",
      "\n",
      "362it [01:10,  9.53it/s]\n",
      "\n",
      "364it [01:10,  8.25it/s]\n",
      "\n",
      "366it [01:10,  9.19it/s]\n",
      "\n",
      "369it [01:10, 11.18it/s]\n",
      "\n",
      "373it [01:10, 14.10it/s]\n",
      "\n",
      "377it [01:10, 16.86it/s]\n",
      "\n",
      "381it [01:12,  7.84it/s]\n",
      "\n",
      "384it [01:13,  4.54it/s]\n",
      "\n",
      "387it [01:13,  4.83it/s]\n",
      "\n",
      "389it [01:15,  2.65it/s]\n",
      "\n",
      "391it [01:15,  3.52it/s]\n",
      "\n",
      "393it [01:15,  4.58it/s]\n",
      "\n",
      "395it [01:15,  5.82it/s]\n",
      "\n",
      "397it [01:15,  7.12it/s]\n",
      "\n",
      "399it [01:16,  6.67it/s]\n",
      "\n",
      "403it [01:16,  8.53it/s]"
     ]
    },
    {
     "name": "stdout",
     "output_type": "stream",
     "text": [
      "http://inews.gtimg.com/newsapp_match/0/3601906502/0 no image file?\n"
     ]
    },
    {
     "name": "stderr",
     "output_type": "stream",
     "text": [
      "\n",
      "\n",
      "405it [01:16,  9.21it/s]\n",
      "\n",
      "409it [01:16, 11.77it/s]\n",
      "\n",
      "412it [01:16, 14.28it/s]\n",
      "\n",
      "415it [01:17,  6.24it/s]\n",
      "\n",
      "417it [01:19,  3.37it/s]\n",
      "\n",
      "419it [01:19,  4.47it/s]\n",
      "\n",
      "423it [01:19,  6.02it/s]\n",
      "\n",
      "426it [01:19,  7.74it/s]\n",
      "\n",
      "430it [01:19, 10.21it/s]\n",
      "\n",
      "434it [01:19, 13.09it/s]\n",
      "\n",
      "437it [01:19, 15.56it/s]\n",
      "\n",
      "440it [01:20, 18.10it/s]\n",
      "\n",
      "443it [01:20, 18.32it/s]"
     ]
    },
    {
     "name": "stdout",
     "output_type": "stream",
     "text": [
      "https://lookaside.fbsbx.com/lookaside/crawler/media/?media_id=1397288890533653 no image file?\n"
     ]
    },
    {
     "name": "stderr",
     "output_type": "stream",
     "text": [
      "\n",
      "\n",
      "443it [01:39, 18.32it/s]\n",
      "\n",
      "446it [01:39,  1.99s/it]\n",
      "\n",
      "447it [01:39,  1.44s/it]\n",
      "\n",
      "449it [01:39,  1.04s/it]\n",
      "\n",
      "452it [01:40,  1.27it/s]\n",
      "\n",
      "453it [01:41,  1.41it/s]\n",
      "\n",
      "454it [01:41,  1.52it/s]\n",
      "\n",
      "457it [01:41,  2.11it/s]\n",
      "\n",
      "459it [01:42,  2.64it/s]\n",
      "\n",
      "461it [01:42,  3.44it/s]\n",
      "\n",
      "462it [01:42,  4.16it/s]\n",
      "\n",
      "464it [01:42,  5.34it/s]\n",
      "\n",
      "466it [01:47,  1.09it/s]\n",
      "\n",
      "468it [01:47,  1.52it/s]\n",
      "\n",
      "470it [01:48,  1.81it/s]\n",
      "\n",
      "471it [01:49,  1.76it/s]\n",
      "\n",
      "472it [01:49,  2.23it/s]\n",
      "\n",
      "473it [01:50,  1.87it/s]\n",
      "\n",
      "475it [01:50,  2.36it/s]\n",
      "\n",
      "478it [01:51,  2.60it/s]"
     ]
    },
    {
     "name": "stdout",
     "output_type": "stream",
     "text": [
      "https://lookaside.fbsbx.com/lookaside/crawler/media/?media_id=1397288890533653 no image file?\n"
     ]
    },
    {
     "name": "stderr",
     "output_type": "stream",
     "text": [
      "\n",
      "\n",
      "480it [01:51,  3.18it/s]\n",
      "\n",
      "482it [01:53,  1.73it/s]\n",
      "\n",
      "483it [01:54,  1.80it/s]\n",
      "\n",
      "485it [01:55,  2.09it/s]\n",
      "\n",
      "489it [01:55,  2.92it/s]\n",
      "\n",
      "491it [01:55,  3.83it/s]\n",
      "\n",
      "493it [01:55,  4.27it/s]\n",
      "\n",
      "495it [01:56,  4.08it/s]\n",
      "\n",
      "496it [01:57,  1.42it/s]\n",
      "\n",
      "497it [01:59,  1.17it/s]\n",
      "\n",
      "498it [01:59,  1.36it/s]\n",
      "\n",
      "499it [02:00,  1.34it/s]\n",
      "\n",
      "502it [02:00,  1.88it/s]\n",
      "\n",
      "504it [02:03,  1.12it/s]\n",
      "\n",
      "505it [02:04,  1.48it/s]\n",
      "\n",
      "507it [02:04,  1.91it/s]\n",
      "\n",
      "508it [02:04,  2.39it/s]"
     ]
    },
    {
     "name": "stdout",
     "output_type": "stream",
     "text": [
      "https://lookaside.fbsbx.com/lookaside/crawler/media/?media_id=1397288890533653 no image file?\n"
     ]
    },
    {
     "name": "stderr",
     "output_type": "stream",
     "text": [
      "\n",
      "\n",
      "509it [02:04,  2.72it/s]\n",
      "\n",
      "511it [02:05,  3.32it/s]\n",
      "\n",
      "512it [02:05,  3.46it/s]\n",
      "\n",
      "513it [02:05,  3.73it/s]"
     ]
    },
    {
     "name": "stdout",
     "output_type": "stream",
     "text": [
      "https://lookaside.fbsbx.com/lookaside/crawler/media/?media_id=1397288890533653 no image file?\n"
     ]
    },
    {
     "name": "stderr",
     "output_type": "stream",
     "text": [
      "\n",
      "\n",
      "515it [02:05,  4.30it/s]\n",
      "\n",
      "516it [02:06,  3.03it/s]\n",
      "\n",
      "518it [02:07,  3.23it/s]\n",
      "\n",
      "519it [02:07,  3.24it/s]\n",
      "\n",
      "520it [02:07,  3.71it/s]\n",
      "\n",
      "522it [02:07,  4.79it/s]"
     ]
    },
    {
     "name": "stdout",
     "output_type": "stream",
     "text": [
      "https://qph.fs.quoracdn.net/main-qimg-206c90ee21d6b9efa8933e9cf680f352 no image file?\n"
     ]
    },
    {
     "name": "stderr",
     "output_type": "stream",
     "text": [
      "\n",
      "\n",
      "523it [02:07,  5.11it/s]\n",
      "\n",
      "524it [02:09,  1.84it/s]\n",
      "\n",
      "526it [02:09,  2.18it/s]\n",
      "\n",
      "527it [02:09,  2.68it/s]\n",
      "\n",
      "528it [02:10,  1.66it/s]"
     ]
    },
    {
     "name": "stdout",
     "output_type": "stream",
     "text": [
      "http://nebula.wsimg.com/1403f5597e21f5d81c0a6a873b9c043c?AccessKeyId=C73C2E02896658BBF651&disposition=0&alloworigin=1 no image file?\n"
     ]
    },
    {
     "name": "stderr",
     "output_type": "stream",
     "text": [
      "\n",
      "\n",
      "530it [02:13,  1.29it/s]\n",
      "\n",
      "533it [02:13,  1.79it/s]\n",
      "\n",
      "534it [02:13,  2.33it/s]\n",
      "\n",
      "535it [02:14,  2.13it/s]\n",
      "\n",
      "536it [02:14,  2.35it/s]\n",
      "\n",
      "537it [02:15,  1.99it/s]\n",
      "\n",
      "538it [02:16,  1.43it/s]\n",
      "\n",
      "539it [02:30,  4.67s/it]\n",
      "\n",
      "540it [02:30,  3.44s/it]\n",
      "\n",
      "541it [02:31,  2.75s/it]\n",
      "\n",
      "542it [02:33,  2.28s/it]\n",
      "\n",
      "543it [02:33,  1.66s/it]\n",
      "\n",
      "545it [02:33,  1.21s/it]\n",
      "\n",
      "546it [02:33,  1.12it/s]\n",
      "\n",
      "548it [02:34,  1.53it/s]\n",
      "\n",
      "549it [02:34,  2.03it/s]\n",
      "\n",
      "550it [02:35,  1.50it/s]\n",
      "\n",
      "551it [02:36,  1.26it/s]\n",
      "\n",
      "552it [02:36,  1.56it/s]\n",
      "\n",
      "554it [02:36,  2.14it/s]\n",
      "\n",
      "556it [02:37,  2.71it/s]\n",
      "\n",
      "557it [02:37,  3.23it/s]\n",
      "\n",
      "558it [02:37,  4.01it/s]\n",
      "\n",
      "560it [02:37,  5.25it/s]\n",
      "\n",
      "562it [02:38,  3.22it/s]\n",
      "\n",
      "563it [02:39,  2.66it/s]\n",
      "\n",
      "565it [02:39,  3.54it/s]\n",
      "\n",
      "567it [02:39,  4.39it/s]\n",
      "\n",
      "568it [02:40,  2.31it/s]\n",
      "\n",
      "569it [02:40,  2.99it/s]\n",
      "\n",
      "571it [02:40,  3.95it/s]\n",
      "\n",
      "573it [02:40,  4.84it/s]\n",
      "\n",
      "575it [02:40,  5.70it/s]\n",
      "\n",
      "576it [02:41,  6.41it/s]\n",
      "\n",
      "577it [02:41,  4.74it/s]\n",
      "\n",
      "579it [02:41,  5.56it/s]\n",
      "\n",
      "580it [02:41,  6.06it/s]\n",
      "\n",
      "582it [02:41,  7.07it/s]\n",
      "\n",
      "583it [02:42,  5.21it/s]\n",
      "\n",
      "584it [02:42,  4.23it/s]\n",
      "\n",
      "585it [02:42,  3.76it/s]\n",
      "\n",
      "586it [02:43,  4.21it/s]"
     ]
    },
    {
     "name": "stdout",
     "output_type": "stream",
     "text": [
      "https://lh3.googleusercontent.com/t9d4uO-DfxXjkDC5eOeog6KJVaCuImU54e7E2A_jLz5S_LFPkIRnRRZhFJFzON5ElqWpjDqWMbM0Sx2XZ5kF8RoL85JoM726znAKjx_98l0rQfJ8Nc_0A8Kewrhe3Cqphqn8_2Q2 no image file?\n"
     ]
    },
    {
     "name": "stderr",
     "output_type": "stream",
     "text": [
      "\n",
      "\n",
      "588it [02:43,  4.32it/s]\n",
      "\n",
      "589it [02:44,  2.92it/s]\n",
      "\n",
      "593it [02:44,  4.05it/s]\n",
      "\n",
      "597it [02:44,  5.51it/s]\n",
      "\n",
      "600it [02:45,  3.49it/s]\n",
      "\n",
      "602it [02:47,  2.22it/s]\n",
      "\n",
      "604it [02:48,  2.67it/s]\n",
      "\n",
      "605it [02:48,  3.01it/s]\n",
      "\n",
      "606it [02:48,  2.93it/s]\n",
      "\n",
      "607it [02:49,  2.26it/s]\n",
      "\n",
      "608it [02:50,  1.69it/s]\n",
      "\n",
      "610it [02:51,  1.74it/s]\n",
      "\n",
      "611it [02:51,  2.26it/s]\n",
      "\n",
      "614it [02:51,  3.09it/s]\n",
      "\n",
      "616it [02:51,  3.59it/s]\n",
      "\n",
      "620it [02:52,  4.88it/s]\n",
      "\n",
      "622it [02:54,  2.27it/s]"
     ]
    },
    {
     "name": "stdout",
     "output_type": "stream",
     "text": [
      "https://lookaside.fbsbx.com/lookaside/crawler/media/?media_id=1397288890533653 no image file?\n"
     ]
    },
    {
     "name": "stderr",
     "output_type": "stream",
     "text": [
      "\n",
      "\n",
      "624it [02:54,  2.52it/s]\n",
      "\n",
      "625it [02:54,  3.24it/s]\n",
      "\n",
      "628it [02:55,  4.04it/s]\n",
      "\n",
      "629it [02:55,  4.79it/s]\n",
      "\n",
      "631it [02:55,  6.05it/s]\n",
      "\n",
      "633it [02:56,  4.03it/s]\n",
      "\n",
      "635it [02:56,  4.59it/s]\n",
      "\n",
      "636it [02:57,  2.56it/s]\n",
      "\n",
      "638it [02:57,  3.38it/s]"
     ]
    },
    {
     "name": "stdout",
     "output_type": "stream",
     "text": [
      "https://theonlinephotographer.typepad.com/.a/6a00df351e888f88340167685b9003970b-800wi no image file?\n"
     ]
    },
    {
     "name": "stderr",
     "output_type": "stream",
     "text": [
      "\n",
      "\n",
      "641it [03:05,  1.06s/it]\n",
      "\n",
      "642it [03:06,  1.13it/s]\n",
      "\n",
      "643it [03:06,  1.54it/s]\n",
      "\n",
      "644it [03:06,  1.81it/s]\n",
      "\n",
      "645it [03:09,  1.07s/it]\n",
      "\n",
      "647it [03:09,  1.30it/s]\n",
      "\n",
      "650it [03:09,  1.71it/s]\n",
      "\n",
      "652it [03:09,  2.34it/s]"
     ]
    },
    {
     "name": "stdout",
     "output_type": "stream",
     "text": [
      "https://lookaside.fbsbx.com/lookaside/crawler/media/?media_id=1397288890533653 no image file?\n"
     ]
    },
    {
     "name": "stderr",
     "output_type": "stream",
     "text": [
      "\n",
      "\n",
      "654it [03:10,  2.88it/s]\n",
      "\n",
      "656it [03:10,  2.77it/s]\n",
      "\n",
      "660it [03:11,  3.33it/s]\n",
      "\n",
      "662it [03:11,  3.66it/s]\n",
      "\n",
      "665it [03:12,  3.91it/s]\n",
      "\n",
      "667it [03:12,  5.06it/s]\n",
      "\n",
      "669it [03:13,  3.43it/s]\n",
      "\n",
      "671it [03:17,  1.24it/s]\n",
      "\n",
      "674it [03:18,  1.62it/s]\n",
      "\n",
      "675it [03:19,  1.12it/s]\n",
      "\n",
      "676it [03:20,  1.42it/s]\n",
      "\n",
      "678it [03:20,  1.94it/s]"
     ]
    },
    {
     "name": "stdout",
     "output_type": "stream",
     "text": [
      "https://theonlinephotographer.typepad.com/.a/6a00df351e888f88340167685b9003970b-800wi no image file?\n"
     ]
    },
    {
     "name": "stderr",
     "output_type": "stream",
     "text": [
      "\n",
      "\n",
      "680it [03:26,  1.34s/it]\n",
      "\n",
      "681it [03:27,  1.04s/it]"
     ]
    },
    {
     "name": "stdout",
     "output_type": "stream",
     "text": [
      "http://theonlinephotographer.typepad.com/.a/6a00df351e888f88340167685b9003970b-800wi no image file?\n"
     ]
    },
    {
     "name": "stderr",
     "output_type": "stream",
     "text": [
      "\n",
      "\n",
      "683it [03:27,  1.20it/s]"
     ]
    },
    {
     "name": "stdout",
     "output_type": "stream",
     "text": [
      "https://theonlinephotographer.typepad.com/.a/6a00df351e888f88340167685b9003970b-800wi no image file?\n"
     ]
    },
    {
     "name": "stderr",
     "output_type": "stream",
     "text": [
      "\n",
      "\n",
      "684it [03:35,  2.82s/it]"
     ]
    },
    {
     "name": "stdout",
     "output_type": "stream",
     "text": [
      "https://lookaside.fbsbx.com/lookaside/crawler/media/?media_id=1397288890533653 no image file?\n"
     ]
    },
    {
     "name": "stderr",
     "output_type": "stream",
     "text": [
      "\n",
      "\n",
      "685it [03:35,  2.05s/it]"
     ]
    },
    {
     "name": "stdout",
     "output_type": "stream",
     "text": [
      "https://lookaside.fbsbx.com/lookaside/crawler/media/?media_id=1397288890533653 no image file?\n"
     ]
    },
    {
     "name": "stderr",
     "output_type": "stream",
     "text": [
      "\n",
      "\n",
      "688it [03:35,  1.47s/it]\n",
      "\n",
      "690it [03:36,  1.11s/it]\n",
      "\n",
      "691it [03:36,  1.24it/s]\n",
      "\n",
      "693it [03:36,  1.66it/s]"
     ]
    },
    {
     "name": "stdout",
     "output_type": "stream",
     "text": [
      "https://img.mackin.com/pics/6/9/6/1/7/6961736.gif no image file?\n"
     ]
    },
    {
     "name": "stderr",
     "output_type": "stream",
     "text": [
      "\n",
      "\n",
      "695it [03:37,  1.90it/s]\n",
      "\n",
      "697it [03:37,  2.54it/s]\n",
      "\n",
      "700it [03:37,  3.43it/s]\n",
      "\n",
      "702it [03:38,  3.60it/s]\n",
      "\n",
      "703it [03:38,  3.09it/s]\n",
      "\n",
      "704it [03:39,  2.91it/s]"
     ]
    },
    {
     "name": "stdout",
     "output_type": "stream",
     "text": [
      "http://nebula.wsimg.com/1403f5597e21f5d81c0a6a873b9c043c?AccessKeyId=C73C2E02896658BBF651&disposition=0&alloworigin=1 no image file?\n"
     ]
    },
    {
     "name": "stderr",
     "output_type": "stream",
     "text": [
      "\n",
      "\n",
      "707it [03:39,  3.96it/s]\n",
      "\n",
      "709it [03:39,  4.81it/s]\n",
      "\n",
      "711it [03:40,  3.17it/s]\n",
      "\n",
      "713it [03:41,  2.80it/s]\n",
      "\n",
      "716it [03:42,  2.97it/s]"
     ]
    },
    {
     "name": "stdout",
     "output_type": "stream",
     "text": [
      "https://cdn.thinglink.me/api/image/2YRZBi4FZVHeYVNaBZ3Xjg4kZ3dCDLorRZ8RBMvvoEZnQvfk5P7inhvPLSJoSX4cZ9sDtWMURmQqvSAjuLTvV6D2F62mSovSfpr/320/320/scaledown no image file?\n"
     ]
    },
    {
     "name": "stderr",
     "output_type": "stream",
     "text": [
      "\n",
      "\n",
      "717it [03:42,  3.67it/s]\n",
      "\n",
      "718it [03:43,  2.31it/s]\n",
      "\n",
      "721it [03:43,  3.15it/s]\n",
      "\n",
      "725it [03:43,  4.23it/s]\n",
      "\n",
      "729it [03:43,  5.76it/s]\n",
      "\n",
      "733it [03:43,  7.65it/s]\n",
      "\n",
      "736it [03:43,  9.12it/s]\n",
      "\n",
      "739it [03:44,  8.57it/s]\n",
      "\n",
      "741it [03:44,  9.43it/s]\n",
      "\n",
      "743it [03:45,  5.26it/s]\n",
      "\n",
      "745it [03:47,  2.21it/s]\n",
      "\n",
      "746it [03:47,  2.85it/s]"
     ]
    },
    {
     "ename": "ContentTooShortError",
     "evalue": "<urlopen error retrieval incomplete: got only 61963 out of 122746 bytes>",
     "output_type": "error",
     "traceback": [
      "\u001b[1;31m---------------------------------------------------------------------------\u001b[0m",
      "\u001b[1;31mContentTooShortError\u001b[0m                      Traceback (most recent call last)",
      "\u001b[1;32m<ipython-input-44-397dd1d8d149>\u001b[0m in \u001b[0;36m<module>\u001b[1;34m()\u001b[0m\n\u001b[0;32m      1\u001b[0m \u001b[0murl_path\u001b[0m \u001b[1;33m=\u001b[0m \u001b[1;34m'C://Users//Ruben//Documents//GitHub//ReACT_GCV//code//work/images_l3//'\u001b[0m\u001b[1;33m\u001b[0m\u001b[0m\n\u001b[0;32m      2\u001b[0m \u001b[0mos\u001b[0m\u001b[1;33m.\u001b[0m\u001b[0mchdir\u001b[0m\u001b[1;33m(\u001b[0m\u001b[0murl_path\u001b[0m\u001b[1;33m)\u001b[0m\u001b[1;33m\u001b[0m\u001b[0m\n\u001b[1;32m----> 3\u001b[1;33m \u001b[0mscrapeAllImages\u001b[0m\u001b[1;33m(\u001b[0m\u001b[0mtotal_url\u001b[0m\u001b[1;33m)\u001b[0m\u001b[1;33m\u001b[0m\u001b[0m\n\u001b[0m",
      "\u001b[1;32m<ipython-input-42-3ec454326c8c>\u001b[0m in \u001b[0;36mscrapeAllImages\u001b[1;34m(list_urls)\u001b[0m\n\u001b[0;32m     48\u001b[0m \u001b[1;33m\u001b[0m\u001b[0m\n\u001b[0;32m     49\u001b[0m         \u001b[1;32mtry\u001b[0m\u001b[1;33m:\u001b[0m\u001b[1;33m\u001b[0m\u001b[0m\n\u001b[1;32m---> 50\u001b[1;33m             \u001b[0murllib\u001b[0m\u001b[1;33m.\u001b[0m\u001b[0mrequest\u001b[0m\u001b[1;33m.\u001b[0m\u001b[0murlretrieve\u001b[0m\u001b[1;33m(\u001b[0m\u001b[0murl\u001b[0m\u001b[1;33m,\u001b[0m \u001b[0mfn\u001b[0m\u001b[1;33m)\u001b[0m\u001b[1;33m\u001b[0m\u001b[0m\n\u001b[0m\u001b[0;32m     51\u001b[0m         \u001b[1;32mexcept\u001b[0m \u001b[1;33m(\u001b[0m\u001b[0mHTTPError\u001b[0m\u001b[1;33m,\u001b[0m \u001b[0mTimeoutError\u001b[0m\u001b[1;33m)\u001b[0m \u001b[1;32mas\u001b[0m \u001b[0me\u001b[0m\u001b[1;33m:\u001b[0m\u001b[1;33m\u001b[0m\u001b[0m\n\u001b[0;32m     52\u001b[0m             \u001b[0merrors\u001b[0m \u001b[1;33m+=\u001b[0m \u001b[1;34m\"Error\"\u001b[0m\u001b[1;33m\u001b[0m\u001b[0m\n",
      "\u001b[1;32mC:\\ProgramData\\Anaconda3\\lib\\urllib\\request.py\u001b[0m in \u001b[0;36murlretrieve\u001b[1;34m(url, filename, reporthook, data)\u001b[0m\n\u001b[0;32m    287\u001b[0m         raise ContentTooShortError(\n\u001b[0;32m    288\u001b[0m             \u001b[1;34m\"retrieval incomplete: got only %i out of %i bytes\"\u001b[0m\u001b[1;33m\u001b[0m\u001b[0m\n\u001b[1;32m--> 289\u001b[1;33m             % (read, size), result)\n\u001b[0m\u001b[0;32m    290\u001b[0m \u001b[1;33m\u001b[0m\u001b[0m\n\u001b[0;32m    291\u001b[0m     \u001b[1;32mreturn\u001b[0m \u001b[0mresult\u001b[0m\u001b[1;33m\u001b[0m\u001b[0m\n",
      "\u001b[1;31mContentTooShortError\u001b[0m: <urlopen error retrieval incomplete: got only 61963 out of 122746 bytes>"
     ]
    }
   ],
   "source": [
    "url_path = 'C://Users//Ruben//Documents//GitHub//ReACT_GCV//code//work/images_l3//'\n",
    "os.chdir(url_path)\n",
    "scrapeAllImages(total_url)"
   ]
  },
  {
   "cell_type": "code",
   "execution_count": null,
   "metadata": {},
   "outputs": [],
   "source": [
    "c"
   ]
  },
  {
   "cell_type": "code",
   "execution_count": 21,
   "metadata": {},
   "outputs": [
    {
     "name": "stdout",
     "output_type": "stream",
     "text": [
      "67  not accessible\n",
      "HTTPSConnectionPool(host='www.mediablizz.com', port=443): Max retries exceeded with url: /speechless-portraits-ever/ (Caused by SSLError(SSLError(\"bad handshake: SysCallError(10054, 'WSAECONNRESET')\",),))\n"
     ]
    }
   ],
   "source": [
    "for c,url in enumerate(total_url):\n",
    "\n",
    "    filename = label + '-' + str(c) + \".html\"  \n",
    "    try:\n",
    "        response = requests.get(url)\n",
    "        with open(filename, 'w') as f:\n",
    "                f.write(str(response.text.encode('utf-8')))\n",
    "    except requests.exceptions.RequestException as e:\n",
    "        print(str(c), \" not accessible\")\n",
    "        print(e)\n",
    "        continue\n"
   ]
  },
  {
   "cell_type": "code",
   "execution_count": 47,
   "metadata": {},
   "outputs": [
    {
     "name": "stdout",
     "output_type": "stream",
     "text": [
      "https://themmacommunity.com/threads/57-powerful-photos-from-us-history.38438/\n",
      "https://marketing.by/keysy/vanity-fair-opublikoval-25-luchshikh-fotografiy-k-novostyam-za-100-let/\n",
      "http://pictify.saatchigallery.com/675004/il-baccio-the-kiss-detail-1859-hayez\n",
      "https://sadde.auction.fr/_fr/vente/combas-haring-banksy-obey-seen-hellip-street-art-et-contemporain-59706\n",
      "https://www.kindasuper.com/prints/self-portrait-as-migrantmother\n"
     ]
    },
    {
     "data": {
      "text/plain": [
       "[None, None, None, None, None]"
      ]
     },
     "execution_count": 47,
     "metadata": {},
     "output_type": "execute_result"
    }
   ],
   "source": [
    "[print(i) for i in random.sample(total_pages,5)]"
   ]
  },
  {
   "cell_type": "code",
   "execution_count": null,
   "metadata": {},
   "outputs": [],
   "source": []
  }
 ],
 "metadata": {
  "kernelspec": {
   "display_name": "Python 3",
   "language": "python",
   "name": "python3"
  },
  "language_info": {
   "codemirror_mode": {
    "name": "ipython",
    "version": 3
   },
   "file_extension": ".py",
   "mimetype": "text/x-python",
   "name": "python",
   "nbconvert_exporter": "python",
   "pygments_lexer": "ipython3",
   "version": "3.6.5"
  }
 },
 "nbformat": 4,
 "nbformat_minor": 2
}
