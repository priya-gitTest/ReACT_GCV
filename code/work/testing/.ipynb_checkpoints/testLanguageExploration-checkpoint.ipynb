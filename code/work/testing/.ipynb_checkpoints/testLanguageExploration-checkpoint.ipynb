{
 "cells": [
  {
   "cell_type": "code",
   "execution_count": 1,
   "metadata": {},
   "outputs": [
    {
     "name": "stderr",
     "output_type": "stream",
     "text": [
      "C:\\ProgramData\\Anaconda3\\lib\\site-packages\\gensim\\utils.py:1212: UserWarning: detected Windows; aliasing chunkize to chunkize_serial\n",
      "  warnings.warn(\"detected Windows; aliasing chunkize to chunkize_serial\")\n"
     ]
    }
   ],
   "source": [
    "from gensim.models import FastText\n",
    "import os,sys\n",
    "from urllib.parse import urlparse\n",
    "from getImagesFunctions import *\n",
    "from getDataFunctions import *\n",
    "from gensim.models import Word2Vec\n",
    "import gensim\n",
    "import random\n",
    "import langid\n",
    "import re"
   ]
  },
  {
   "cell_type": "code",
   "execution_count": 2,
   "metadata": {},
   "outputs": [
    {
     "name": "stdout",
     "output_type": "stream",
     "text": [
      "corrupted json file, probably an 400 Error!\n",
      "corrupted json file, probably an 400 Error!\n",
      "corrupted json file, probably an 400 Error!\n",
      "finished gatherPagesUrlsFolder\n"
     ]
    }
   ],
   "source": [
    "urls = gatherPagesUrlsFolder(\"C:/Users/Ruben/Documents/GitHub/ReACT_GCV/code/work/scrape_environment/image_npg_2\")"
   ]
  },
  {
   "cell_type": "code",
   "execution_count": 20,
   "metadata": {},
   "outputs": [],
   "source": [
    "urlsp = [[x for x in urlparse(i) if i][2:] for i in urls]\n",
    "urlsp = [[x for x in i if x] for i in urlsp]\n",
    "urlsp = [\" \".join(x) for x in urlsp]"
   ]
  },
  {
   "cell_type": "code",
   "execution_count": 25,
   "metadata": {},
   "outputs": [],
   "source": [
    "poss_years = [str(i) for i in range(1990,2021)]\n",
    "poss_months_char = {\"jan\":'01', \"feb\":'02', \"mar\":'03', \"apr\":'04', \"may\":'05', \"jun\":'06', \"jul\":'07', \"aug\":'08',\"sep\":'09', \"oct\":'10', \"nov\":'11', \"dec\":'12'}\n",
    "poss_months_int = \"01 02 03 04 05 06 07 08 09 10 11 12\"\n",
    "poss_days_int = [str(i) for i in range(1,32)]\n",
    "poss_days_int = [\"0\"+i for i in poss_days_int if len(i) == 1] + [i for i in poss_days_int if len(i) > 1]"
   ]
  },
  {
   "cell_type": "code",
   "execution_count": 87,
   "metadata": {
    "scrolled": false
   },
   "outputs": [],
   "source": [
    "def SearchURL(url):\n",
    "    u = url.split('/')\n",
    "    doubts = \"no\"\n",
    "    year = \"na\"\n",
    "    month = 'na'\n",
    "    day = 'na'\n",
    "    \n",
    "    if any(y in u for y in poss_years):\n",
    "        index_year = u.index([y for y in u if y in poss_years][0])\n",
    "        \n",
    "        # IF MONTH IS A STRING: \"JAN\" OR \"OCT\"\n",
    "        if u[index_year+1] in poss_months_char.keys():\n",
    "            year = u[index_year]\n",
    "            month = poss_months_char[u[index_year+1]]\n",
    "            if u[index_year+2] in poss_days_int:\n",
    "                day = u[index_year+2]\n",
    "                status = \"found something\"\n",
    "            if u[index_year+2] not in poss_days_int:\n",
    "                day = \"na\"\n",
    "            \n",
    "            \n",
    "        # IF PATTERN IS YEAR-MONTH-DAY\n",
    "        try:\n",
    "            if u[index_year+1] in poss_months_int and u[index_year+2] in poss_days_int:\n",
    "                year = u[index_year]\n",
    "                month = u[index_year+1]\n",
    "                day = u[index_year+2]\n",
    "                status = \"found something\"\n",
    "                if u[index_year+2] in poss_months_int and u[index_year+1] in poss_days_int and u[index_year+1] != u[index_year+2]:\n",
    "                    doubts = \"yes\"\n",
    "        except IndexError:\n",
    "            doubts = \"yes\"\n",
    "\n",
    "        \n",
    "        # IF PATTERN IS YEAR-DAY-MONTH\n",
    "        try:\n",
    "            if u[index_year+1] in poss_days_int and u[index_year+2] in poss_months_int:\n",
    "                year = u[index_year]\n",
    "                month = u[index_year+2]\n",
    "                day = u[index_year+1]\n",
    "                status = \"found something\"\n",
    "                if u[index_year+1] in poss_months_int and u[index_year+2] in poss_days_int and u[index_year+2] != u[index_year+1]:\n",
    "                        doubts = \"yes\"\n",
    "        except IndexError:\n",
    "                doubts = \"yes\"\n",
    "        \n",
    "        # IF PATTERN IS MONTH-DAY-YEAR\n",
    "        try:\n",
    "            if u[index_year-1] in poss_days_int and u[index_year-2] in poss_months_int:\n",
    "                year = u[index_year]\n",
    "                month = u[index_year-2]\n",
    "                day = u[index_year-1]\n",
    "                status = \"found something\"\n",
    "                if u[index_year-1] in poss_months_int and u[index_year-2] in poss_days_int and u[index_year-1] != u[index_year-2]:\n",
    "                    doubts = \"yes\"\n",
    "        except IndexError:\n",
    "                doubts = \"yes\"\n",
    "        \n",
    "        # IF PATTERN IS DAY-MONTH-YEAR\n",
    "        try:\n",
    "            if u[index_year-2] in poss_days_int and u[index_year-1] in poss_months_int:\n",
    "                year = u[index_year]\n",
    "                month = u[index_year-1]\n",
    "                day = u[index_year-2]\n",
    "                status = \"found something\"\n",
    "                if u[index_year-2] in poss_months_int and u[index_year-1] in poss_days_int and u[index_year-2] != u[index_year-1]:\n",
    "                    doubts = \"yes\"\n",
    "        except IndexError:\n",
    "                doubts = \"yes\"\n",
    "       \n",
    "        status = \"found something\"\n",
    "        \n",
    "        if doubts == \"no\" and status == \"found something\" and year != \"na\" and month != \"na\" and day != \"na\":\n",
    "            return [year,month,day]\n",
    "        \n",
    "        elif doubts == \"yes\":\n",
    "            return [\"na\"]\n",
    "    else:\n",
    "        status = \"found nothing\"\n"
   ]
  },
  {
   "cell_type": "code",
   "execution_count": 88,
   "metadata": {
    "scrolled": false
   },
   "outputs": [],
   "source": [
    "total = 0\n",
    "result = 0\n",
    "\n",
    "d_ = dict()\n",
    "\n",
    "for u in urlsp:\n",
    "    \n",
    "    res = SearchURL(u)\n",
    "    \n",
    "    if res and res != ['na']:\n",
    "        #print(u)\n",
    "        #print(res)\n",
    "        #print('--------------------')\n",
    "        d_.update({u:res})\n",
    "        result += 1\n",
    "        total += 1\n",
    "    else:\n",
    "        total += 1\n",
    "        \n",
    "        "
   ]
  },
  {
   "cell_type": "code",
   "execution_count": 91,
   "metadata": {},
   "outputs": [
    {
     "data": {
      "text/plain": [
       "3649"
      ]
     },
     "execution_count": 91,
     "metadata": {},
     "output_type": "execute_result"
    }
   ],
   "source": [
    "result"
   ]
  },
  {
   "cell_type": "code",
   "execution_count": null,
   "metadata": {},
   "outputs": [],
   "source": []
  }
 ],
 "metadata": {
  "kernelspec": {
   "display_name": "Python 3",
   "language": "python",
   "name": "python3"
  },
  "language_info": {
   "codemirror_mode": {
    "name": "ipython",
    "version": 3
   },
   "file_extension": ".py",
   "mimetype": "text/x-python",
   "name": "python",
   "nbconvert_exporter": "python",
   "pygments_lexer": "ipython3",
   "version": "3.6.5"
  }
 },
 "nbformat": 4,
 "nbformat_minor": 2
}
