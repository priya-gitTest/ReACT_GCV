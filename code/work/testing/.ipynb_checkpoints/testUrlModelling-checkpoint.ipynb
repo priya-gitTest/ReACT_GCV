{
 "cells": [
  {
   "cell_type": "code",
   "execution_count": 37,
   "metadata": {},
   "outputs": [],
   "source": [
    "from gensim.models import FastText\n",
    "import os,sys\n",
    "from urllib.parse import urlparse\n",
    "from getImagesFunctions import *\n",
    "from getDataFunctions import *\n",
    "from gensim.models import Word2Vec\n",
    "import gensim\n",
    "import random\n",
    "from numpy import vstack,array\n",
    "from numpy.random import rand\n",
    "from scipy.cluster.vq import kmeans,vq\n",
    "import numpy as np\n",
    "import matplotlib.pyplot as plt\n",
    "from sklearn.cluster import AffinityPropagation\n"
   ]
  },
  {
   "cell_type": "code",
   "execution_count": 2,
   "metadata": {},
   "outputs": [
    {
     "name": "stdout",
     "output_type": "stream",
     "text": [
      "corrupted json file, probably an 400 Error!\n",
      "corrupted json file, probably an 400 Error!\n",
      "corrupted json file, probably an 400 Error!\n",
      "finished gatherPagesUrlsFolder\n"
     ]
    }
   ],
   "source": [
    "urls = gatherPagesUrlsFolder(\"C:/Users/Ruben/Documents/GitHub/ReACT_GCV/code/work/scrape_environment/image_npg_2\")"
   ]
  },
  {
   "cell_type": "code",
   "execution_count": 10,
   "metadata": {},
   "outputs": [],
   "source": [
    "sentences_parsed = [[str(i) for i in urlparse(x) if i] for x in urls]\n",
    "model = FastText(sentences_parsed, size=100, window=25, min_count=1, workers=6,sg=1)\n",
    "model.save(\"model_parsed.w2v\")"
   ]
  },
  {
   "cell_type": "code",
   "execution_count": 11,
   "metadata": {},
   "outputs": [],
   "source": [
    "mp = gensim.models.KeyedVectors.load('model_parsed.w2v')"
   ]
  },
  {
   "cell_type": "code",
   "execution_count": 24,
   "metadata": {},
   "outputs": [
    {
     "name": "stdout",
     "output_type": "stream",
     "text": [
      "1817\n"
     ]
    }
   ],
   "source": [
    "cons = [i for i in model.wv.vocab if str(i)[0] == '/' and len(str(i)) > 25]\n",
    "print(len(cons))"
   ]
  },
  {
   "cell_type": "code",
   "execution_count": 38,
   "metadata": {},
   "outputs": [],
   "source": [
    "def DistanceMatrix(list_words, model):\n",
    "    \n",
    "    list_words = [w for w in list_words if w in list(model.wv.vocab)]\n",
    "    print(\"created list with \" + str(len(list_words)) + \" words\")\n",
    "\n",
    "    total_list = list()\n",
    "    \n",
    "    for word in list_words:\n",
    "        \n",
    "        list_word = list()\n",
    "        \n",
    "        for term in list_words:\n",
    "            #tmp = model.distance(word, term)\n",
    "            tmp = model.similarity(word, term)\n",
    "\n",
    "            list_word.append(tmp)\n",
    "        \n",
    "        total_list.append(list_word)\n",
    "    df = pd.DataFrame(total_list, columns = list_words, index = list_words)\n",
    "    return df\n",
    "\n",
    "def ClusterWord(matrix, k):\n",
    "    centroids,_ = kmeans(matrix,k)\n",
    "    idx,_ = vq(matrix,centroids)\n",
    "    \n",
    "    return dict(zip(list(matrix.index), idx))\n",
    "\n",
    "def GetNumClus(distance_matrix):\n",
    "    af = AffinityPropagation(affinity='precomputed',preference=-2).fit(np.array(distance_matrix.values))\n",
    "    cluster_centers_indices = af.cluster_centers_indices_\n",
    "    labels = af.labels_\n",
    "\n",
    "    no_clusters = len(cluster_centers_indices)\n",
    "    return no_clusters"
   ]
  },
  {
   "cell_type": "code",
   "execution_count": 26,
   "metadata": {},
   "outputs": [
    {
     "name": "stdout",
     "output_type": "stream",
     "text": [
      "created list with 1817 words\n"
     ]
    },
    {
     "name": "stderr",
     "output_type": "stream",
     "text": [
      "C:\\ProgramData\\Anaconda3\\lib\\site-packages\\ipykernel_launcher.py:14: DeprecationWarning: Call to deprecated `similarity` (Method will be removed in 4.0.0, use self.wv.similarity() instead).\n",
      "  \n",
      "C:\\ProgramData\\Anaconda3\\lib\\site-packages\\gensim\\matutils.py:737: FutureWarning: Conversion of the second argument of issubdtype from `int` to `np.signedinteger` is deprecated. In future, it will be treated as `np.int32 == np.dtype(int).type`.\n",
      "  if np.issubdtype(vec.dtype, np.int):\n"
     ]
    }
   ],
   "source": [
    "dm = DistanceMatrix(cons,mp)"
   ]
  },
  {
   "cell_type": "code",
   "execution_count": 40,
   "metadata": {},
   "outputs": [
    {
     "name": "stdout",
     "output_type": "stream",
     "text": [
      "12\n"
     ]
    }
   ],
   "source": [
    "nc = GetNumClus(dm)\n",
    "print(nc)"
   ]
  },
  {
   "cell_type": "code",
   "execution_count": 41,
   "metadata": {},
   "outputs": [],
   "source": [
    "cl = ClusterWord(dm,12)"
   ]
  },
  {
   "cell_type": "code",
   "execution_count": 43,
   "metadata": {
    "scrolled": false
   },
   "outputs": [
    {
     "data": {
      "text/plain": [
       "['/2016/09/254-obscenity-of-war.html',\n",
       " '/gesundheit/laserbehandlung-soll-das-leiden-von-kim-phuc-lindern-6519976.html',\n",
       " '/tag/Phan-Th%E1%BB%8B-Kim-Ph%C3%BAc.epi',\n",
       " '/vesti/7230-cuvena-vijetnamska-devojcica-konacno-zalecila-svoje-rane.html',\n",
       " '/wirtschaft/article158354322/Zuckerberg-hob-Napalm-Foto-wieder-ins-Netzwerk.html',\n",
       " '/mark-zuckerberg-bi-chi-trich-vi-go-buc-anh-chien-tranh-vn-post680378.html',\n",
       " '/em-be-napalm-trong-chien-tranh-viet-nam-bi-facebook-liet-vao-anh-khoa-than.html',\n",
       " '/tin-quoc-te/em-be-napalm-trong-chien-tranh-viet-nam-bi-facebook-liet-vao-anh-khoa-than-c5a445471.html',\n",
       " '/jm/photo/2015-11-02/city-jm-ifxkhqea2951009.shtml',\n",
       " '/tin-tuc/em-be-napalm-trong-chien-tranh-viet-nam-bi-facebook-liet-vao-anh-kiem-duyet-c73a280802.html',\n",
       " '/time-photographer-james-nachtwey-presented-112631916.html',\n",
       " '/lifestyle/london-life/most-powerful-news-images-a4264981.html',\n",
       " '/Kim-Phuc-Phan-Thi/!t5572499/',\n",
       " '/vermischtes/article206333871/Laser-Behandlung-soll-Kim-Phucs-Napalm-Narben-lindern.html',\n",
       " '/politik/ertrunken-im-rio-grande-das-unertraegliche-zeigen-oder-nicht-zeigen/24497748.html',\n",
       " '/politik/ertrunken-im-rio-grande-das-unertraegliche-zeigen-oder-nicht-zeigen/24497258.html',\n",
       " '/ihmiset/art-2000002766923.html',\n",
       " '/ihmiset/art-2000002766800.html',\n",
       " '/chi-tiet/mark-zuckerberg-bi-chi-trich-vi-xoa-buc-anh-chien-tranh-viet-nam-12693.html',\n",
       " '/nhung-buc-anh-lam-thay-doi-the-gioi-n164802.html',\n",
       " '/news/health-care/article125178524.html',\n",
       " '/universo-cristao/44226/vinte-e-quatro-cristaos-estao-desaparecidos-no-golfo-persico.html',\n",
       " '/2019/02/dresdner-friedenspreis-2019-ehrung-fur.html',\n",
       " '/tin-tuc-quoc-te/buc-anh-chan-dong-ve-chien-tranh-viet-nam-duoc-chon-la-co-suc-anh-huong-nhat-50-nam-c415a1092534.html',\n",
       " '/daydzhest/tzhnata-istoriya-zad-strashnata-snimka-18-na-golata-kim-koyato-razplaka-sveta-video_news722101.html',\n",
       " '/mundo/fotos-hicieron-historia-debate-horror-primer-plano_0_skMWGfbkD.html',\n",
       " '/facebook-bi-chi-trich-vi-chan-buc-anh-noi-tieng-em-be-napalm-17097.html',\n",
       " '/digital/technik/themen/laser-4147308.html',\n",
       " '/van-hoa/su-that-dang-sau-10-buc-anh-giai-pulitzer-chan-dong-the-gioi-3992630-b.html',\n",
       " '/chu-de/doi-song/tong-bien-tap-doi-dau-voi-facebook-vi-em-be-napalm-968666.html',\n",
       " '/chu-de/giai-tri/facebook-em-be-napalm-va-anh-khoa-than-970702.html',\n",
       " '/2020/02/17/opinion/photojournalism-children-nick-ut.html',\n",
       " '/2017/02/mmfa-2017-adel-abdessemed.html',\n",
       " '/2020/01/saturday-girl-mobi-download.html',\n",
       " '/2019/10/saturday-girl-epub-download.html',\n",
       " '/chan-71659152/all_p1.html',\n",
       " '/Vietnamese+schools+girl+nude/pic1.html',\n",
       " '/Foto/a103583/Napalm-devojcica-iz-Vijetnama-skida-oziljke-posle-43-godine.html',\n",
       " '/Foto/a81162/Napalm-djevojcica-iz-Vijetnama-skida-oziljke-nakon-43-god.html',\n",
       " '/Svet/a103579/Napalm-devojcica-iz-Vijetnama-skida-oziljke.html',\n",
       " '/facebook-nhuong-bo-vu-dang-anh-em-be-napalm-post680611.html',\n",
       " '/Nyheter/2016-10-04/Har-du-delt-394348.html',\n",
       " '/kultur/gesellschaft/john-morris-ist-tot-a-1160350.html',\n",
       " '/Mark%20Zuckerberg-p5.html',\n",
       " '/Svijet/a66926/Vijetnamka-skida-oziljke.html',\n",
       " '/SUB_Reader/suutam1609190934.shtml',\n",
       " '/2012/06/tuong-thuoc-gui-thu-ngo-toi-oan-bqh.html',\n",
       " '/zh-sg/photography/2lq23oz.html',\n",
       " '/facebook-noi-gi-ve-vu-go-anh-em-be-napal/c/20322594.epi',\n",
       " '/2018/09/tiedonhaku-ja-kuvaustehtava-kuvaaja.html',\n",
       " '/forum/hollandie-iv-les-400-coups-t74293-3120.html',\n",
       " '/forum/hollandie-iv-les-400-coups-t74293-3160.html',\n",
       " '/buc-anh-ve-viet-nam-lam-the-gioi-thay-doi-manh-nhat-50-nam-qua/c/32618593.epi',\n",
       " '/forum/hollandie-iv-la-gifle-t74293-3160.html',\n",
       " '/wires/aap/article-6329051/Perth-drug-trafficker-sentence-slashed.html',\n",
       " '/wires/ap/article-5109931/Clippers-end-9-game-losing-streak-Griffin-Johnson.html',\n",
       " '/novice/to-je-danes-deklica-s-fotografije.html',\n",
       " '/doi-song-van-hoa/nha-bao-nhiep-anh-gia-nick-ut-tang-hien-vat-cho-bao-tang-bao-chi-viet-nam-20180601200639745.htm',\n",
       " '/43_ans_apr%C3%A8s,_la_-1236-xeber.html',\n",
       " '/mark-zuckerberg-bi-chi-trich-vi-xoa-buc-anh-chien-tranh-viet-nam/405249.vnp',\n",
       " '/chien-tranh-viet-nam-tag.html',\n",
       " '/politik/ausland/themen/vietnamkrieg-6269414.html',\n",
       " '/a/facebook-xin-loi-vi-vu-go-anh-em-be-napalm/3505212.html',\n",
       " '/multimedia/video/video-214231.html',\n",
       " '/multimedia/video/video-214231~_parentId-ondemand100.html',\n",
       " '/kultur/das-herz-des-reporters-id218332573.html',\n",
       " '/2012/08/little-jimmy-brown.html',\n",
       " '/critiquing-photography.html',\n",
       " '/archive/index.php/t-14633.html',\n",
       " '/2012/10/phong-vien-chien-truong-nick-ut-va-co.html',\n",
       " '/facebook-nham-anh-chien-tranh-viet-nam-thanh-anh-khoa-than-99156037.htm',\n",
       " '/50535-Drugaja-istorija-odnojj-izvestnojj-fotografii.html',\n",
       " '/post/11632-Istoriya_odnoy_izvestnoy_fotografii_ili_razrivaya_shabloni.html',\n",
       " '/nhung-buc-anh-chien-tranh-viet-nam-noi-tieng-moi-thoi-dai-150070.html',\n",
       " '/chu-de/the-gioi/facebook-xin-loi-vi-vu-go-anh-em-be-napalm-977091.html',\n",
       " '/49751-istorija-odnoj-izvestnoj-fotografii-4-foto--tekst.html',\n",
       " '/forum2/st/175/topic1998801.html',\n",
       " '/chan-67745371/all_p7.html',\n",
       " '/the-gioi/nhung-buc-anh-kho-quen-ve-chien-tranh-viet-nam-2-1430350269.htm',\n",
       " '/hoyla-web-8-fotos-que-han-marcado-epoca-20150904-htmlstory.html',\n",
       " '/2017/12/blog-post_82.html',\n",
       " '/headlines-detail/-/headline/buc-anh-chan-dong-ve-chien-tranh-viet-nam-duoc-chon-la-co-suc-anh-huong-nhat-50-nam-the-gioi',\n",
       " '/news/local/community/miami-dade/article41630079.html',\n",
       " '/2018/05/the-glory-of-saviour-uncloaked.html',\n",
       " '/panorama/Laser-soll-Kims-Narben-heilen-article16539461.html',\n",
       " '/articulo/foto-del-dia/eeuu/20200207164136018412.html',\n",
       " '/2015/06/garota-dessa-foto-viveu-jornada-da.html',\n",
       " '/2016/05/banksy-y-la-critica-contemporanea.html',\n",
       " '/the-gioi/ong-kim-jongun-tham-trang-trai-trong-rau-truoc-nguy-co-thieu-luong-thuc-20191018182749774.htm',\n",
       " '/v1/share_article/2584513/5b9345c720a6d52880005848412055dbe9376d3c.html&ia=0&is_ios=0',\n",
       " '/fotostrecke/foto-publizist-john-morris-ist-tot-fotostrecke-150635.html',\n",
       " '/social/20160909/237810950.html',\n",
       " '/tin-tuc/ha-noi-chay-khu-nha-xuong-khien-8-nguoi-chet-va-mat-tich-d22109.html',\n",
       " '/en/artists/2862-nick-ut.html',\n",
       " '/fr/artistes/2862-nick-ut.html',\n",
       " '/2015/06/o-perdao-e-o-trabalho-pela-paz-43-anos.html',\n",
       " '/the-gioi/canh-sat-malaysia-truy-tim-tinh-nhan-cua-kim-jong-nam-3547765.html',\n",
       " '/kultur/literarischewelt/article154448834/Hier-seht-ihr-dass-es-fast-keine-Luegenpresse-gibt.html',\n",
       " '/buc-anh-meo-ky-la-khien-nguoi-dang-bi-khoa-facebook-post686725.html',\n",
       " '/2020/01/photographer-james-nachtwey.html',\n",
       " '/khach-san-sieu-sang-tren-5-sao-cao-nhat-dong-nam-a-co-gi-dac-biet-d22057.html',\n",
       " '/a-hau-mau-thuy-sach-giup-toi-song-dac-nhan-tam-hon-d21981.html',\n",
       " '/quoc-te/thoi-su-quoc-te/tam-thu-cua-cuu-giam-doc-bbc-bao-chi-nen-ngung-giat-tit-nham_28242.html',\n",
       " '/tin-tuc-c75/lien-hoan-ptth-lan-thu-xix.html',\n",
       " '/tin-tuc-c40/trong-nuoc.html',\n",
       " '/2015/10/mulher-que-virou-simbolo-da-guerra-do.html',\n",
       " '/tin-tuc-quoc-te/ly-do-khien-nhieu-nguoi-my-chon-viet-nam-lam-noi-duong-gia-ly-tuong-c415a1112241.html',\n",
       " '/zh-hk/military/pqyoe52.html',\n",
       " '/tin-tuc-quoc-te/19-bai-bien-vang-danh-cho-du-khach-so-noi-on-ao-c415a790630i224287.html',\n",
       " '/wires/reuters/article-5781145/amp/MLB-roundup-Verlander-Astros-shut-Yankees.html',\n",
       " '/chu-de/khoa-hoc-cong-nghe/facebook-ngung-chan-buc-anh-em-be-napalm-cong-nhan-gia-tri-lich-su-970826.html',\n",
       " '/2019/02/l-art-de-banksy.html',\n",
       " '/photos/news-in-pics/feb-11-2019-57239.html',\n",
       " '/geschichte/john-lennon-und-yoko-ono-wie-give-peace-a-chance-entstand-a-1269769.html',\n",
       " '/article-actualite-20377.html',\n",
       " '/politik/videos/stern-rtl-wahltrend-ploetzlicher-aufschwung-merkel-gewinnt-wieder-an-zustimmung-auch-afd-legt-zu_id_5310189.html',\n",
       " '/phan-th%E1%BB%8B-kim-ph%C3%BAc-tim-kiem.html',\n",
       " '/AttractionProductReview-g651661-d17459431-My_Lai_Massacre_The_Truth_Story_from_Da_Nang_or_Hoi_An-Quang_Ngai_Quang_Ngai_Provi.html',\n",
       " '/dan-mang-na-uy-noi-gian-vi-facebook-kiem-duyet-anh-quot-em-be-napanquot-n3331.html',\n",
       " '/bao-chi-truyen-thong/facebook-len-tieng-ve-viec-go-bo-buc-anh-lich-su-em-be-napalm-n3371.html',\n",
       " '/entertainment/qegzvb8.html',\n",
       " '/70jahrestern/70-jahre-stern--bilder--die-wir-nie-vergessen-werden_7932818-7932832.html',\n",
       " '/2012/06/o-40o-aniversario-de-uma-foto-historica.html',\n",
       " '/2012/06/os-40-anos-da-fotografia-emblematica-da_02.html',\n",
       " '/2012/06/fotografia-historica-da-guerra-do.html',\n",
       " '/gymno-koritsifwtografia.html',\n",
       " '/the-gioi/buc-anh-chan-dong-ve-chien-tranh-viet-nam-duoc-chon-la-co-suc-anh-huong-nhat-50-nam-1024135.html',\n",
       " '/Web/News/2016/9/1108448.html',\n",
       " '/2012/11/military-strategy-and-technology-during.html',\n",
       " '/a/thu-tuong-na-uy-cong-kich-facebook-vi-chan-anh-bieu-tuong-chien-tranh-vn/3500607.html',\n",
       " '/binh-luan/facebook-len-tieng-ve-viec-go-bo-buc-anh-em-be-napalm-27601.html',\n",
       " '/geschichte/article114225870/Die-ganze-Story-um-das-Foto-vom-Napalm-Maedchen.html',\n",
       " '/2013/12/la-potenza-del-perdono.html',\n",
       " '/2016/10/la-politica-economica-y-los-factores-de.html',\n",
       " '/nachrichten/panorama/--23068396',\n",
       " '/nh%C3%A0-du-h%C3%A0nh-v%C5%A9-tr%E1%BB%A5-tin-tuc.html',\n",
       " '/local/lanow/la-me-ln-nick-ut-adv-snap-story.html',\n",
       " '/nick-%C3%BAt-tin-tuc/trang2.html',\n",
       " '/omn/20191027/20191027A0041V00.html',\n",
       " '/2018/05/vrouw-van-de-hoop-8juni-1972.html',\n",
       " '/articles/vojna/35-letie-okonchaniya-vojni-vo-vetname-bull-novosti-v-fotografiyah.html',\n",
       " '/2019/my-lai-massaker.html',\n",
       " '/chan-40116823/all_p4.html',\n",
       " '/noticias/historia-hoje/historia-39-corpos-caminhao-reino-unido.phtml',\n",
       " '/aktuell/wirtschaft/netzwirtschaft/google/google-aktie-alphabet-steigert-gewinn-um-27-prozent-14501348.html',\n",
       " '/vivir/Fotografo-Nick-Ut-retira_0_4712528772.html',\n",
       " '/panorama/Weltberuehmtes-Vietnam-Foto-wieder-online-article18607566.html',\n",
       " '/40-nam-giai-phong-mien-nam.html',\n",
       " '/politik/ausland/baskische-separatisten-eta-uebergibt-ihre-waffen-der-franzoesischen-polizei_id_6921441.html',\n",
       " '/aktuell/wirtschaft/unternehmen/die-moral-der-netz-beherrscher-14470821.html',\n",
       " '/aktuell/wirtschaft/unternehmen/die-moral-der-netz-beherrscher-14470821-p2.html',\n",
       " '/aktuell/politik/inland/soziale-medien-ekd-chef-ruft-hasskommentatoren-zur-besinnung-auf-14530336.html',\n",
       " '/panorama/John-Morris-ist-tot-article19959880.html',\n",
       " '/nieuws/tag/nick-ut-300365.html',\n",
       " '/internacionales/2017/03/13/laureado-fotografo-ap-nick-ut/1311399.html',\n",
       " '/panorama/welt/datenabgleich-bestaetigt-mutmasslicher-vergewaltiger-von-bonn-war-zuvor-nicht-polizeibekannt_id_6928768.html',\n",
       " '/vn/the-gioi/viet-nam-va-the-gioi/buc-anh-ve-vn-lam-the-gioi-thay-doi-manh-nhat-50-nam-qua-578621.html',\n",
       " '/Buc-anh-ve-Viet-Nam-lam-the-gioi-thay-doi-manh-nhat-50-nam-qua-the-gioi-1488-0-2103500.html',\n",
       " '/omn/20190112/20190112A05R9M.html',\n",
       " '/v2/article/detail/F2G54MIQ05218498.html',\n",
       " '/article_6941173968_19db9e8d000100q922.html',\n",
       " '/zh-my/history/l9aky9.html',\n",
       " '/jazz-world/fidelio-napi-zene-szabados-gyorgy-improvizacio-15874.html',\n",
       " '/omn/20180312/20180312A1VPON.html',\n",
       " '/jazz-world/rappelo-agrardizoz-19543.html',\n",
       " '/jazz-world/negyedszer-is-ingyenes-koncerteken-unnepelhetjuk-a-jazzt-9634.html',\n",
       " '/jazz-world/lajko-felix-a-world-music-expon-58240.html',\n",
       " '/gesundheit/themen/narben-4155056.html',\n",
       " '/politik/ausland/fotos-aus-gaza-krieg-mit-gefaelschten-bildern-a-983689.html',\n",
       " '/fr-serien/sie-nennen-voyeurismus-nenne-anteilnahme-11069592.html',\n",
       " '/anh-de-doi-cua-nhiep-anh-gia-nick-ut-tai-viet-nam-n20160714030654361.html',\n",
       " '/webworld/features/society/children-of-war.html',\n",
       " '/articles/0,7340,L-4852620,00.html',\n",
       " '/tema/premios-pulitzer.html',\n",
       " '/giai-doan-cuoi-cua-chien-tranh-tai-viet-nam-qua-anh-quoc-te-post531534.html',\n",
       " '/tieu-diem/40-nam-sau-chien-tranh-viet-nam.html',\n",
       " '/2015/09/03/story_n_8085414.html',\n",
       " '/quan-su/nhung-loai-vu-khi-cam-my-da-tung-dung-o-viet-nam-887057.html',\n",
       " '/anh-em-xa-hoi-danh-nguoi-cha-tat-con-nhan-danh-anh-hung-cung-phai-trung-tri.html',\n",
       " '/zh-my/photography/bzx8bpj.html',\n",
       " '/2012/06/problem-of-evil.html',\n",
       " '/omn/20171207/20171207A0V45D.html']"
      ]
     },
     "execution_count": 43,
     "metadata": {},
     "output_type": "execute_result"
    }
   ],
   "source": [
    "[k for k,v in cl.items() if v == 11]"
   ]
  },
  {
   "cell_type": "code",
   "execution_count": null,
   "metadata": {},
   "outputs": [],
   "source": []
  }
 ],
 "metadata": {
  "kernelspec": {
   "display_name": "Python 3",
   "language": "python",
   "name": "python3"
  },
  "language_info": {
   "codemirror_mode": {
    "name": "ipython",
    "version": 3
   },
   "file_extension": ".py",
   "mimetype": "text/x-python",
   "name": "python",
   "nbconvert_exporter": "python",
   "pygments_lexer": "ipython3",
   "version": "3.6.5"
  }
 },
 "nbformat": 4,
 "nbformat_minor": 2
}
