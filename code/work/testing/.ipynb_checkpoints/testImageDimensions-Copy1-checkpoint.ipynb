{
 "cells": [
  {
   "cell_type": "code",
   "execution_count": 1,
   "metadata": {},
   "outputs": [
    {
     "name": "stderr",
     "output_type": "stream",
     "text": [
      "/home/ruben/anaconda3/lib/python3.7/site-packages/statsmodels/tools/_testing.py:19: FutureWarning: pandas.util.testing is deprecated. Use the functions in the public API at pandas.testing instead.\n",
      "  import pandas.util.testing as tm\n"
     ]
    }
   ],
   "source": [
    "from PIL import Image\n",
    "import pandas as pd\n",
    "import os\n",
    "import numpy as np\n",
    "import random\n",
    "import matplotlib.pyplot as plt\n",
    "import seaborn as sns\n",
    "from collections import Counter"
   ]
  },
  {
   "cell_type": "code",
   "execution_count": 2,
   "metadata": {},
   "outputs": [],
   "source": [
    "def getAverageRGBN(image):\n",
    "    im = np.array(image)\n",
    "    w,h,d = im.shape\n",
    "    im.shape = (w*h, d)\n",
    "    return tuple(np.average(im, axis=0))"
   ]
  },
  {
   "cell_type": "code",
   "execution_count": 3,
   "metadata": {},
   "outputs": [],
   "source": [
    "df = pd.DataFrame()\n",
    "\n",
    "list_img = os.listdir('/media/ruben/Data Drive/react-data/protest/deniz/deniz_1/img')\n",
    "list_img = [img for img in list_img if \".txt\" not in img]\n",
    "    \n",
    "tmp = pd.DataFrame()\n",
    "    \n",
    "for img in list_img:\n",
    "    try:\n",
    "        im = Image.open('/media/ruben/Data Drive/react-data/protest/deniz/deniz_1/img/{}'.format(img))\n",
    "        width, height = im.size\n",
    "        values_ = getAverageRGBN(im)\n",
    "        values_ = \"_\".join([str(int(round(v))) for v in values_])\n",
    "        tmp = tmp.append(pd.DataFrame([width,height,values_,img]).T)\n",
    "    except Exception as e:\n",
    "        pass\n",
    "df = df.append(tmp)"
   ]
  },
  {
   "cell_type": "code",
   "execution_count": 4,
   "metadata": {},
   "outputs": [],
   "source": [
    "df.columns = ['w','h','rgb','id']\n",
    "df['w'] = df['w'].astype(int)\n",
    "df['h'] = df['h'].astype(int)"
   ]
  },
  {
   "cell_type": "code",
   "execution_count": 5,
   "metadata": {},
   "outputs": [],
   "source": [
    "df['iid'] = df['rgb'].astype(str) + df['w'].astype(str) + df['h'].astype(str)"
   ]
  },
  {
   "cell_type": "code",
   "execution_count": 7,
   "metadata": {},
   "outputs": [],
   "source": [
    "dfn = df.drop_duplicates(subset='iid', keep=\"first\")"
   ]
  },
  {
   "cell_type": "code",
   "execution_count": 13,
   "metadata": {},
   "outputs": [],
   "source": [
    "removal_list = [im for im in list(df['id']) if im not in list(dfn['id'])]\n",
    "\n",
    "for img in removal_list:\n",
    "    os.remove(os.path.join(base_path,photo,photo+\"_\"+str(n),\"img\",img)) \n",
    "    os.remove(os.path.join(base_path,photo,photo+\"_\"+str(n),\"img\",img)) "
   ]
  },
  {
   "cell_type": "code",
   "execution_count": 17,
   "metadata": {},
   "outputs": [
    {
     "data": {
      "text/plain": [
       "'b7254150-620b-11ea-9d5a-80fa5b5388be.txt'"
      ]
     },
     "execution_count": 17,
     "metadata": {},
     "output_type": "execute_result"
    }
   ],
   "source": [
    "removal_list[1][:-3] +\"txt\""
   ]
  },
  {
   "cell_type": "code",
   "execution_count": null,
   "metadata": {},
   "outputs": [],
   "source": []
  }
 ],
 "metadata": {
  "kernelspec": {
   "display_name": "Python 3",
   "language": "python",
   "name": "python3"
  },
  "language_info": {
   "codemirror_mode": {
    "name": "ipython",
    "version": 3
   },
   "file_extension": ".py",
   "mimetype": "text/x-python",
   "name": "python",
   "nbconvert_exporter": "python",
   "pygments_lexer": "ipython3",
   "version": "3.7.4"
  }
 },
 "nbformat": 4,
 "nbformat_minor": 2
}
