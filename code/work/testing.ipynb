{
 "cells": [
  {
   "cell_type": "code",
   "execution_count": 5,
   "metadata": {},
   "outputs": [],
   "source": [
    "from bs4 import BeautifulSoup\n",
    "import requests\n",
    "from newspaper import Article\n",
    "from subprocess import Popen, PIPE\n",
    "\n",
    "\n",
    "'''\n",
    "Function for Extracting Images from URLs\n",
    "'''\n",
    "\n",
    "\n",
    "url = \"https://allthatsinteresting.com/napalm-girl\"\n",
    "\n",
    "p = Popen(['image-scraper', '--dump-urls',url], stdin=PIPE, stdout=PIPE, stderr=PIPE)\n",
    "output, err = p.communicate(b\"input data that is passed to subprocess' stdin\")\n",
    "rc = p.returncode"
   ]
  },
  {
   "cell_type": "code",
   "execution_count": 15,
   "metadata": {},
   "outputs": [
    {
     "data": {
      "text/plain": [
       "['https://allthatsinteresting.com/wordpress/wp-content/uploads/2017/06/napalm-girl-gallery-uncropped.jpg',\n",
       " 'https://cdn.allthatsinteresting.com/thumb/290.240.https://allthatsinteresting.com/wordpress/wp-content/uploads/2016/08/new-york-punk-scene.jpg',\n",
       " 'https://allthatsinteresting.com/wordpress/wp-content/uploads/2017/06/napalm-girl-from-behind.jpg',\n",
       " 'https://cdn.allthatsinteresting.com/thumb/290.240.https://allthatsinteresting.com/wordpress/wp-content/uploads/2014/01/interesting-facts-twister.jpg',\n",
       " 'https://allthatsinteresting.com/wordpress/wp-content/uploads/2017/06/napalm-girl-gallery-cropped.jpg',\n",
       " 'https://allthatsinteresting.com/wordpress/wp-content/uploads/2017/06/napalm-girl-airstrike.jpg',\n",
       " 'https://allthatsinteresting.com/wordpress/wp-content/plugins/pbh-popup-ati/hu-logo.png',\n",
       " 'https://cdn.allthatsinteresting.com/thumb/290.240.https://allthatsinteresting.com/wordpress/wp-content/uploads/2016/07/hawking.jpg']"
      ]
     },
     "execution_count": 15,
     "metadata": {},
     "output_type": "execute_result"
    }
   ],
   "source": [
    "str(output).split('\\\\r\\\\n')[6:-6]"
   ]
  },
  {
   "cell_type": "code",
   "execution_count": null,
   "metadata": {},
   "outputs": [],
   "source": []
  }
 ],
 "metadata": {
  "kernelspec": {
   "display_name": "Python 3",
   "language": "python",
   "name": "python3"
  },
  "language_info": {
   "codemirror_mode": {
    "name": "ipython",
    "version": 3
   },
   "file_extension": ".py",
   "mimetype": "text/x-python",
   "name": "python",
   "nbconvert_exporter": "python",
   "pygments_lexer": "ipython3",
   "version": "3.6.5"
  }
 },
 "nbformat": 4,
 "nbformat_minor": 2
}
