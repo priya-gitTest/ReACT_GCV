{
 "cells": [
  {
   "cell_type": "code",
   "execution_count": 2,
   "metadata": {},
   "outputs": [],
   "source": [
    "import json,os\n",
    "import pandas as pd\n",
    "from PIL import Image\n",
    "import numpy as np\n",
    "import urllib\n"
   ]
  },
  {
   "cell_type": "code",
   "execution_count": 4,
   "metadata": {},
   "outputs": [
    {
     "name": "stdout",
     "output_type": "stream",
     "text": [
      "loaded json with 3208 items\n"
     ]
    }
   ],
   "source": [
    "with open(\"/media/ruben/Data Drive/react-data/protest/londongetty/londongetty/context_images/duplicates.json\",'r') as fp:\n",
    "    d = json.load(fp)\n",
    "    print('loaded json with {} items'.format(len(d)))"
   ]
  },
  {
   "cell_type": "code",
   "execution_count": 5,
   "metadata": {},
   "outputs": [],
   "source": [
    "def img2url(imgfn):\n",
    "    imgfn = os.path.join(\"/media/ruben/Data Drive/react-data/context-images-npg\",imgfn)\n",
    "    urlfn = \"\".join(imgfn.split('.')[:-1]) + \".txt\"\n",
    "    with open(urlfn,'r') as txt:\n",
    "        c = txt.readlines()\n",
    "        \n",
    "    c = c[0]\n",
    "    c = c.split(\":\")[-1]\n",
    "    return c"
   ]
  },
  {
   "cell_type": "code",
   "execution_count": 6,
   "metadata": {},
   "outputs": [
    {
     "name": "stdout",
     "output_type": "stream",
     "text": [
      "disambiguated: 715 items\n"
     ]
    }
   ],
   "source": [
    "# Disambiguate\n",
    "\n",
    "nd = {}\n",
    "\n",
    "for k,v in d.items():\n",
    "\n",
    "    key = k\n",
    "    value = v\n",
    "    len_item = len(value)\n",
    "    \n",
    "    other_items_containing_key = {k:v for k,v in d.items() if key in v}\n",
    "    other_items_larger_list = {k:v for k,v in other_items_containing_key.items() if len(v) > len_item}\n",
    "    \n",
    "    if len(other_items_larger_list) > 0 or len_item == 1:\n",
    "        continue\n",
    "    else:\n",
    "        nd.update({key:value})\n",
    "print(\"disambiguated: {} items\".format(len(nd)))  "
   ]
  },
  {
   "cell_type": "code",
   "execution_count": 8,
   "metadata": {},
   "outputs": [],
   "source": [
    "# Combine + Export for Inspection\n",
    "\n",
    "new_im = Image.new('RGB', (max([len(v) for k,v in nd.items()]) * 100,len(nd) * 100))\n",
    "\n",
    "for c1,key in enumerate(list(nd.keys())):\n",
    "\n",
    "    for c2,fn in enumerate(nd[key]):\n",
    "        #opens an image:\n",
    "        im = Image.open(fn)\n",
    "        #Here I resize my opened image, so it is no bigger than 100,100\n",
    "        im.thumbnail((100,100))\n",
    "        #Iterate through a 4 by 4 grid with 100 spacing, to place my image\n",
    "        pos_x = c2 * 100\n",
    "        pos_y = c1 * 100\n",
    "        new_im.paste(im, (pos_x,pos_y))\n",
    "\n",
    "new_im.save('/media/ruben/Data Drive/react-data/protest/londongetty/londongetty/duplicates.png')\n",
    "#new_im.show()"
   ]
  },
  {
   "cell_type": "code",
   "execution_count": 7,
   "metadata": {},
   "outputs": [],
   "source": [
    "## Network"
   ]
  },
  {
   "cell_type": "code",
   "execution_count": 10,
   "metadata": {},
   "outputs": [
    {
     "data": {
      "text/plain": [
       "'//chacoalhandodotcom.files.wordpress.com/2019/10/marcha-iraq-em-londres.jpg?w=300'"
      ]
     },
     "execution_count": 10,
     "metadata": {},
     "output_type": "execute_result"
    }
   ],
   "source": [
    "img2url(list(nd.keys())[0])"
   ]
  },
  {
   "cell_type": "code",
   "execution_count": null,
   "metadata": {},
   "outputs": [],
   "source": []
  }
 ],
 "metadata": {
  "kernelspec": {
   "display_name": "Python 3",
   "language": "python",
   "name": "python3"
  },
  "language_info": {
   "codemirror_mode": {
    "name": "ipython",
    "version": 3
   },
   "file_extension": ".py",
   "mimetype": "text/x-python",
   "name": "python",
   "nbconvert_exporter": "python",
   "pygments_lexer": "ipython3",
   "version": "3.7.4"
  }
 },
 "nbformat": 4,
 "nbformat_minor": 2
}
