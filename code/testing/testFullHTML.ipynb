{
 "cells": [
  {
   "cell_type": "code",
   "execution_count": 1,
   "metadata": {},
   "outputs": [],
   "source": [
    "import requests\n",
    "import concurrent"
   ]
  },
  {
   "cell_type": "code",
   "execution_count": null,
   "metadata": {},
   "outputs": [],
   "source": [
    "MAX_THREADS = 30\n",
    "\n",
    "def download_url(url):\n",
    "    resp = requests.get(url)\n",
    "    title = ''.join(x for x in url if x.isalpha()) + \".html\"\n",
    "    \n",
    "    with open(title, \"wb\") as fh:\n",
    "        fh.write(resp.content)\n",
    "        \n",
    "    time.sleep(0.25)\n",
    "    \n",
    "def download_all(list_urls):\n",
    "    threads = min(MAX_THREADS, len(list_urls))\n",
    "    \n",
    "    with concurrent.futures.ThreadPoolExecutor(max_workers=threads) as executor:\n",
    "        executor.map(download_url, list_urls)\n",
    "\n",
    "def main(download_all):\n",
    "    t0 = time.time()\n",
    "    download_stories(list_urls)\n",
    "    t1 = time.time()\n",
    "    print(f\"{t1-t0} seconds to download {len(list_urls)} stories.\")"
   ]
  }
 ],
 "metadata": {
  "kernelspec": {
   "display_name": "Python 3",
   "language": "python",
   "name": "python3"
  },
  "language_info": {
   "codemirror_mode": {
    "name": "ipython",
    "version": 3
   },
   "file_extension": ".py",
   "mimetype": "text/x-python",
   "name": "python",
   "nbconvert_exporter": "python",
   "pygments_lexer": "ipython3",
   "version": "3.6.5"
  }
 },
 "nbformat": 4,
 "nbformat_minor": 2
}
