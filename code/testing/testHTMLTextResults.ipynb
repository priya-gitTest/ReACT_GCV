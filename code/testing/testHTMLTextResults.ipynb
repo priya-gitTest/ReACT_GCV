{
 "cells": [
  {
   "cell_type": "code",
   "execution_count": 68,
   "metadata": {},
   "outputs": [
    {
     "name": "stdout",
     "output_type": "stream",
     "text": [
      "{'en': 'en_core_web_sm', 'de': 'de_core_news_sm', 'fr': 'fr_core_news_sm', 'es': 'es_core_news_sm', 'it': 'it_core_news_sm', 'nl': 'nl_core_news_sm', 'pt': 'pt_core_news_sm'}\n"
     ]
    }
   ],
   "source": [
    "import os,sys\n",
    "from getImagesFunctions import *\n",
    "from getDataFunctions import *\n",
    "from gensim.models import Word2Vec\n",
    "import gensim\n",
    "import random\n",
    "import langid\n",
    "import re\n",
    "import ast\n",
    "import htmldate\n",
    "\n",
    "from langid.langid import LanguageIdentifier, model\n",
    "identifier = LanguageIdentifier.from_modelstring(model, norm_probs=True)\n",
    "import spacy\n",
    "\n",
    "\n",
    "selected_languages = \"en de fr es it nl pt\".split(' ')\n",
    "selected_languages = {i:i+\"_core_news_sm\" for i in selected_languages}\n",
    "selected_languages.update({\"en\":\"en_core_web_sm\"})\n",
    "print(selected_languages)\n",
    "\n",
    "def PreProc(text):\n",
    "    text = text[1:-1].replace('\\xa0', ' ')\n",
    "    text = \" \".join(text.split('\\r\\n'))\n",
    "    return text"
   ]
  },
  {
   "cell_type": "code",
   "execution_count": 110,
   "metadata": {},
   "outputs": [
    {
     "name": "stdout",
     "output_type": "stream",
     "text": [
      "-- Preprocessed\n",
      "-- Languages identified\n"
     ]
    }
   ],
   "source": [
    "for iteration in [1]:\n",
    "    d_ = dict()    \n",
    "    df= pd.DataFrame()\n",
    "    list_csv = [csv for csv in os.listdir('D:/react-data/image_npg_{}/txt'.format(iteration)) if \".csv\" in csv]\n",
    "    \n",
    "    for csv in list_csv:\n",
    "        tmp = pd.read_csv('D:/react-data/image_npg_{}/txt/{}'.format(iteration,csv))\n",
    "        df = df.append(tmp)\n",
    "\n",
    "    df['text'] = [PreProc(str(i)) for i in df['text']]\n",
    "    print('-- Preprocessed')\n",
    "    df['lang'] = [identifier.classify(i)[0] for i in df['text']]\n",
    "    print('-- Languages identified')\n",
    "    \n",
    "    for lang in [i for i in list(set(df['lang'])) if i in selected_languages.keys()]:\n",
    "        d_.update({lang:dict()})\n",
    "        nlp = spacy.load(selected_languages[lang])\n",
    "        tmp = df[df['lang'] == lang]\n",
    "        \n",
    "        for count,text in enumerate(df['text']):\n",
    "            identif = str(df['id'][count])\n",
    "            d_[lang].update({identif:dict()})\n",
    "            d_[lang][identif].update({\"text\":text})\n",
    "            doc = nlp(text)\n",
    "            doc = [(ent.text, ent.start_char, ent.end_char, ent.label_) for ent in doc.ents]\n",
    "            d_[lang][identif].update({\"entities\":doc})\n",
    "            \n",
    "    with open('D:/react-data/image_npg_{}/txt/entities.csv'.format(iteration), 'w') as fp:\n",
    "        json.dump(language_dict, fp)"
   ]
  }
 ],
 "metadata": {
  "kernelspec": {
   "display_name": "Python 3",
   "language": "python",
   "name": "python3"
  },
  "language_info": {
   "codemirror_mode": {
    "name": "ipython",
    "version": 3
   },
   "file_extension": ".py",
   "mimetype": "text/x-python",
   "name": "python",
   "nbconvert_exporter": "python",
   "pygments_lexer": "ipython3",
   "version": "3.7.4"
  }
 },
 "nbformat": 4,
 "nbformat_minor": 2
}
