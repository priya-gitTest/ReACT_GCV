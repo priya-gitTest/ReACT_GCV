{
 "cells": [
  {
   "cell_type": "code",
   "execution_count": 1,
   "metadata": {},
   "outputs": [
    {
     "name": "stderr",
     "output_type": "stream",
     "text": [
      "C:\\ProgramData\\Anaconda3\\lib\\site-packages\\gensim\\utils.py:1212: UserWarning: detected Windows; aliasing chunkize to chunkize_serial\n",
      "  warnings.warn(\"detected Windows; aliasing chunkize to chunkize_serial\")\n"
     ]
    }
   ],
   "source": [
    "from gensim.models import FastText\n",
    "import os,sys\n",
    "from urllib.parse import urlparse\n",
    "from getImagesFunctions import *\n",
    "from getDataFunctions import *\n",
    "from gensim.models import Word2Vec\n",
    "import gensim\n",
    "import random\n",
    "import langid\n",
    "import re"
   ]
  },
  {
   "cell_type": "code",
   "execution_count": 2,
   "metadata": {},
   "outputs": [
    {
     "name": "stdout",
     "output_type": "stream",
     "text": [
      "corrupted json file, probably an 400 Error!\n",
      "corrupted json file, probably an 400 Error!\n",
      "corrupted json file, probably an 400 Error!\n",
      "finished gatherPagesUrlsFolder\n"
     ]
    }
   ],
   "source": [
    "urls = gatherPagesUrlsFolder(\"C:/Users/Ruben/Documents/GitHub/ReACT_GCV/code/work/scrape_environment/image_npg_2\")"
   ]
  },
  {
   "cell_type": "code",
   "execution_count": 3,
   "metadata": {},
   "outputs": [],
   "source": [
    "urlsp = [[x for x in urlparse(i) if i][2:] for i in urls]\n",
    "urlsp = [[x for x in i if x] for i in urlsp]\n",
    "urlsp = [\" \".join(x) for x in urlsp]"
   ]
  },
  {
   "cell_type": "code",
   "execution_count": 4,
   "metadata": {},
   "outputs": [],
   "source": [
    "delimiters = \"/\", \".\", \" \"\n",
    "regexPattern = '|'.join(map(re.escape, delimiters))"
   ]
  },
  {
   "cell_type": "code",
   "execution_count": 5,
   "metadata": {},
   "outputs": [
    {
     "name": "stdout",
     "output_type": "stream",
     "text": [
      "found 37094 suitable and 7764 unsuitable links. 83% of the links are suitable\n"
     ]
    }
   ],
   "source": [
    "sentences = []\n",
    "suitable = 0\n",
    "unsuitable = 0\n",
    "for u in urlsp:\n",
    "    u = re.split(regexPattern, u)\n",
    "    u = [x for x in u if x]\n",
    "    if len(u) == 0:\n",
    "        unsuitable += 1\n",
    "        continue\n",
    "    maxu = max(u, key=len)\n",
    "    if \"-\" in maxu:\n",
    "        sentences.append(maxu.split('-'))\n",
    "        suitable += 1\n",
    "    else:\n",
    "        unsuitable += 1\n",
    "        \n",
    "print(\"found {} suitable and {} unsuitable links. {}% of the links are suitable\".format(suitable, unsuitable, round(suitable/len(urlsp)*100)))\n"
   ]
  },
  {
   "cell_type": "code",
   "execution_count": 6,
   "metadata": {},
   "outputs": [],
   "source": [
    "model = gensim.models.Word2Vec(sentences, size=100, window=25, min_count=1, workers=6,sg=1)\n",
    "model.save(\"model_paths.w2v\")\n",
    "mp = gensim.models.KeyedVectors.load('model_paths.w2v')"
   ]
  },
  {
   "cell_type": "code",
   "execution_count": 15,
   "metadata": {},
   "outputs": [],
   "source": [
    "def DistanceMatrix(sentences, model):\n",
    "    total_list = list()\n",
    "    \n",
    "    for word in sentences:\n",
    "        \n",
    "        list_sentences = list()\n",
    "        \n",
    "        for term in list_sentences:\n",
    "            #tmp = model.distance(word, term)\n",
    "            tmp = model.wmdistance(\" \".join(word), \" \".join(word))\n",
    "\n",
    "            list_sentences.append(tmp)\n",
    "        \n",
    "        total_list.append(list_sentences)\n",
    "    df = pd.DataFrame(total_list, columns = list_sentences, index = list_sentences)\n",
    "    return df\n",
    "\n",
    "def ClusterWord(matrix, k):\n",
    "    centroids,_ = kmeans(matrix,k)\n",
    "    idx,_ = vq(matrix,centroids)\n",
    "    \n",
    "    return dict(zip(list(matrix.index), idx))\n",
    "\n",
    "def GetNumClus(distance_matrix):\n",
    "    af = AffinityPropagation(affinity='precomputed',preference=-2).fit(np.array(distance_matrix.values))\n",
    "    cluster_centers_indices = af.cluster_centers_indices_\n",
    "    labels = af.labels_\n",
    "\n",
    "    no_clusters = len(cluster_centers_indices)\n",
    "    return no_clusters"
   ]
  },
  {
   "cell_type": "code",
   "execution_count": 18,
   "metadata": {},
   "outputs": [
    {
     "name": "stdout",
     "output_type": "stream",
     "text": [
      "created list with 1000 words\n"
     ]
    },
    {
     "data": {
      "text/html": [
       "<div>\n",
       "<style scoped>\n",
       "    .dataframe tbody tr th:only-of-type {\n",
       "        vertical-align: middle;\n",
       "    }\n",
       "\n",
       "    .dataframe tbody tr th {\n",
       "        vertical-align: top;\n",
       "    }\n",
       "\n",
       "    .dataframe thead th {\n",
       "        text-align: right;\n",
       "    }\n",
       "</style>\n",
       "<table border=\"1\" class=\"dataframe\">\n",
       "  <thead>\n",
       "    <tr style=\"text-align: right;\">\n",
       "      <th></th>\n",
       "    </tr>\n",
       "  </thead>\n",
       "  <tbody>\n",
       "  </tbody>\n",
       "</table>\n",
       "</div>"
      ],
      "text/plain": [
       "Empty DataFrame\n",
       "Columns: []\n",
       "Index: []"
      ]
     },
     "execution_count": 18,
     "metadata": {},
     "output_type": "execute_result"
    }
   ],
   "source": [
    "DistanceMatrix(sentences[0:1000],mp)"
   ]
  },
  {
   "cell_type": "code",
   "execution_count": 17,
   "metadata": {},
   "outputs": [
    {
     "data": {
      "text/plain": [
       "['girl',\n",
       " 'photo',\n",
       " 'vietnam',\n",
       " 'war',\n",
       " 'kim',\n",
       " 'phuc',\n",
       " 'laser',\n",
       " 'treatment',\n",
       " 'napalm',\n",
       " 'burns',\n",
       " 'video']"
      ]
     },
     "execution_count": 17,
     "metadata": {},
     "output_type": "execute_result"
    }
   ],
   "source": [
    "sentences[0]"
   ]
  },
  {
   "cell_type": "code",
   "execution_count": null,
   "metadata": {},
   "outputs": [],
   "source": []
  }
 ],
 "metadata": {
  "kernelspec": {
   "display_name": "Python 3",
   "language": "python",
   "name": "python3"
  },
  "language_info": {
   "codemirror_mode": {
    "name": "ipython",
    "version": 3
   },
   "file_extension": ".py",
   "mimetype": "text/x-python",
   "name": "python",
   "nbconvert_exporter": "python",
   "pygments_lexer": "ipython3",
   "version": "3.6.5"
  }
 },
 "nbformat": 4,
 "nbformat_minor": 2
}
