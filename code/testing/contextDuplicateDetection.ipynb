{
 "cells": [
  {
   "cell_type": "code",
   "execution_count": 1,
   "metadata": {},
   "outputs": [],
   "source": [
    "from PIL import Image\n",
    "import pandas as pd\n",
    "import os\n",
    "import numpy as np\n",
    "import random\n",
    "import matplotlib.pyplot as plt\n",
    "from sklearn.cluster import KMeans\n",
    "from sklearn.decomposition import PCA\n",
    "from sklearn.cluster import KMeans\n",
    "import seaborn as sns\n",
    "from urllib.parse import urlparse\n",
    "from tqdm import tqdm"
   ]
  },
  {
   "cell_type": "code",
   "execution_count": 2,
   "metadata": {},
   "outputs": [],
   "source": [
    "def getDimension(image):\n",
    "    width, height = image.size\n",
    "    return tuple([width,height])"
   ]
  },
  {
   "cell_type": "code",
   "execution_count": 3,
   "metadata": {},
   "outputs": [],
   "source": [
    "def getColor(image):\n",
    "    im = np.array(image)\n",
    "    w,h,d = im.shape\n",
    "    im.shape = (w*h, d)\n",
    "    return tuple(np.average(im, axis=0))"
   ]
  },
  {
   "cell_type": "code",
   "execution_count": 18,
   "metadata": {},
   "outputs": [
    {
     "name": "stderr",
     "output_type": "stream",
     "text": [
      "100%|██████████████████████████████████████████████████████████████████████████████| 4035/4035 [01:00<00:00, 67.06it/s]\n"
     ]
    }
   ],
   "source": [
    "df = pd.DataFrame()\n",
    "\n",
    "for i in tqdm([im for im in os.listdir('D:/react-data/context-images-npg') if \".txt\" not in im]):\n",
    "    im = Image.open(os.path.join('D:/react-data/context-images-npg',i))\n",
    "    dim = getDimension(im)\n",
    "    dim = \"_\".join(list([str(int(round(i))) for i in dim]))\n",
    "    col = getColor(im)\n",
    "    col = \"_\".join(list([str(int(round(i))) for i in col]))\n",
    "    with open(os.path.join('D:/react-data/context-images-npg',i[:-4] + \".txt\")) as f:\n",
    "        url = f.read()\n",
    "        try:\n",
    "            url = url.split(' ')[1]\n",
    "        except Exception as e:\n",
    "            continue\n",
    "    if url is not None or len(url) != 0:\n",
    "        tmp = pd.DataFrame([i,url,col,dim]).T\n",
    "        df = df.append(tmp)\n",
    "\n",
    "df.columns = ['i','url','col','dim']"
   ]
  },
  {
   "cell_type": "code",
   "execution_count": 21,
   "metadata": {},
   "outputs": [],
   "source": [
    "df['tld'] = [urlparse(i)[1] for i in df['url']]\n",
    "df['id'] = df['col'] + \"_\" + df['dim']"
   ]
  },
  {
   "cell_type": "code",
   "execution_count": 22,
   "metadata": {},
   "outputs": [
    {
     "data": {
      "text/html": [
       "<div>\n",
       "<style scoped>\n",
       "    .dataframe tbody tr th:only-of-type {\n",
       "        vertical-align: middle;\n",
       "    }\n",
       "\n",
       "    .dataframe tbody tr th {\n",
       "        vertical-align: top;\n",
       "    }\n",
       "\n",
       "    .dataframe thead th {\n",
       "        text-align: right;\n",
       "    }\n",
       "</style>\n",
       "<table border=\"1\" class=\"dataframe\">\n",
       "  <thead>\n",
       "    <tr style=\"text-align: right;\">\n",
       "      <th></th>\n",
       "      <th>i</th>\n",
       "      <th>url</th>\n",
       "      <th>col</th>\n",
       "      <th>dim</th>\n",
       "      <th>tld</th>\n",
       "      <th>id</th>\n",
       "    </tr>\n",
       "  </thead>\n",
       "  <tbody>\n",
       "    <tr>\n",
       "      <th>0</th>\n",
       "      <td>003ab09c-5fa4-11ea-9b6a-b0359fc72c2e.jpg</td>\n",
       "      <td>https://subscription-assets.timeinc.com/curren...</td>\n",
       "      <td>150_115_107</td>\n",
       "      <td>205_273</td>\n",
       "      <td>subscription-assets.timeinc.com</td>\n",
       "      <td>150_115_107_205_273</td>\n",
       "    </tr>\n",
       "    <tr>\n",
       "      <th>0</th>\n",
       "      <td>003ab09d-5fa4-11ea-915c-b0359fc72c2e.jpg</td>\n",
       "      <td>https://api.time.com/wp-content/uploads/2016/0...</td>\n",
       "      <td>153_153_153</td>\n",
       "      <td>2560_1875</td>\n",
       "      <td>api.time.com</td>\n",
       "      <td>153_153_153_2560_1875</td>\n",
       "    </tr>\n",
       "    <tr>\n",
       "      <th>0</th>\n",
       "      <td>003d131a-5fa4-11ea-ab8c-b0359fc72c2e.png</td>\n",
       "      <td>https://api.time.com/wp-content/uploads/2017/0...</td>\n",
       "      <td>54_55_58</td>\n",
       "      <td>721_230</td>\n",
       "      <td>api.time.com</td>\n",
       "      <td>54_55_58_721_230</td>\n",
       "    </tr>\n",
       "    <tr>\n",
       "      <th>0</th>\n",
       "      <td>003d131b-5fa4-11ea-93c8-b0359fc72c2e.jpg</td>\n",
       "      <td>https://api.time.com/wp-content/uploads/2016/0...</td>\n",
       "      <td>152_152_152</td>\n",
       "      <td>1200_628</td>\n",
       "      <td>api.time.com</td>\n",
       "      <td>152_152_152_1200_628</td>\n",
       "    </tr>\n",
       "    <tr>\n",
       "      <th>0</th>\n",
       "      <td>003d131c-5fa4-11ea-9b7f-b0359fc72c2e.jpg</td>\n",
       "      <td>https://api.time.com/wp-content/uploads/2016/0...</td>\n",
       "      <td>152_152_152</td>\n",
       "      <td>1024_512</td>\n",
       "      <td>api.time.com</td>\n",
       "      <td>152_152_152_1024_512</td>\n",
       "    </tr>\n",
       "  </tbody>\n",
       "</table>\n",
       "</div>"
      ],
      "text/plain": [
       "                                          i  \\\n",
       "0  003ab09c-5fa4-11ea-9b6a-b0359fc72c2e.jpg   \n",
       "0  003ab09d-5fa4-11ea-915c-b0359fc72c2e.jpg   \n",
       "0  003d131a-5fa4-11ea-ab8c-b0359fc72c2e.png   \n",
       "0  003d131b-5fa4-11ea-93c8-b0359fc72c2e.jpg   \n",
       "0  003d131c-5fa4-11ea-9b7f-b0359fc72c2e.jpg   \n",
       "\n",
       "                                                 url          col        dim  \\\n",
       "0  https://subscription-assets.timeinc.com/curren...  150_115_107    205_273   \n",
       "0  https://api.time.com/wp-content/uploads/2016/0...  153_153_153  2560_1875   \n",
       "0  https://api.time.com/wp-content/uploads/2017/0...     54_55_58    721_230   \n",
       "0  https://api.time.com/wp-content/uploads/2016/0...  152_152_152   1200_628   \n",
       "0  https://api.time.com/wp-content/uploads/2016/0...  152_152_152   1024_512   \n",
       "\n",
       "                               tld                     id  \n",
       "0  subscription-assets.timeinc.com    150_115_107_205_273  \n",
       "0                     api.time.com  153_153_153_2560_1875  \n",
       "0                     api.time.com       54_55_58_721_230  \n",
       "0                     api.time.com   152_152_152_1200_628  \n",
       "0                     api.time.com   152_152_152_1024_512  "
      ]
     },
     "execution_count": 22,
     "metadata": {},
     "output_type": "execute_result"
    }
   ],
   "source": [
    "df.head()"
   ]
  },
  {
   "cell_type": "code",
   "execution_count": 11,
   "metadata": {},
   "outputs": [
    {
     "data": {
      "text/plain": [
       "4025"
      ]
     },
     "execution_count": 11,
     "metadata": {},
     "output_type": "execute_result"
    }
   ],
   "source": [
    "for count_,identifier in list(set(df['id'])):\n",
    "    \n",
    "    subset_identifier = \n",
    "    "
   ]
  },
  {
   "cell_type": "code",
   "execution_count": 13,
   "metadata": {},
   "outputs": [
    {
     "data": {
      "text/plain": [
       "2183"
      ]
     },
     "execution_count": 13,
     "metadata": {},
     "output_type": "execute_result"
    }
   ],
   "source": [
    "len(set(df['col']))"
   ]
  },
  {
   "cell_type": "code",
   "execution_count": null,
   "metadata": {},
   "outputs": [],
   "source": []
  }
 ],
 "metadata": {
  "kernelspec": {
   "display_name": "Python 3",
   "language": "python",
   "name": "python3"
  },
  "language_info": {
   "codemirror_mode": {
    "name": "ipython",
    "version": 3
   },
   "file_extension": ".py",
   "mimetype": "text/x-python",
   "name": "python",
   "nbconvert_exporter": "python",
   "pygments_lexer": "ipython3",
   "version": "3.7.4"
  }
 },
 "nbformat": 4,
 "nbformat_minor": 2
}
