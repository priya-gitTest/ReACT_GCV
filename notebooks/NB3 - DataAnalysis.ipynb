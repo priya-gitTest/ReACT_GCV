{
 "cells": [
  {
   "cell_type": "code",
   "execution_count": 2,
   "metadata": {},
   "outputs": [
    {
     "data": {
      "text/html": [
       " <link href=\"https://fonts.googleapis.com/css2?family=Inter:wght@600&family=Noto+Sans+JP&display=swap\" rel=\"stylesheet\"> \n",
       "<style>\n",
       "    div.text_cell_render h1 {\n",
       "        font-family: 'Inter';\n",
       "        font-size: 1.7em;\n",
       "        line-height:1.4em;\n",
       "        text-align:center;\n",
       "        }\n",
       "\n",
       "    div.text_cell_render { \n",
       "        font-family: 'Noto Sans JP';\n",
       "        font-size:1.05em;\n",
       "        line-height:1.5em;\n",
       "        padding-left:3em;\n",
       "        padding-right:3em;\n",
       "        }\n",
       "</style>"
      ],
      "text/plain": [
       "<IPython.core.display.HTML object>"
      ]
     },
     "execution_count": 2,
     "metadata": {},
     "output_type": "execute_result"
    }
   ],
   "source": [
    "from IPython.core.display import HTML\n",
    "HTML(\"\"\" <link href=\"https://fonts.googleapis.com/css2?family=Inter:wght@600&family=Noto+Sans+JP&display=swap\" rel=\"stylesheet\"> \n",
    "<style>\n",
    "    div.text_cell_render h1 {\n",
    "        font-family: 'Inter';\n",
    "        font-size: 1.7em;\n",
    "        line-height:1.4em;\n",
    "        text-align:center;\n",
    "        }\n",
    "\n",
    "    div.text_cell_render { \n",
    "        font-family: 'Noto Sans JP';\n",
    "        font-size:1.05em;\n",
    "        line-height:1.5em;\n",
    "        padding-left:3em;\n",
    "        padding-right:3em;\n",
    "        }\n",
    "</style>\"\"\")"
   ]
  },
  {
   "cell_type": "markdown",
   "metadata": {},
   "source": [
    "# Analyzing the Data\n",
    "\n",
    "The webpages associated with the input image(s) are now downloaded and enriched with metadata. Now we can start analyzing the data. In this notebook we analyze several features of the data: \n",
    "- the diachronic frequency (when was the image published)\n",
    "- the top level domains (on what websites was the image found)\n",
    "- the distribution of languages"
   ]
  },
  {
   "cell_type": "markdown",
   "metadata": {},
   "source": [
    "# Reformatting the Data\n",
    "Before we do any (text) analysis, it is useful to assemble the data and put it all in one file. Below we pull together the information found in the .json files with dates, texts and entities. We reformat the information into one .csv (comma-separated) file. CSV-files can be opened in for example Excel and Notepad and are easy to use in for example Excel or Notepad."
   ]
  },
  {
   "cell_type": "code",
   "execution_count": 32,
   "metadata": {},
   "outputs": [],
   "source": [
    "import os\n",
    "import json\n",
    "import re\n",
    "from purl import URL\n",
    "import pandas as pd\n",
    "import langid\n",
    "import matplotlib.pyplot as plt"
   ]
  },
  {
   "cell_type": "code",
   "execution_count": 33,
   "metadata": {},
   "outputs": [],
   "source": [
    "base_path = \"/media/ruben/Data Drive/react-data/test\"\n",
    "\n",
    "'''\n",
    "Import the dates from the dates.txt file in the photo folder. The dates.txt file contains the URL and the associated date, separated by '||'.\n",
    "We create a dictionary with the URL-date pair. This requires splitting the line on the '||' characters and excluding the URLs that have no date\n",
    "associated (they are marked as 'na')\n",
    "'''\n",
    "dates_ref = dict()\n",
    "\n",
    "for photo in [d for d in os.listdir(base_path) if os.path.isdir(os.path.join(base_path, d))]:\n",
    "    photo_folder = os.path.join(base_path, photo)\n",
    "    with open(os.path.join(photo_folder,\"dates.txt\"),'r') as f:\n",
    "        x = f.readlines()\n",
    "    dates_ref.update({d.split('|')[0]:d.split('|')[-1].replace('\\n','') for d in x if d.split('|')[-1].replace('\\n','') != \"na\" and \"ERROR\" not in d.split('|')[-1].replace('\\n','')})\n",
    "\n",
    "'''\n",
    "Import that languages from the languages-photo.json file. \n",
    "'''\n",
    "language_ref = dict()\n",
    "\n",
    "for photo in [d for d in os.listdir(base_path) if os.path.isdir(os.path.join(base_path, d))]:\n",
    "    photo_folder = os.path.join(base_path, photo)\n",
    "    \n",
    "    with open(os.path.join(photo_folder,'languages-'+photo+\".json\"),'r') as f:\n",
    "        lang = json.load(f)\n",
    "    \n",
    "    languages = []\n",
    "    \n",
    "    for iterkey,items1 in lang.items():\n",
    "        \n",
    "        for id_, lan_items in items1.items():\n",
    "            language = lan_items[0] # the language identifier also outputs the probability that the guess is right. We don't need that so we discard it here\n",
    "            language_ref.update({id_:language})\n",
    "                \n",
    "'''\n",
    "Import texts from parsed_text.json file in iteration folders. N.B.: this means that for every iteration one .json with texts is constructed.\n",
    "Hence the extra loop. This loop also combines all the information in one object. In this process we also extract the so-called Top Level\n",
    "Domain (TLD), for example www.facebook.com in the case of the URL www.facebook.com/user/something. \n",
    "'''\n",
    "text_ref = dict()\n",
    "\n",
    "for photo in [d for d in os.listdir(base_path) if os.path.isdir(os.path.join(base_path, d))]:\n",
    "    photo_folder = os.path.join(base_path, photo)\n",
    "    num_iterations = [fol for fol in os.listdir(photo_folder) if os.path.isdir(os.path.join(photo_folder,fol)) and \"source\" not in fol and \"context\" not in fol]\n",
    "    num_iterations = len(num_iterations)\n",
    "\n",
    "    start_iter = 1\n",
    "    range_iter = [str(i) for i in list(range(1,num_iterations + 1))]\n",
    "\n",
    "    folder_base = os.path.join(base_path,photo,photo)\n",
    "\n",
    "    for iteration in range_iter:\n",
    "        fn = os.path.join(folder_base + \"_\" +str(iteration),\"txt\", \"parsed_text.json\")\n",
    "        with open(fn) as fp:\n",
    "            pages = json.load(fp)\n",
    "            \n",
    "        for identifier,sentences in pages.items():\n",
    "            \n",
    "            sentences = [s.replace(\"\\n\",\"\").lower() for s in sentences]\n",
    "            sentences = [re.sub(' +', ' ', s) for s in sentences]\n",
    "\n",
    "            url = identifier.split('html_')[-1]\n",
    "            id_ = identifier.split('/html/')[1].split('.html_')[0]\n",
    "            if url in dates_ref.keys():\n",
    "                date = dates_ref[url]\n",
    "            else:\n",
    "                date = \"na\"\n",
    "            \n",
    "            text_ref.update({identifier:dict()})\n",
    "            text_ref[identifier].update({\"photo\":photo,\"url\":url,\"identifier\":id_,\"date\":date,\"language\":language_ref[url],\"topleveldomain\":URL.from_string(url).domain(),\"sentences\":\"||\".join(sentences)})"
   ]
  },
  {
   "cell_type": "code",
   "execution_count": 35,
   "metadata": {},
   "outputs": [],
   "source": [
    "'''\n",
    "Here we transform the constructed dictionary is a DataFrame that can be exported to a .csv file. To be sure that there are no duplicate pages in our dataset\n",
    "we remove the duplicates.\n",
    "'''\n",
    "\n",
    "df = pd.DataFrame.from_dict(text_ref,orient='index').reset_index()\n",
    "df = df.drop_duplicates('url',keep='first')\n",
    "df.columns = [\"path\",\"photo\",\"url\",\"identifier\",\"date\",\"language\",\"topleveldomain\",\"sentences\"]\n",
    "#df.to_csv('path/to/datafolder/data-full.csv',index=False)\n",
    "data = df"
   ]
  },
  {
   "cell_type": "markdown",
   "metadata": {},
   "source": [
    "# 1. Diachronic Frequency\n",
    "\n",
    "One of the first things to inspect is the distribution of the webpages over the years. When were most pages published? Can we identify peaks, or gaps? With the data stored in a .csv we can relatively easily generate visualizations that provide an insight into the data. Below we first aggregate the number of webpages per year and plot it."
   ]
  },
  {
   "cell_type": "code",
   "execution_count": 36,
   "metadata": {
    "collapsed": true
   },
   "outputs": [
    {
     "name": "stderr",
     "output_type": "stream",
     "text": [
      "/home/ruben/anaconda3/lib/python3.7/site-packages/ipykernel_launcher.py:4: SettingWithCopyWarning: \n",
      "A value is trying to be set on a copy of a slice from a DataFrame.\n",
      "Try using .loc[row_indexer,col_indexer] = value instead\n",
      "\n",
      "See the caveats in the documentation: https://pandas.pydata.org/pandas-docs/stable/user_guide/indexing.html#returning-a-view-versus-a-copy\n",
      "  after removing the cwd from sys.path.\n",
      "/home/ruben/anaconda3/lib/python3.7/site-packages/ipykernel_launcher.py:8: SettingWithCopyWarning: \n",
      "A value is trying to be set on a copy of a slice from a DataFrame.\n",
      "Try using .loc[row_indexer,col_indexer] = value instead\n",
      "\n",
      "See the caveats in the documentation: https://pandas.pydata.org/pandas-docs/stable/user_guide/indexing.html#returning-a-view-versus-a-copy\n",
      "  \n",
      "/home/ruben/anaconda3/lib/python3.7/site-packages/ipykernel_launcher.py:16: SettingWithCopyWarning: \n",
      "A value is trying to be set on a copy of a slice from a DataFrame\n",
      "\n",
      "See the caveats in the documentation: https://pandas.pydata.org/pandas-docs/stable/user_guide/indexing.html#returning-a-view-versus-a-copy\n",
      "  app.launch_new_instance()\n",
      "/home/ruben/anaconda3/lib/python3.7/site-packages/IPython/core/interactiveshell.py:3326: SettingWithCopyWarning: \n",
      "A value is trying to be set on a copy of a slice from a DataFrame\n",
      "\n",
      "See the caveats in the documentation: https://pandas.pydata.org/pandas-docs/stable/user_guide/indexing.html#returning-a-view-versus-a-copy\n",
      "  exec(code_obj, self.user_global_ns, self.user_ns)\n",
      "/home/ruben/anaconda3/lib/python3.7/site-packages/ipykernel_launcher.py:14: SettingWithCopyWarning: \n",
      "A value is trying to be set on a copy of a slice from a DataFrame\n",
      "\n",
      "See the caveats in the documentation: https://pandas.pydata.org/pandas-docs/stable/user_guide/indexing.html#returning-a-view-versus-a-copy\n",
      "  \n"
     ]
    }
   ],
   "source": [
    "#data = pd.read_csv('path/to/datafolder/data-full.csv')\n",
    "\n",
    "subset = data[['photo','date']] # get the photo and date columns\n",
    "subset['count'] = 1 # add a count column, because every row is one observation\n",
    "\n",
    "# loop over the dates and if the dates is not \"na\" extract the year\n",
    "subset['year'] = ''\n",
    "\n",
    "for c,i in enumerate(subset['date']):\n",
    "    \n",
    "    if \"na\" not in str(i):\n",
    "        year = str(i)[0:4]\n",
    "        subset['year'][c] = year\n",
    "    else:\n",
    "        subset['year'][c] = \"na\"\n",
    "        \n",
    "# Remove all observations with \"na\"\n",
    "subset = subset[~subset['year'].isin([\"na\",\"nan\"])]\n",
    "\n",
    "# Group by photo and year and add the values\n",
    "subset = subset.groupby(['photo','year']).sum().reset_index()\n"
   ]
  },
  {
   "cell_type": "code",
   "execution_count": 41,
   "metadata": {},
   "outputs": [
    {
     "data": {
      "image/png": "[encoded data removed]",
      "text/plain": [
       "<Figure size 720x432 with 1 Axes>"
      ]
     },
     "metadata": {
      "needs_background": "light"
     },
     "output_type": "display_data"
    }
   ],
   "source": [
    "'''\n",
    "Now we have a dataframe that has three columns: the name of the photo, the year and the webpage frequency. Now it is possible to plot the data.\n",
    "If you used only one photo you can simply plot the years against the frequency:\n",
    "'''\n",
    "p = subset.plot.bar(x='year',y='count',figsize=(10,6))\n",
    "plt.show()"
   ]
  },
  {
   "cell_type": "code",
   "execution_count": 42,
   "metadata": {},
   "outputs": [
    {
     "data": {
      "image/png": "[encoded data removed]",
      "text/plain": [
       "<Figure size 720x432 with 1 Axes>"
      ]
     },
     "metadata": {
      "needs_background": "light"
     },
     "output_type": "display_data"
    }
   ],
   "source": [
    "'''\n",
    "If you have multiple photos, mutate the dataframe in such a way that it has the following column structure:\n",
    "\n",
    "year | photo_name_1 | photo_name_2\n",
    "1999 | 4            | 55\n",
    "\n",
    "This operation also works if you have one photo, so you can safely run this cell\n",
    "'''\n",
    "\n",
    "subset = subset.pivot(index='year',columns='photo',values='count').reset_index()\n",
    "p = subset.plot.bar(x='year',y=list(subset.columns)[1:],figsize=(10,6))\n",
    "plt.show()"
   ]
  },
  {
   "cell_type": "markdown",
   "metadata": {},
   "source": [
    "# 2. Top Level Domains\n",
    "\n",
    "The URLs that refer to the pages were the image is found are highly specific. They consist of several compontents: \n",
    "- the \"http\" component that indicates the use of the Hypertext Transfer Protocol, a set of rules for web traffic\n",
    "- the \"www\" component that indicates that the page is on the World Wide Web\n",
    "- the \"top level domain\" (\"facebook\", \"bbc\", \"twitter\") the name of the website\n",
    "- a domain extension (\".nl\",\".com\") \n",
    "- a \"path\" that refers to specific data or pages on the website \n",
    "\n",
    "Especially the top level domains (TLDs) and the extensions can help in identifying frequently occuring websites. To extract the TLDS we use an existing URL-parser, a Python module that identifies the parts of the URL.\n",
    "\n",
    "To extract the TLDs we use something called \"list comprehension\". This is a very effective way of doing things with lists. Imagine the following list: ```[1,2,3,4,5]```, stored in the variable ```list1```. The list elements can be shown by doing ```[item for item in list1]```. Once we know this, we could also do ```[item + 1 for item in list1]```, which results in ```[2,3,4,5,6]```. In fact, we could do anything in this way. Below we use the ```URL.from_string(x).domain()``` function to extract the TLDs.\n",
    "\n",
    "Next, we use a very handy module called ```Counter()``` to get the most frequent TLDs."
   ]
  },
  {
   "cell_type": "code",
   "execution_count": 50,
   "metadata": {},
   "outputs": [
    {
     "data": {
      "text/plain": [
       "[('wikivisually.com', 6),\n",
       " ('twitter.com', 6),\n",
       " ('genius.com', 5),\n",
       " ('www.pinterest.com', 4),\n",
       " ('scalar.usc.edu', 4),\n",
       " ('www.liberties.eu', 4),\n",
       " ('www.revolvy.com', 4),\n",
       " ('m.dagospia.com', 4),\n",
       " ('gramho.com', 4),\n",
       " ('omonoianews.com', 3),\n",
       " ('www.tapatalk.com', 3),\n",
       " ('www.liberoquotidiano.it', 3),\n",
       " ('www.picuki.com', 2),\n",
       " ('bellerofonte.blogspot.com', 2),\n",
       " ('indicator.gr', 2)]"
      ]
     },
     "execution_count": 50,
     "metadata": {},
     "output_type": "execute_result"
    }
   ],
   "source": [
    "from collections import Counter\n",
    "\n",
    "tlds = [URL.from_string(u).domain() for u in list(set(data['url']))]\n",
    "Counter(tlds).most_common(15)"
   ]
  },
  {
   "cell_type": "markdown",
   "metadata": {},
   "source": [
    "# 3. Languages\n",
    "\n",
    "We already know something of the languages by looking at the extensions. A better way to look at the distribution of languages is identifying the language of the webpage text itself. Luckily, several Python modules are able to identify the language of a text. In the previous notebook, we used ```langid.classify()``` to identify languages. Since it is very fast, we repeat this here. Because the classifier also outputs the probability of a correct guess (which is always very high because we have lots of textual data) we have to select the first element from its output (```identifier.classify('example webpage text')[0]```)"
   ]
  },
  {
   "cell_type": "code",
   "execution_count": 61,
   "metadata": {},
   "outputs": [],
   "source": [
    "from langid.langid import LanguageIdentifier, model\n",
    "identifier = LanguageIdentifier.from_modelstring(model, norm_probs=True)\n",
    "\n",
    "data['language'] = [identifier.classify(x)[0] for x in list(data['sentences'])]"
   ]
  },
  {
   "cell_type": "code",
   "execution_count": 62,
   "metadata": {},
   "outputs": [
    {
     "data": {
      "text/plain": [
       "[('en', 57),\n",
       " ('it', 53),\n",
       " ('tr', 9),\n",
       " ('el', 8),\n",
       " ('es', 8),\n",
       " ('nl', 6),\n",
       " ('fr', 4),\n",
       " ('pt', 3),\n",
       " ('eo', 3),\n",
       " ('da', 1),\n",
       " ('ru', 1),\n",
       " ('bs', 1),\n",
       " ('de', 1),\n",
       " ('cs', 1),\n",
       " ('hu', 1)]"
      ]
     },
     "execution_count": 62,
     "metadata": {},
     "output_type": "execute_result"
    }
   ],
   "source": [
    "'''\n",
    "Now we use Counter() to find the language distribution\n",
    "'''\n",
    "\n",
    "Counter(list(data['language'])).most_common(15)"
   ]
  },
  {
   "cell_type": "markdown",
   "metadata": {},
   "source": [
    "# Text Analysis\n",
    "\n",
    "So far we have worked with the metadata. The contents of the webpages are also a valuable source of information. This is where we move into the area of text analysis. In this notebook we will work on the basic unit of text analysis: word counts.\n",
    "\n",
    "Before we can count words, we need to again reformat the data. This involves several steps:\n",
    "- removing the '||' separators we used in the parsing\n",
    "- splitting the web page text into tokens. Tokens are \"an instance of a sequence of characters in some particular document that are grouped together as a useful semantic unit for processing\" ([Stanford NLP](https://nlp.stanford.edu/IR-book/html/htmledition/tokenization-1.html)). This often translates into words, but a \".\" or a \"&\" is also identified as a token. For the tokenization of the data we use the powerful ```nltk``` (Natural Language Toolkit).\n",
    "\n",
    "Also, we cannot really compare words in multiple languages, so we first subset a dataset with a language of your choice (in the example it is italian, marked as 'it')"
   ]
  },
  {
   "cell_type": "code",
   "execution_count": 68,
   "metadata": {},
   "outputs": [],
   "source": [
    "import nltk"
   ]
  },
  {
   "cell_type": "code",
   "execution_count": 74,
   "metadata": {},
   "outputs": [
    {
     "data": {
      "text/plain": [
       "[(',', 2645),\n",
       " ('di', 1337),\n",
       " ('e', 825),\n",
       " ('che', 743),\n",
       " ('la', 618),\n",
       " ('in', 612),\n",
       " ('il', 592),\n",
       " ('’', 564),\n",
       " ('a', 557),\n",
       " ('un', 555),\n",
       " ('per', 504),\n",
       " ('non', 444),\n",
       " ('è', 414),\n",
       " ('del', 394),\n",
       " ('una', 324)]"
      ]
     },
     "execution_count": 74,
     "metadata": {},
     "output_type": "execute_result"
    }
   ],
   "source": [
    "texts_subset = data[data['language']=='it']['sentences']\n",
    "texts_subset = [t.replace('||','') for t in texts_subset]\n",
    "texts_subset = [nltk.word_tokenize(t) for t in texts_subset]\n",
    "\n",
    "# Merge all the webpages into one 'Bag of Words' using a more complex form of list comprehension (that 'flattens' a list of lists)\n",
    "subset_bow = [word for webpage in texts_subset for word in webpage]\n",
    "\n",
    "# find the most frequent words\n",
    "Counter(subset_bow).most_common(15)"
   ]
  },
  {
   "cell_type": "markdown",
   "metadata": {},
   "source": [
    "The words shown above do not come as a surprise. Words like 'the' and 'a' occur numerous times and do not tell us anything about the semantic content of the webpages. One way to come closer to the contents of the pages is to remove frequently occuring 'stopwords'. This can also be done with ```nltk```."
   ]
  },
  {
   "cell_type": "code",
   "execution_count": 80,
   "metadata": {},
   "outputs": [],
   "source": [
    "from nltk.corpus import stopwords\n",
    "subset_bow_nostops = [word for word in subset_bow if word not in stopwords.words('italian') and len(word) > 2]"
   ]
  },
  {
   "cell_type": "code",
   "execution_count": 81,
   "metadata": {},
   "outputs": [
    {
     "data": {
      "text/plain": [
       "[('stato', 119),\n",
       " ('giuliani', 113),\n",
       " ('carlo', 110),\n",
       " ('anni', 86),\n",
       " ('fatto', 82),\n",
       " ('due', 70),\n",
       " ('genova', 67),\n",
       " ('vita', 64),\n",
       " ('solo', 59),\n",
       " ('parte', 53),\n",
       " ('ancora', 52),\n",
       " ('fare', 50),\n",
       " ('dopo', 50),\n",
       " ('poi', 49),\n",
       " ('ordine', 49)]"
      ]
     },
     "execution_count": 81,
     "metadata": {},
     "output_type": "execute_result"
    }
   ],
   "source": [
    "Counter(subset_bow_nostops).most_common(15)"
   ]
  },
  {
   "cell_type": "markdown",
   "metadata": {},
   "source": [
    "The words that appear in the list after removing the stopwords are already more indicative of the contents of the webpage. Word frequencies are the building blocks of many other methods. Two of them are particularly useful and will be introduced in the remainder of this notebook.\n",
    "\n",
    "One useful measure is \"Term Frequency Inverted Document Frequency\" (TFIDF). This can be used to find words that are relevant in a particular document. "
   ]
  },
  {
   "cell_type": "code",
   "execution_count": null,
   "metadata": {},
   "outputs": [],
   "source": []
  }
 ],
 "metadata": {
  "kernelspec": {
   "display_name": "Python 3",
   "language": "python",
   "name": "python3"
  },
  "language_info": {
   "codemirror_mode": {
    "name": "ipython",
    "version": 3
   },
   "file_extension": ".py",
   "mimetype": "text/x-python",
   "name": "python",
   "nbconvert_exporter": "python",
   "pygments_lexer": "ipython3",
   "version": "3.7.4"
  }
 },
 "nbformat": 4,
 "nbformat_minor": 2
}
